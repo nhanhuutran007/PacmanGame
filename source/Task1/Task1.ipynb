{
  "cells": [
    {
      "cell_type": "code",
      "execution_count": 1,
      "metadata": {
        "id": "4cvKqUXI5zOH"
      },
      "outputs": [],
      "source": [
        "from copy import deepcopy\n",
        "from graphviz import Digraph\n",
        "import heapq\n",
        "import random\n",
        "from collections import deque"
      ]
    },
    {
      "cell_type": "code",
      "execution_count": 2,
      "metadata": {
        "id": "cxmgv6ApfcDg"
      },
      "outputs": [],
      "source": [
        "class Node:\n",
        "#Trạng thái ban đầu\n",
        "  def __init__(self, state, action=None, parent=None,cost=0, heuristic=0): #vua them thuoc tinh heu do ko chay code ko dc (23:03 14/10)\n",
        "    self.state = state\n",
        "    self.id = str(self)\n",
        "    self.action = action\n",
        "    self.parent = parent\n",
        "    self.cost=cost\n",
        "    self.ID= self.get_node_str()\n",
        "    self.heuristic = heuristic #vua them thuoc tinh heu do ko chay code ko dc (23:03 14/10)\n",
        "\n",
        "#Trạng thái đích\n",
        "  def is_goal(self):\n",
        "      goals = [\n",
        "          [[1,2,3],[4,5,6],[7,8,0]],\n",
        "          [[8,7,6],[5,4,3],[2,1,0]],\n",
        "          [[0,1,2],[3,4,5],[6,7,8]],\n",
        "          [[0,8,7],[6,5,4],[3,2,1]]\n",
        "      ]\n",
        "      return self.state in goals\n",
        "\n",
        "#Chuyển thành chuỗi\n",
        "  def __str__(self):\n",
        "    return \"\\n\".join(\" \".join(\"_\" if x == 0 else str(x) for x in row) for row in self.state)\n",
        "\n",
        "#Tìm vị trí ô 0\n",
        "  def get_blank_pos(self, state):\n",
        "      for i in range(3):\n",
        "        for j in range(3):\n",
        "          if state[i][j] == 0:\n",
        "            return i, j\n",
        "\n",
        "  def get_dest_pos(self, action, pi, pj):\n",
        "      if action == 'L':\n",
        "        pj += 1\n",
        "      if action == 'R':\n",
        "        pj -= 1\n",
        "      if action == 'U':\n",
        "        pi += 1\n",
        "      if action == 'D':\n",
        "        pi -= 1\n",
        "      return pi, pj\n",
        "\n",
        "  def get_successors(self):\n",
        "    successors = [] #Tạo list chứa các node con\n",
        "    actions = ['L', 'R', 'U', 'D']\n",
        "    for action in actions:\n",
        "      new_state = deepcopy(self.state)\n",
        "      moved_state = self.get_successor(action, new_state)\n",
        "      if moved_state is not None:\n",
        "        successors.append(Node(moved_state, action, self, self.cost + 1))\n",
        "    #Thêm vào các node đã swap\n",
        "    #successors.extend(self.swap())\n",
        "    if(self.parent is not None):\n",
        "          successors.extend(self.swap())\n",
        "    return successors\n",
        "\n",
        "\n",
        "  def get_successor(self, action, state):\n",
        "    pi, pj = self.get_blank_pos(state)\n",
        "    pi, pj = self.get_dest_pos(action, pi, pj)\n",
        "    if 0 <= pi and pi < 3 and 0 <= pj and pj < 3:\n",
        "      if action == 'L':\n",
        "        state[pi][pj - 1] = state[pi][pj]\n",
        "      if action == 'R':\n",
        "        state[pi][pj + 1] = state[pi][pj]\n",
        "      if action == 'U':\n",
        "        state[pi-1][pj] = state[pi][pj]\n",
        "      if action == 'D':\n",
        "        state[pi+1][pj] = state[pi][pj]\n",
        "      state[pi][pj] = 0\n",
        "      return state\n",
        "    return None\n",
        "\n",
        "  def get_id(self):\n",
        "    return self.id\n",
        "\n",
        "  def get_node_str(self):\n",
        "    return str(self)\n",
        "\n",
        "  def get_action(self):\n",
        "    return self.action\n",
        "\n",
        "  def swap(self):\n",
        "    successors = []\n",
        "    # Swap top-left <-> bottom-right\n",
        "    if self.state[0][0] != 0 and self.state[2][2] != 0:\n",
        "        new_state = deepcopy(self.state)\n",
        "        new_state[0][0], new_state[2][2] = new_state[2][2], new_state[0][0]\n",
        "        successors.append(Node(new_state, \"Corner swap\", self, self.cost + 1))\n",
        "    # Swap top-right <-> bottom-left\n",
        "    if self.state[0][2] != 0 and self.state[2][0] != 0:\n",
        "        new_state = deepcopy(self.state)\n",
        "        new_state[0][2], new_state[2][0] = new_state[2][0], new_state[0][2]\n",
        "        successors.append(Node(new_state, \"Corner swap\", self, self.cost + 1))\n",
        "\n",
        "    #Kiểm tra các cặp cạnh kề nhau\n",
        "    for i in range(3):\n",
        "      for j in range(3):\n",
        "        u=self.state[i][j]\n",
        "        if(u==0):\n",
        "          continue\n",
        "        for (ni, nj) in [(i-1,j), (i+1,j), (i,j-1), (i,j+1)]:\n",
        "          if 0 <= ni and ni < 3 and 0 <= nj and nj < 3:\n",
        "            v=self.state[ni][nj]\n",
        "            if v != 0 and v + u == 9:\n",
        "              s = deepcopy(self.state)\n",
        "              s[i][j], s[ni][nj] = s[ni][nj], s[i][j]\n",
        "              successors.append(Node(s, f\"Swap {u}_{v}\", self, self.cost + 1))\n",
        "    return successors\n",
        "\n",
        "  def __lt__(self,other): #Thiếu dấu gạch chân (14/10)\n",
        "    return self.cost < other.cost\n",
        "\n",
        "\n",
        "  def draw(self, dot):\n",
        "    dot.node(self.get_id(), self.get_node_str())\n",
        "    if self.parent is not None:\n",
        "      dot.edge(self.parent.get_id(), self.get_id(), self.get_action())\n",
        "\n",
        "#Hàm state ngẫu nhiên (10:30 16/10)\n",
        "  @staticmethod\n",
        "  def create_random_start():\n",
        "    numbers = list(range(9))\n",
        "    random.shuffle(numbers)\n",
        "    state = [numbers[i*3:(i+1)*3] for i in range(3)]\n",
        "    return Node(state)"
      ]
    },
    {
      "cell_type": "code",
      "execution_count": 3,
      "metadata": {
        "id": "As8e622cFToy"
      },
      "outputs": [],
      "source": [
        "class A_star:\n",
        "  def __init__(self, start_node, heuristic='manhattan'):\n",
        "    self.start_node = start_node\n",
        "    self.heuristic = heuristic\n",
        "\n",
        "    # chọn hàm heuristic\n",
        "    if heuristic == 'manhattan':\n",
        "        heuristic_func = self.heu_manhattan\n",
        "    else:\n",
        "        heuristic_func = self.heu_misplaced\n",
        "\n",
        "    # tính heuristic ban đầu\n",
        "    h_val = heuristic_func(self.start_node.state) #h(n)\n",
        "    self.start_node.heuristic = h_val #fix 17/10\n",
        "    self.heuristic_func = heuristic_func\n",
        "\n",
        "  def heu_manhattan(self, state):\n",
        "    Min_distance = None\n",
        "    goals = [\n",
        "          [[1,2,3],[4,5,6],[7,8,0]],\n",
        "          [[8,7,6],[5,4,3],[2,1,0]],\n",
        "          [[0,1,2],[3,4,5],[6,7,8]],\n",
        "          [[0,8,7],[6,5,4],[3,2,1]]\n",
        "      ]\n",
        "    for goal in goals:\n",
        "      distance = 0\n",
        "      for i in range(3):\n",
        "        for j in range(3):\n",
        "          val = state[i][j]\n",
        "          if val != 0:\n",
        "            for gi in range(3):\n",
        "              for gj in range(3):\n",
        "                if goal[gi][gj] == val:\n",
        "                    distance += abs(i - gi) + abs(j - gj)\n",
        "      if(Min_distance is None):\n",
        "        Min_distance = distance\n",
        "      elif(distance < Min_distance):\n",
        "        Min_distance = distance\n",
        "    # chỉnh sửa: chia 2 vì 1 swap có thể sửa 2 ô\n",
        "    return (Min_distance +1)//2\n",
        "\n",
        "  def count_misplaced(self, state, goal):\n",
        "    count = 0\n",
        "    for i in range(3):\n",
        "      for j in range(3):\n",
        "        if state[i][j] != goal[i][j] and state[i][j] != 0:\n",
        "          count += 1\n",
        "    return count\n",
        "\n",
        "  def heu_misplaced(self, state):\n",
        "    Min_misplaced = None\n",
        "    goals = [\n",
        "        [[1,2,3],[4,5,6],[7,8,0]],\n",
        "        [[8,7,6],[5,4,3],[2,1,0]],\n",
        "        [[0,1,2],[3,4,5],[6,7,8]],\n",
        "        [[0,8,7],[6,5,4],[3,2,1]]\n",
        "    ]\n",
        "    for goal in goals:\n",
        "      misplaced = self.count_misplaced(state, goal)\n",
        "      if(Min_misplaced is None):\n",
        "        Min_misplaced = misplaced\n",
        "      elif(misplaced <= Min_misplaced):\n",
        "        Min_misplaced = misplaced\n",
        "    # chỉnh sửa: chia 2 vì 1 swap có thể sửa 2 ô\n",
        "    return (Min_misplaced+1) //2\n",
        "\n",
        "  def reconstruct_path(self, node):\n",
        "    path = []\n",
        "    while node is not None:   # start_node.parent = None\n",
        "      path.append(node)\n",
        "      node = node.parent\n",
        "    path.reverse()\n",
        "    return path\n",
        "\n",
        "  def solve(self):\n",
        "    dot = Digraph()\n",
        "    frontier = []\n",
        "    explored = set()\n",
        "    node_explored = 0\n",
        "    if self.start_node.is_goal():   # kiểm tra ngay từ đầu\n",
        "      path = self.reconstruct_path(self.start_node)\n",
        "      return path, self.start_node.cost ,node_explored  #  return cả cost (17/10)\n",
        "\n",
        "    heapq.heappush(frontier, (self.start_node.cost + self.start_node.heuristic, self.start_node))\n",
        "    best_cost = {self.start_node.get_node_str(): self.start_node.cost}\n",
        "    while frontier:\n",
        "      f_value, current = heapq.heappop(frontier)  #Them bien f_value (23:06 14/10)\n",
        "      node_explored += 1\n",
        "      if current.is_goal():\n",
        "        path = self.reconstruct_path(current)\n",
        "        return path, current.cost,node_explored  #  return cost của solution (17/10)\n",
        "\n",
        "      if current.get_node_str() in explored:\n",
        "        continue\n",
        "\n",
        "      explored.add(current.get_node_str())\n",
        "      for child in current.get_successors():\n",
        "        state_str = child.get_node_str()\n",
        "        child.heuristic = self.heuristic_func(child.state)\n",
        "        total_cost = child.cost + child.heuristic #f(n)\n",
        "\n",
        "        if state_str not in best_cost or child.cost < best_cost[state_str]:\n",
        "          best_cost[state_str] = child.cost\n",
        "          heapq.heappush(frontier, (total_cost, child))\n",
        "    return None, None, node_explored\n"
      ]
    },
    {
      "cell_type": "code",
      "source": [
        "# TÁCH HEURISTIC RIÊNG RA KHỎI A STAR\n",
        "\n",
        "class Heuristic:\n",
        "    def __call__(self, state):\n",
        "        raise NotImplementedError(\"Phải override phương thức __call__()\")\n",
        "\n",
        "class ManhattanHeuristic(Heuristic):\n",
        "    goals = [\n",
        "        [[1,2,3],[4,5,6],[7,8,0]],\n",
        "        [[8,7,6],[5,4,3],[2,1,0]],\n",
        "        [[0,1,2],[3,4,5],[6,7,8]],\n",
        "        [[0,8,7],[6,5,4],[3,2,1]]\n",
        "    ]\n",
        "\n",
        "    def __call__(self, state):\n",
        "        min_distance = None\n",
        "        for goal in self.goals:\n",
        "            distance = 0\n",
        "            for i in range(3):\n",
        "                for j in range(3):\n",
        "                    val = state[i][j]\n",
        "                    if val != 0:\n",
        "                        for gi in range(3):\n",
        "                            for gj in range(3):\n",
        "                                if goal[gi][gj] == val:\n",
        "                                    distance += abs(i - gi) + abs(j - gj)\n",
        "            if min_distance is None or distance < min_distance:\n",
        "                min_distance = distance\n",
        "        return (min_distance + 1) // 2  # chia 2 vì 1 swap sửa 2 ô\n",
        "\n",
        "class MisplacedHeuristic(Heuristic):\n",
        "    goals = [\n",
        "        [[1,2,3],[4,5,6],[7,8,0]],\n",
        "        [[8,7,6],[5,4,3],[2,1,0]],\n",
        "        [[0,1,2],[3,4,5],[6,7,8]],\n",
        "        [[0,8,7],[6,5,4],[3,2,1]]\n",
        "    ]\n",
        "\n",
        "    def count_misplaced(self, state, goal):\n",
        "        count = 0\n",
        "        for i in range(3):\n",
        "            for j in range(3):\n",
        "                if state[i][j] != goal[i][j] and state[i][j] != 0:\n",
        "                    count += 1\n",
        "        return count\n",
        "\n",
        "    def __call__(self, state):\n",
        "        min_misplaced = None\n",
        "        for goal in self.goals:\n",
        "            misplaced = self.count_misplaced(state, goal)\n",
        "            if min_misplaced is None or misplaced <= min_misplaced:\n",
        "                min_misplaced = misplaced\n",
        "        return (min_misplaced + 1) // 2\n",
        "\n",
        "\n",
        "class A_star:\n",
        "    def __init__(self, start_node, heuristic: Heuristic):\n",
        "        self.start_node = start_node\n",
        "        self.heuristic = heuristic\n",
        "        self.start_node.heuristic = self.heuristic(self.start_node.state)\n",
        "\n",
        "    def reconstruct_path(self, node):\n",
        "        path = []\n",
        "        while node:\n",
        "            path.append(node)\n",
        "            node = node.parent\n",
        "        path.reverse()\n",
        "        return path\n",
        "\n",
        "    def solve(self):\n",
        "        frontier = []\n",
        "        explored = set()\n",
        "        node_explored = 0\n",
        "\n",
        "        if self.start_node.is_goal():\n",
        "            return self.reconstruct_path(self.start_node), self.start_node.cost, node_explored\n",
        "\n",
        "        heapq.heappush(frontier, (self.start_node.cost + self.start_node.heuristic, self.start_node))\n",
        "        best_cost = {self.start_node.get_node_str(): self.start_node.cost}\n",
        "\n",
        "        while frontier:\n",
        "            f_val, current = heapq.heappop(frontier)\n",
        "            node_explored += 1\n",
        "            if current.is_goal():\n",
        "                return self.reconstruct_path(current), current.cost, node_explored\n",
        "\n",
        "            if current.get_node_str() in explored:\n",
        "                continue\n",
        "\n",
        "            explored.add(current.get_node_str())\n",
        "            for child in current.get_successors():\n",
        "                child.heuristic = self.heuristic(child.state)\n",
        "                total_cost = child.cost + child.heuristic\n",
        "                state_str = child.get_node_str()\n",
        "                if state_str not in best_cost or child.cost < best_cost[state_str]:\n",
        "                    best_cost[state_str] = child.cost\n",
        "                    heapq.heappush(frontier, (total_cost, child))\n",
        "\n",
        "        return None, None, node_explored\n"
      ],
      "metadata": {
        "id": "xMRDVIGaBFH9"
      },
      "execution_count": 4,
      "outputs": []
    },
    {
      "cell_type": "code",
      "execution_count": 5,
      "metadata": {
        "id": "gz_7HQoyGDnX"
      },
      "outputs": [],
      "source": [
        "class BFS:\n",
        "    def __init__(self, start_node, max_limit=50000):\n",
        "        self.start_node = start_node\n",
        "        self.max_limit = max_limit\n",
        "\n",
        "    def solve(self):\n",
        "\n",
        "        if self.start_node.is_goal():\n",
        "            return [self.start_node], 0, 0\n",
        "\n",
        "        frontier = deque([self.start_node])\n",
        "        explored = set()\n",
        "        nodes_expanded = 0\n",
        "\n",
        "        while frontier:\n",
        "            current = frontier.popleft()\n",
        "            nodes_expanded += 1\n",
        "\n",
        "            if current.is_goal():\n",
        "                path = []\n",
        "                while current:\n",
        "                    path.append(current)\n",
        "                    current = current.parent\n",
        "                path.reverse()\n",
        "                return path, path[-1].cost, nodes_expanded\n",
        "\n",
        "            explored.add(current.get_node_str())\n",
        "            for child in current.get_successors():\n",
        "                if child.get_node_str() not in explored:\n",
        "                    frontier.append(child)\n",
        "\n",
        "        return None, None, nodes_expanded\n"
      ]
    },
    {
      "cell_type": "code",
      "execution_count": 6,
      "metadata": {
        "id": "YoyQmhpm24im"
      },
      "outputs": [],
      "source": [
        "\n",
        "\n",
        "\"\"\"\n",
        "def illustrate_search_tree(start_node, n, heuristic='manhattan'):\n",
        "    astar = A_star(start_node, heuristic)\n",
        "    dot = Digraph()\n",
        "    frontier = []\n",
        "    heapq.heappush(frontier, (start_node.cost + start_node.heuristic, start_node))\n",
        "    explored = set()\n",
        "    count = 0\n",
        "\n",
        "    while frontier and count < n:\n",
        "        f_value, current = heapq.heappop(frontier)\n",
        "        if current.get_node_str() in explored:\n",
        "            continue\n",
        "        explored.add(current.get_node_str())\n",
        "        current.draw(dot)   # thêm node vào đồ thị\n",
        "        count += 1\n",
        "\n",
        "        for child in current.get_successors():\n",
        "            child.heuristic = astar.heuristic_func(child.state)\n",
        "            total_cost = child.cost + child.heuristic\n",
        "            heapq.heappush(frontier, (total_cost, child))\n",
        "\n",
        "    return dot\n",
        "    \"\"\"\n",
        "\n",
        "def illustrate_search_tree(start_node, n, heuristic_obj):\n",
        "  astar = A_star(start_node, heuristic_obj)\n",
        "  dot = Digraph()\n",
        "  frontier = []\n",
        "  heapq.heappush(frontier, (start_node.cost + start_node.heuristic, start_node))\n",
        "  explored = set()\n",
        "  count = 0\n",
        "\n",
        "  while frontier and count < n:\n",
        "      f_value, current = heapq.heappop(frontier)\n",
        "      if current.get_node_str() in explored:\n",
        "          continue\n",
        "\n",
        "      explored.add(current.get_node_str())\n",
        "      current.draw(dot)   # thêm node vào đồ thị\n",
        "      count += 1\n",
        "\n",
        "      for child in current.get_successors():\n",
        "          child.heuristic = astar.heuristic(child.state)\n",
        "          total_cost = child.cost + child.heuristic\n",
        "          heapq.heappush(frontier, (total_cost, child))\n",
        "\n",
        "  return dot\n",
        "\n"
      ]
    },
    {
      "cell_type": "code",
      "execution_count": 7,
      "metadata": {
        "colab": {
          "base_uri": "https://localhost:8080/",
          "height": 468
        },
        "id": "CtQfjN7o3FK7",
        "outputId": "661c3c3e-1cdc-40b3-f8fb-7b1651eb847b"
      },
      "outputs": [
        {
          "output_type": "execute_result",
          "data": {
            "image/svg+xml": "<?xml version=\"1.0\" encoding=\"UTF-8\" standalone=\"no\"?>\n<!DOCTYPE svg PUBLIC \"-//W3C//DTD SVG 1.1//EN\"\n \"http://www.w3.org/Graphics/SVG/1.1/DTD/svg11.dtd\">\n<!-- Generated by graphviz version 2.43.0 (0)\n -->\n<!-- Title: %3 Pages: 1 -->\n<svg width=\"506pt\" height=\"335pt\"\n viewBox=\"0.00 0.00 506.11 334.86\" xmlns=\"http://www.w3.org/2000/svg\" xmlns:xlink=\"http://www.w3.org/1999/xlink\">\n<g id=\"graph0\" class=\"graph\" transform=\"scale(1 1) rotate(0) translate(4 330.86)\">\n<title>%3</title>\n<polygon fill=\"white\" stroke=\"transparent\" points=\"-4,4 -4,-330.86 502.11,-330.86 502.11,4 -4,4\"/>\n<!-- 5 6 1\n4 7 _\n2 3 8 -->\n<g id=\"node1\" class=\"node\">\n<title>5 6 1\n4 7 _\n2 3 8</title>\n<ellipse fill=\"none\" stroke=\"black\" cx=\"283.11\" cy=\"-289.38\" rx=\"31.23\" ry=\"37.45\"/>\n<text text-anchor=\"middle\" x=\"283.11\" y=\"-300.68\" font-family=\"Times,serif\" font-size=\"14.00\">5 6 1</text>\n<text text-anchor=\"middle\" x=\"283.11\" y=\"-285.68\" font-family=\"Times,serif\" font-size=\"14.00\">4 7 _</text>\n<text text-anchor=\"middle\" x=\"283.11\" y=\"-270.68\" font-family=\"Times,serif\" font-size=\"14.00\">2 3 8</text>\n</g>\n<!-- 5 6 1\n4 _ 7\n2 3 8 -->\n<g id=\"node2\" class=\"node\">\n<title>5 6 1\n4 _ 7\n2 3 8</title>\n<ellipse fill=\"none\" stroke=\"black\" cx=\"164.11\" cy=\"-163.43\" rx=\"31.23\" ry=\"37.45\"/>\n<text text-anchor=\"middle\" x=\"164.11\" y=\"-174.73\" font-family=\"Times,serif\" font-size=\"14.00\">5 6 1</text>\n<text text-anchor=\"middle\" x=\"164.11\" y=\"-159.73\" font-family=\"Times,serif\" font-size=\"14.00\">4 _ 7</text>\n<text text-anchor=\"middle\" x=\"164.11\" y=\"-144.73\" font-family=\"Times,serif\" font-size=\"14.00\">2 3 8</text>\n</g>\n<!-- 5 6 1\n4 7 _\n2 3 8&#45;&gt;5 6 1\n4 _ 7\n2 3 8 -->\n<g id=\"edge1\" class=\"edge\">\n<title>5 6 1\n4 7 _\n2 3 8&#45;&gt;5 6 1\n4 _ 7\n2 3 8</title>\n<path fill=\"none\" stroke=\"black\" d=\"M259.89,-264.19C241.13,-244.65 214.6,-217.01 194.21,-195.78\"/>\n<polygon fill=\"black\" stroke=\"black\" points=\"196.73,-193.35 187.28,-188.56 191.68,-198.2 196.73,-193.35\"/>\n<text text-anchor=\"middle\" x=\"235.11\" y=\"-222.71\" font-family=\"Times,serif\" font-size=\"14.00\">R</text>\n</g>\n<!-- 5 6 1\n4 7 8\n2 3 _ -->\n<g id=\"node3\" class=\"node\">\n<title>5 6 1\n4 7 8\n2 3 _</title>\n<ellipse fill=\"none\" stroke=\"black\" cx=\"283.11\" cy=\"-163.43\" rx=\"31.23\" ry=\"37.45\"/>\n<text text-anchor=\"middle\" x=\"283.11\" y=\"-174.73\" font-family=\"Times,serif\" font-size=\"14.00\">5 6 1</text>\n<text text-anchor=\"middle\" x=\"283.11\" y=\"-159.73\" font-family=\"Times,serif\" font-size=\"14.00\">4 7 8</text>\n<text text-anchor=\"middle\" x=\"283.11\" y=\"-144.73\" font-family=\"Times,serif\" font-size=\"14.00\">2 3 _</text>\n</g>\n<!-- 5 6 1\n4 7 _\n2 3 8&#45;&gt;5 6 1\n4 7 8\n2 3 _ -->\n<g id=\"edge2\" class=\"edge\">\n<title>5 6 1\n4 7 _\n2 3 8&#45;&gt;5 6 1\n4 7 8\n2 3 _</title>\n<path fill=\"none\" stroke=\"black\" d=\"M283.11,-251.86C283.11,-239.12 283.11,-224.63 283.11,-211.17\"/>\n<polygon fill=\"black\" stroke=\"black\" points=\"286.61,-211.12 283.11,-201.12 279.61,-211.12 286.61,-211.12\"/>\n<text text-anchor=\"middle\" x=\"288.11\" y=\"-222.71\" font-family=\"Times,serif\" font-size=\"14.00\">U</text>\n</g>\n<!-- 5 6 _\n4 7 1\n2 3 8 -->\n<g id=\"node4\" class=\"node\">\n<title>5 6 _\n4 7 1\n2 3 8</title>\n<ellipse fill=\"none\" stroke=\"black\" cx=\"363.11\" cy=\"-163.43\" rx=\"31.23\" ry=\"37.45\"/>\n<text text-anchor=\"middle\" x=\"363.11\" y=\"-174.73\" font-family=\"Times,serif\" font-size=\"14.00\">5 6 _</text>\n<text text-anchor=\"middle\" x=\"363.11\" y=\"-159.73\" font-family=\"Times,serif\" font-size=\"14.00\">4 7 1</text>\n<text text-anchor=\"middle\" x=\"363.11\" y=\"-144.73\" font-family=\"Times,serif\" font-size=\"14.00\">2 3 8</text>\n</g>\n<!-- 5 6 1\n4 7 _\n2 3 8&#45;&gt;5 6 _\n4 7 1\n2 3 8 -->\n<g id=\"edge3\" class=\"edge\">\n<title>5 6 1\n4 7 _\n2 3 8&#45;&gt;5 6 _\n4 7 1\n2 3 8</title>\n<path fill=\"none\" stroke=\"black\" d=\"M301.87,-259.32C312.82,-242.35 326.77,-220.74 338.59,-202.43\"/>\n<polygon fill=\"black\" stroke=\"black\" points=\"341.71,-204.04 344.2,-193.74 335.83,-200.24 341.71,-204.04\"/>\n<text text-anchor=\"middle\" x=\"332.11\" y=\"-222.71\" font-family=\"Times,serif\" font-size=\"14.00\">D</text>\n</g>\n<!-- 8 6 1\n4 _ 7\n2 3 5 -->\n<g id=\"node5\" class=\"node\">\n<title>8 6 1\n4 _ 7\n2 3 5</title>\n<ellipse fill=\"none\" stroke=\"black\" cx=\"31.11\" cy=\"-37.48\" rx=\"31.23\" ry=\"37.45\"/>\n<text text-anchor=\"middle\" x=\"31.11\" y=\"-48.78\" font-family=\"Times,serif\" font-size=\"14.00\">8 6 1</text>\n<text text-anchor=\"middle\" x=\"31.11\" y=\"-33.78\" font-family=\"Times,serif\" font-size=\"14.00\">4 _ 7</text>\n<text text-anchor=\"middle\" x=\"31.11\" y=\"-18.78\" font-family=\"Times,serif\" font-size=\"14.00\">2 3 5</text>\n</g>\n<!-- 5 6 1\n4 _ 7\n2 3 8&#45;&gt;8 6 1\n4 _ 7\n2 3 5 -->\n<g id=\"edge4\" class=\"edge\">\n<title>5 6 1\n4 _ 7\n2 3 8&#45;&gt;8 6 1\n4 _ 7\n2 3 5</title>\n<path fill=\"none\" stroke=\"black\" d=\"M133.3,-156.78C105.62,-150.04 66.06,-135.95 44.11,-107.95 38.95,-101.36 35.61,-93.35 33.5,-85.14\"/>\n<polygon fill=\"black\" stroke=\"black\" points=\"36.88,-84.22 31.48,-75.11 30.02,-85.6 36.88,-84.22\"/>\n<text text-anchor=\"middle\" x=\"79.11\" y=\"-96.75\" font-family=\"Times,serif\" font-size=\"14.00\">Corner swap</text>\n</g>\n<!-- 4 6 1\n5 _ 7\n2 3 8 -->\n<g id=\"node7\" class=\"node\">\n<title>4 6 1\n5 _ 7\n2 3 8</title>\n<ellipse fill=\"none\" stroke=\"black\" cx=\"123.11\" cy=\"-37.48\" rx=\"31.23\" ry=\"37.45\"/>\n<text text-anchor=\"middle\" x=\"123.11\" y=\"-48.78\" font-family=\"Times,serif\" font-size=\"14.00\">4 6 1</text>\n<text text-anchor=\"middle\" x=\"123.11\" y=\"-33.78\" font-family=\"Times,serif\" font-size=\"14.00\">5 _ 7</text>\n<text text-anchor=\"middle\" x=\"123.11\" y=\"-18.78\" font-family=\"Times,serif\" font-size=\"14.00\">2 3 8</text>\n</g>\n<!-- 5 6 1\n4 _ 7\n2 3 8&#45;&gt;4 6 1\n5 _ 7\n2 3 8 -->\n<g id=\"edge6\" class=\"edge\">\n<title>5 6 1\n4 _ 7\n2 3 8&#45;&gt;4 6 1\n5 _ 7\n2 3 8</title>\n<path fill=\"none\" stroke=\"black\" d=\"M140.4,-138.72C133.07,-129.83 125.93,-119.14 122.11,-107.95 119.62,-100.65 118.44,-92.66 118.07,-84.78\"/>\n<polygon fill=\"black\" stroke=\"black\" points=\"121.57,-84.53 118,-74.55 114.57,-84.57 121.57,-84.53\"/>\n<text text-anchor=\"middle\" x=\"149.61\" y=\"-96.75\" font-family=\"Times,serif\" font-size=\"14.00\">Swap 4_5</text>\n</g>\n<!-- 5 6 1\n_ 4 7\n2 3 8 -->\n<g id=\"node9\" class=\"node\">\n<title>5 6 1\n_ 4 7\n2 3 8</title>\n<ellipse fill=\"none\" stroke=\"black\" cx=\"203.11\" cy=\"-37.48\" rx=\"31.23\" ry=\"37.45\"/>\n<text text-anchor=\"middle\" x=\"203.11\" y=\"-48.78\" font-family=\"Times,serif\" font-size=\"14.00\">5 6 1</text>\n<text text-anchor=\"middle\" x=\"203.11\" y=\"-33.78\" font-family=\"Times,serif\" font-size=\"14.00\">_ 4 7</text>\n<text text-anchor=\"middle\" x=\"203.11\" y=\"-18.78\" font-family=\"Times,serif\" font-size=\"14.00\">2 3 8</text>\n</g>\n<!-- 5 6 1\n4 _ 7\n2 3 8&#45;&gt;5 6 1\n_ 4 7\n2 3 8 -->\n<g id=\"edge8\" class=\"edge\">\n<title>5 6 1\n4 _ 7\n2 3 8&#45;&gt;5 6 1\n_ 4 7\n2 3 8</title>\n<path fill=\"none\" stroke=\"black\" d=\"M174.87,-128.23C179.31,-114.12 184.51,-97.59 189.23,-82.59\"/>\n<polygon fill=\"black\" stroke=\"black\" points=\"192.59,-83.58 192.25,-72.99 185.91,-81.48 192.59,-83.58\"/>\n<text text-anchor=\"middle\" x=\"190.11\" y=\"-96.75\" font-family=\"Times,serif\" font-size=\"14.00\">R</text>\n</g>\n<!-- 4 6 1\n5 7 8\n2 3 _ -->\n<g id=\"node6\" class=\"node\">\n<title>4 6 1\n5 7 8\n2 3 _</title>\n<ellipse fill=\"none\" stroke=\"black\" cx=\"283.11\" cy=\"-37.48\" rx=\"31.23\" ry=\"37.45\"/>\n<text text-anchor=\"middle\" x=\"283.11\" y=\"-48.78\" font-family=\"Times,serif\" font-size=\"14.00\">4 6 1</text>\n<text text-anchor=\"middle\" x=\"283.11\" y=\"-33.78\" font-family=\"Times,serif\" font-size=\"14.00\">5 7 8</text>\n<text text-anchor=\"middle\" x=\"283.11\" y=\"-18.78\" font-family=\"Times,serif\" font-size=\"14.00\">2 3 _</text>\n</g>\n<!-- 5 6 1\n4 7 8\n2 3 _&#45;&gt;4 6 1\n5 7 8\n2 3 _ -->\n<g id=\"edge5\" class=\"edge\">\n<title>5 6 1\n4 7 8\n2 3 _&#45;&gt;4 6 1\n5 7 8\n2 3 _</title>\n<path fill=\"none\" stroke=\"black\" d=\"M283.11,-125.91C283.11,-113.16 283.11,-98.68 283.11,-85.21\"/>\n<polygon fill=\"black\" stroke=\"black\" points=\"286.61,-85.16 283.11,-75.16 279.61,-85.16 286.61,-85.16\"/>\n<text text-anchor=\"middle\" x=\"310.61\" y=\"-96.75\" font-family=\"Times,serif\" font-size=\"14.00\">Swap 4_5</text>\n</g>\n<!-- 4 6 _\n5 7 1\n2 3 8 -->\n<g id=\"node8\" class=\"node\">\n<title>4 6 _\n5 7 1\n2 3 8</title>\n<ellipse fill=\"none\" stroke=\"black\" cx=\"363.11\" cy=\"-37.48\" rx=\"31.23\" ry=\"37.45\"/>\n<text text-anchor=\"middle\" x=\"363.11\" y=\"-48.78\" font-family=\"Times,serif\" font-size=\"14.00\">4 6 _</text>\n<text text-anchor=\"middle\" x=\"363.11\" y=\"-33.78\" font-family=\"Times,serif\" font-size=\"14.00\">5 7 1</text>\n<text text-anchor=\"middle\" x=\"363.11\" y=\"-18.78\" font-family=\"Times,serif\" font-size=\"14.00\">2 3 8</text>\n</g>\n<!-- 5 6 _\n4 7 1\n2 3 8&#45;&gt;4 6 _\n5 7 1\n2 3 8 -->\n<g id=\"edge7\" class=\"edge\">\n<title>5 6 _\n4 7 1\n2 3 8&#45;&gt;4 6 _\n5 7 1\n2 3 8</title>\n<path fill=\"none\" stroke=\"black\" d=\"M363.11,-125.91C363.11,-113.16 363.11,-98.68 363.11,-85.21\"/>\n<polygon fill=\"black\" stroke=\"black\" points=\"366.61,-85.16 363.11,-75.16 359.61,-85.16 366.61,-85.16\"/>\n<text text-anchor=\"middle\" x=\"390.61\" y=\"-96.75\" font-family=\"Times,serif\" font-size=\"14.00\">Swap 4_5</text>\n</g>\n<!-- 8 6 _\n4 7 1\n2 3 5 -->\n<g id=\"node10\" class=\"node\">\n<title>8 6 _\n4 7 1\n2 3 5</title>\n<ellipse fill=\"none\" stroke=\"black\" cx=\"443.11\" cy=\"-37.48\" rx=\"31.23\" ry=\"37.45\"/>\n<text text-anchor=\"middle\" x=\"443.11\" y=\"-48.78\" font-family=\"Times,serif\" font-size=\"14.00\">8 6 _</text>\n<text text-anchor=\"middle\" x=\"443.11\" y=\"-33.78\" font-family=\"Times,serif\" font-size=\"14.00\">4 7 1</text>\n<text text-anchor=\"middle\" x=\"443.11\" y=\"-18.78\" font-family=\"Times,serif\" font-size=\"14.00\">2 3 5</text>\n</g>\n<!-- 5 6 _\n4 7 1\n2 3 8&#45;&gt;8 6 _\n4 7 1\n2 3 5 -->\n<g id=\"edge9\" class=\"edge\">\n<title>5 6 _\n4 7 1\n2 3 8&#45;&gt;8 6 _\n4 7 1\n2 3 5</title>\n<path fill=\"none\" stroke=\"black\" d=\"M389.4,-142.79C400.52,-133.33 412.8,-121.17 421.11,-107.95 425.76,-100.56 429.5,-92.11 432.49,-83.7\"/>\n<polygon fill=\"black\" stroke=\"black\" points=\"435.91,-84.52 435.65,-73.92 429.25,-82.36 435.91,-84.52\"/>\n<text text-anchor=\"middle\" x=\"463.11\" y=\"-96.75\" font-family=\"Times,serif\" font-size=\"14.00\">Corner swap</text>\n</g>\n</g>\n</svg>\n",
            "text/plain": [
              "<graphviz.graphs.Digraph at 0x7b4cc688b080>"
            ]
          },
          "metadata": {},
          "execution_count": 7
        }
      ],
      "source": [
        "#  TEST TÁCH HEU\n",
        "start_state = Node.create_random_start()\n",
        "#start_state = [[1,5,4],[0,3,6],[2,8,7]]\n",
        "\n",
        "heuristic = ManhattanHeuristic()  # hoặc MisplacedHeuristic()\n",
        "heuristic_2 = MisplacedHeuristic()\n",
        "\n",
        "\n",
        "dot = illustrate_search_tree(start_state, 10, heuristic_obj= heuristic_2)\n",
        "\n",
        "dot\n"
      ]
    },
    {
      "cell_type": "code",
      "execution_count": 8,
      "metadata": {
        "colab": {
          "base_uri": "https://localhost:8080/",
          "height": 468
        },
        "id": "2m1RvfAY60BP",
        "outputId": "31fb7df1-efc0-4865-cc40-ff4ab6723ee9"
      },
      "outputs": [
        {
          "output_type": "execute_result",
          "data": {
            "image/svg+xml": "<?xml version=\"1.0\" encoding=\"UTF-8\" standalone=\"no\"?>\n<!DOCTYPE svg PUBLIC \"-//W3C//DTD SVG 1.1//EN\"\n \"http://www.w3.org/Graphics/SVG/1.1/DTD/svg11.dtd\">\n<!-- Generated by graphviz version 2.43.0 (0)\n -->\n<!-- Title: %3 Pages: 1 -->\n<svg width=\"521pt\" height=\"335pt\"\n viewBox=\"0.00 0.00 521.11 334.86\" xmlns=\"http://www.w3.org/2000/svg\" xmlns:xlink=\"http://www.w3.org/1999/xlink\">\n<g id=\"graph0\" class=\"graph\" transform=\"scale(1 1) rotate(0) translate(4 330.86)\">\n<title>%3</title>\n<polygon fill=\"white\" stroke=\"transparent\" points=\"-4,4 -4,-330.86 517.11,-330.86 517.11,4 -4,4\"/>\n<!-- 7 8 3\n4 5 1\n6 _ 2 -->\n<g id=\"node1\" class=\"node\">\n<title>7 8 3\n4 5 1\n6 _ 2</title>\n<ellipse fill=\"none\" stroke=\"black\" cx=\"322.11\" cy=\"-289.38\" rx=\"31.23\" ry=\"37.45\"/>\n<text text-anchor=\"middle\" x=\"322.11\" y=\"-300.68\" font-family=\"Times,serif\" font-size=\"14.00\">7 8 3</text>\n<text text-anchor=\"middle\" x=\"322.11\" y=\"-285.68\" font-family=\"Times,serif\" font-size=\"14.00\">4 5 1</text>\n<text text-anchor=\"middle\" x=\"322.11\" y=\"-270.68\" font-family=\"Times,serif\" font-size=\"14.00\">6 _ 2</text>\n</g>\n<!-- 7 8 3\n4 5 1\n6 2 _ -->\n<g id=\"node2\" class=\"node\">\n<title>7 8 3\n4 5 1\n6 2 _</title>\n<ellipse fill=\"none\" stroke=\"black\" cx=\"164.11\" cy=\"-163.43\" rx=\"31.23\" ry=\"37.45\"/>\n<text text-anchor=\"middle\" x=\"164.11\" y=\"-174.73\" font-family=\"Times,serif\" font-size=\"14.00\">7 8 3</text>\n<text text-anchor=\"middle\" x=\"164.11\" y=\"-159.73\" font-family=\"Times,serif\" font-size=\"14.00\">4 5 1</text>\n<text text-anchor=\"middle\" x=\"164.11\" y=\"-144.73\" font-family=\"Times,serif\" font-size=\"14.00\">6 2 _</text>\n</g>\n<!-- 7 8 3\n4 5 1\n6 _ 2&#45;&gt;7 8 3\n4 5 1\n6 2 _ -->\n<g id=\"edge1\" class=\"edge\">\n<title>7 8 3\n4 5 1\n6 _ 2&#45;&gt;7 8 3\n4 5 1\n6 2 _</title>\n<path fill=\"none\" stroke=\"black\" d=\"M296.38,-268.19C269.52,-247.12 227.29,-213.99 197.8,-190.86\"/>\n<polygon fill=\"black\" stroke=\"black\" points=\"199.87,-188.03 189.84,-184.61 195.55,-193.54 199.87,-188.03\"/>\n<text text-anchor=\"middle\" x=\"256.61\" y=\"-222.71\" font-family=\"Times,serif\" font-size=\"14.00\">L</text>\n</g>\n<!-- 7 8 3\n4 5 1\n_ 6 2 -->\n<g id=\"node4\" class=\"node\">\n<title>7 8 3\n4 5 1\n_ 6 2</title>\n<ellipse fill=\"none\" stroke=\"black\" cx=\"322.11\" cy=\"-163.43\" rx=\"31.23\" ry=\"37.45\"/>\n<text text-anchor=\"middle\" x=\"322.11\" y=\"-174.73\" font-family=\"Times,serif\" font-size=\"14.00\">7 8 3</text>\n<text text-anchor=\"middle\" x=\"322.11\" y=\"-159.73\" font-family=\"Times,serif\" font-size=\"14.00\">4 5 1</text>\n<text text-anchor=\"middle\" x=\"322.11\" y=\"-144.73\" font-family=\"Times,serif\" font-size=\"14.00\">_ 6 2</text>\n</g>\n<!-- 7 8 3\n4 5 1\n6 _ 2&#45;&gt;7 8 3\n4 5 1\n_ 6 2 -->\n<g id=\"edge3\" class=\"edge\">\n<title>7 8 3\n4 5 1\n6 _ 2&#45;&gt;7 8 3\n4 5 1\n_ 6 2</title>\n<path fill=\"none\" stroke=\"black\" d=\"M322.11,-251.86C322.11,-239.12 322.11,-224.63 322.11,-211.17\"/>\n<polygon fill=\"black\" stroke=\"black\" points=\"325.61,-211.12 322.11,-201.12 318.61,-211.12 325.61,-211.12\"/>\n<text text-anchor=\"middle\" x=\"327.11\" y=\"-222.71\" font-family=\"Times,serif\" font-size=\"14.00\">R</text>\n</g>\n<!-- 7 8 3\n4 _ 1\n6 5 2 -->\n<g id=\"node5\" class=\"node\">\n<title>7 8 3\n4 _ 1\n6 5 2</title>\n<ellipse fill=\"none\" stroke=\"black\" cx=\"428.11\" cy=\"-163.43\" rx=\"31.23\" ry=\"37.45\"/>\n<text text-anchor=\"middle\" x=\"428.11\" y=\"-174.73\" font-family=\"Times,serif\" font-size=\"14.00\">7 8 3</text>\n<text text-anchor=\"middle\" x=\"428.11\" y=\"-159.73\" font-family=\"Times,serif\" font-size=\"14.00\">4 _ 1</text>\n<text text-anchor=\"middle\" x=\"428.11\" y=\"-144.73\" font-family=\"Times,serif\" font-size=\"14.00\">6 5 2</text>\n</g>\n<!-- 7 8 3\n4 5 1\n6 _ 2&#45;&gt;7 8 3\n4 _ 1\n6 5 2 -->\n<g id=\"edge4\" class=\"edge\">\n<title>7 8 3\n4 5 1\n6 _ 2&#45;&gt;7 8 3\n4 _ 1\n6 5 2</title>\n<path fill=\"none\" stroke=\"black\" d=\"M344.08,-262.7C360.14,-243.92 382.07,-218.27 399.5,-197.89\"/>\n<polygon fill=\"black\" stroke=\"black\" points=\"402.34,-199.96 406.18,-190.08 397.02,-195.41 402.34,-199.96\"/>\n<text text-anchor=\"middle\" x=\"386.11\" y=\"-222.71\" font-family=\"Times,serif\" font-size=\"14.00\">D</text>\n</g>\n<!-- 7 8 6\n4 5 1\n3 2 _ -->\n<g id=\"node3\" class=\"node\">\n<title>7 8 6\n4 5 1\n3 2 _</title>\n<ellipse fill=\"none\" stroke=\"black\" cx=\"31.11\" cy=\"-37.48\" rx=\"31.23\" ry=\"37.45\"/>\n<text text-anchor=\"middle\" x=\"31.11\" y=\"-48.78\" font-family=\"Times,serif\" font-size=\"14.00\">7 8 6</text>\n<text text-anchor=\"middle\" x=\"31.11\" y=\"-33.78\" font-family=\"Times,serif\" font-size=\"14.00\">4 5 1</text>\n<text text-anchor=\"middle\" x=\"31.11\" y=\"-18.78\" font-family=\"Times,serif\" font-size=\"14.00\">3 2 _</text>\n</g>\n<!-- 7 8 3\n4 5 1\n6 2 _&#45;&gt;7 8 6\n4 5 1\n3 2 _ -->\n<g id=\"edge2\" class=\"edge\">\n<title>7 8 3\n4 5 1\n6 2 _&#45;&gt;7 8 6\n4 5 1\n3 2 _</title>\n<path fill=\"none\" stroke=\"black\" d=\"M133.3,-156.78C105.62,-150.04 66.06,-135.95 44.11,-107.95 38.95,-101.36 35.61,-93.35 33.5,-85.14\"/>\n<polygon fill=\"black\" stroke=\"black\" points=\"36.88,-84.22 31.48,-75.11 30.02,-85.6 36.88,-84.22\"/>\n<text text-anchor=\"middle\" x=\"79.11\" y=\"-96.75\" font-family=\"Times,serif\" font-size=\"14.00\">Corner swap</text>\n</g>\n<!-- 7 8 3\n5 4 1\n6 2 _ -->\n<g id=\"node6\" class=\"node\">\n<title>7 8 3\n5 4 1\n6 2 _</title>\n<ellipse fill=\"none\" stroke=\"black\" cx=\"123.11\" cy=\"-37.48\" rx=\"31.23\" ry=\"37.45\"/>\n<text text-anchor=\"middle\" x=\"123.11\" y=\"-48.78\" font-family=\"Times,serif\" font-size=\"14.00\">7 8 3</text>\n<text text-anchor=\"middle\" x=\"123.11\" y=\"-33.78\" font-family=\"Times,serif\" font-size=\"14.00\">5 4 1</text>\n<text text-anchor=\"middle\" x=\"123.11\" y=\"-18.78\" font-family=\"Times,serif\" font-size=\"14.00\">6 2 _</text>\n</g>\n<!-- 7 8 3\n4 5 1\n6 2 _&#45;&gt;7 8 3\n5 4 1\n6 2 _ -->\n<g id=\"edge5\" class=\"edge\">\n<title>7 8 3\n4 5 1\n6 2 _&#45;&gt;7 8 3\n5 4 1\n6 2 _</title>\n<path fill=\"none\" stroke=\"black\" d=\"M140.4,-138.72C133.07,-129.83 125.93,-119.14 122.11,-107.95 119.62,-100.65 118.44,-92.66 118.07,-84.78\"/>\n<polygon fill=\"black\" stroke=\"black\" points=\"121.57,-84.53 118,-74.55 114.57,-84.57 121.57,-84.53\"/>\n<text text-anchor=\"middle\" x=\"149.61\" y=\"-96.75\" font-family=\"Times,serif\" font-size=\"14.00\">Swap 4_5</text>\n</g>\n<!-- 7 8 3\n4 5 _\n6 2 1 -->\n<g id=\"node10\" class=\"node\">\n<title>7 8 3\n4 5 _\n6 2 1</title>\n<ellipse fill=\"none\" stroke=\"black\" cx=\"203.11\" cy=\"-37.48\" rx=\"31.23\" ry=\"37.45\"/>\n<text text-anchor=\"middle\" x=\"203.11\" y=\"-48.78\" font-family=\"Times,serif\" font-size=\"14.00\">7 8 3</text>\n<text text-anchor=\"middle\" x=\"203.11\" y=\"-33.78\" font-family=\"Times,serif\" font-size=\"14.00\">4 5 _</text>\n<text text-anchor=\"middle\" x=\"203.11\" y=\"-18.78\" font-family=\"Times,serif\" font-size=\"14.00\">6 2 1</text>\n</g>\n<!-- 7 8 3\n4 5 1\n6 2 _&#45;&gt;7 8 3\n4 5 _\n6 2 1 -->\n<g id=\"edge9\" class=\"edge\">\n<title>7 8 3\n4 5 1\n6 2 _&#45;&gt;7 8 3\n4 5 _\n6 2 1</title>\n<path fill=\"none\" stroke=\"black\" d=\"M174.87,-128.23C179.31,-114.12 184.51,-97.59 189.23,-82.59\"/>\n<polygon fill=\"black\" stroke=\"black\" points=\"192.59,-83.58 192.25,-72.99 185.91,-81.48 192.59,-83.58\"/>\n<text text-anchor=\"middle\" x=\"190.11\" y=\"-96.75\" font-family=\"Times,serif\" font-size=\"14.00\">D</text>\n</g>\n<!-- 7 8 3\n5 4 1\n_ 6 2 -->\n<g id=\"node7\" class=\"node\">\n<title>7 8 3\n5 4 1\n_ 6 2</title>\n<ellipse fill=\"none\" stroke=\"black\" cx=\"283.11\" cy=\"-37.48\" rx=\"31.23\" ry=\"37.45\"/>\n<text text-anchor=\"middle\" x=\"283.11\" y=\"-48.78\" font-family=\"Times,serif\" font-size=\"14.00\">7 8 3</text>\n<text text-anchor=\"middle\" x=\"283.11\" y=\"-33.78\" font-family=\"Times,serif\" font-size=\"14.00\">5 4 1</text>\n<text text-anchor=\"middle\" x=\"283.11\" y=\"-18.78\" font-family=\"Times,serif\" font-size=\"14.00\">_ 6 2</text>\n</g>\n<!-- 7 8 3\n4 5 1\n_ 6 2&#45;&gt;7 8 3\n5 4 1\n_ 6 2 -->\n<g id=\"edge6\" class=\"edge\">\n<title>7 8 3\n4 5 1\n_ 6 2&#45;&gt;7 8 3\n5 4 1\n_ 6 2</title>\n<path fill=\"none\" stroke=\"black\" d=\"M300.19,-136.6C294.16,-128.03 288.38,-118.07 285.11,-107.95 282.76,-100.69 281.45,-92.77 280.81,-84.97\"/>\n<polygon fill=\"black\" stroke=\"black\" points=\"284.3,-84.66 280.32,-74.84 277.31,-84.99 284.3,-84.66\"/>\n<text text-anchor=\"middle\" x=\"312.61\" y=\"-96.75\" font-family=\"Times,serif\" font-size=\"14.00\">Swap 4_5</text>\n</g>\n<!-- 2 8 3\n4 5 1\n_ 6 7 -->\n<g id=\"node8\" class=\"node\">\n<title>2 8 3\n4 5 1\n_ 6 7</title>\n<ellipse fill=\"none\" stroke=\"black\" cx=\"363.11\" cy=\"-37.48\" rx=\"31.23\" ry=\"37.45\"/>\n<text text-anchor=\"middle\" x=\"363.11\" y=\"-48.78\" font-family=\"Times,serif\" font-size=\"14.00\">2 8 3</text>\n<text text-anchor=\"middle\" x=\"363.11\" y=\"-33.78\" font-family=\"Times,serif\" font-size=\"14.00\">4 5 1</text>\n<text text-anchor=\"middle\" x=\"363.11\" y=\"-18.78\" font-family=\"Times,serif\" font-size=\"14.00\">_ 6 7</text>\n</g>\n<!-- 7 8 3\n4 5 1\n_ 6 2&#45;&gt;2 8 3\n4 5 1\n_ 6 7 -->\n<g id=\"edge7\" class=\"edge\">\n<title>7 8 3\n4 5 1\n_ 6 2&#45;&gt;2 8 3\n4 5 1\n_ 6 7</title>\n<path fill=\"none\" stroke=\"black\" d=\"M333.42,-128.23C338.13,-114.01 343.65,-97.32 348.64,-82.22\"/>\n<polygon fill=\"black\" stroke=\"black\" points=\"352.02,-83.16 351.84,-72.56 345.37,-80.96 352.02,-83.16\"/>\n<text text-anchor=\"middle\" x=\"379.11\" y=\"-96.75\" font-family=\"Times,serif\" font-size=\"14.00\">Corner swap</text>\n</g>\n<!-- 7 8 6\n4 _ 1\n3 5 2 -->\n<g id=\"node9\" class=\"node\">\n<title>7 8 6\n4 _ 1\n3 5 2</title>\n<ellipse fill=\"none\" stroke=\"black\" cx=\"455.11\" cy=\"-37.48\" rx=\"31.23\" ry=\"37.45\"/>\n<text text-anchor=\"middle\" x=\"455.11\" y=\"-48.78\" font-family=\"Times,serif\" font-size=\"14.00\">7 8 6</text>\n<text text-anchor=\"middle\" x=\"455.11\" y=\"-33.78\" font-family=\"Times,serif\" font-size=\"14.00\">4 _ 1</text>\n<text text-anchor=\"middle\" x=\"455.11\" y=\"-18.78\" font-family=\"Times,serif\" font-size=\"14.00\">3 5 2</text>\n</g>\n<!-- 7 8 3\n4 _ 1\n6 5 2&#45;&gt;7 8 6\n4 _ 1\n3 5 2 -->\n<g id=\"edge8\" class=\"edge\">\n<title>7 8 3\n4 _ 1\n6 5 2&#45;&gt;7 8 6\n4 _ 1\n3 5 2</title>\n<path fill=\"none\" stroke=\"black\" d=\"M435.85,-126.91C438.76,-113.55 442.11,-98.18 445.19,-84.04\"/>\n<polygon fill=\"black\" stroke=\"black\" points=\"448.67,-84.52 447.37,-74 441.83,-83.03 448.67,-84.52\"/>\n<text text-anchor=\"middle\" x=\"478.11\" y=\"-96.75\" font-family=\"Times,serif\" font-size=\"14.00\">Corner swap</text>\n</g>\n</g>\n</svg>\n",
            "text/plain": [
              "<graphviz.graphs.Digraph at 0x7b4cc6889700>"
            ]
          },
          "metadata": {},
          "execution_count": 8
        }
      ],
      "source": [
        "#TEST TÁCH HEU\n",
        "\n",
        "start_state = Node.create_random_start()\n",
        "heuristic = ManhattanHeuristic()\n",
        "dot = illustrate_search_tree(start_state, 10, heuristic_obj= heuristic)\n",
        "dot"
      ]
    },
    {
      "cell_type": "code",
      "execution_count": 9,
      "metadata": {
        "colab": {
          "base_uri": "https://localhost:8080/",
          "height": 1000
        },
        "id": "iidOS10SyKL7",
        "outputId": "01400c68-d0d1-42bb-80c8-8a65c28370ee"
      },
      "outputs": [
        {
          "output_type": "stream",
          "name": "stdout",
          "text": [
            "Chi phi : 7\n",
            "Do dai duong di : 8\n",
            "So node duoc kiem tra : 142\n"
          ]
        },
        {
          "output_type": "execute_result",
          "data": {
            "image/svg+xml": "<?xml version=\"1.0\" encoding=\"UTF-8\" standalone=\"no\"?>\n<!DOCTYPE svg PUBLIC \"-//W3C//DTD SVG 1.1//EN\"\n \"http://www.w3.org/Graphics/SVG/1.1/DTD/svg11.dtd\">\n<!-- Generated by graphviz version 2.43.0 (0)\n -->\n<!-- Title: %3 Pages: 1 -->\n<svg width=\"109pt\" height=\"965pt\"\n viewBox=\"0.00 0.00 109.11 964.63\" xmlns=\"http://www.w3.org/2000/svg\" xmlns:xlink=\"http://www.w3.org/1999/xlink\">\n<g id=\"graph0\" class=\"graph\" transform=\"scale(1 1) rotate(0) translate(4 960.63)\">\n<title>%3</title>\n<polygon fill=\"white\" stroke=\"transparent\" points=\"-4,4 -4,-960.63 105.11,-960.63 105.11,4 -4,4\"/>\n<!-- 1 2 3\n4 5 8\n_ 7 6 -->\n<g id=\"node1\" class=\"node\">\n<title>1 2 3\n4 5 8\n_ 7 6</title>\n<ellipse fill=\"none\" stroke=\"black\" cx=\"31.11\" cy=\"-919.15\" rx=\"31.23\" ry=\"37.45\"/>\n<text text-anchor=\"middle\" x=\"31.11\" y=\"-930.45\" font-family=\"Times,serif\" font-size=\"14.00\">1 2 3</text>\n<text text-anchor=\"middle\" x=\"31.11\" y=\"-915.45\" font-family=\"Times,serif\" font-size=\"14.00\">4 5 8</text>\n<text text-anchor=\"middle\" x=\"31.11\" y=\"-900.45\" font-family=\"Times,serif\" font-size=\"14.00\">_ 7 6</text>\n</g>\n<!-- 1 2 3\n4 5 8\n7 _ 6 -->\n<g id=\"node2\" class=\"node\">\n<title>1 2 3\n4 5 8\n7 _ 6</title>\n<ellipse fill=\"none\" stroke=\"black\" cx=\"31.11\" cy=\"-793.2\" rx=\"31.23\" ry=\"37.45\"/>\n<text text-anchor=\"middle\" x=\"31.11\" y=\"-804.5\" font-family=\"Times,serif\" font-size=\"14.00\">1 2 3</text>\n<text text-anchor=\"middle\" x=\"31.11\" y=\"-789.5\" font-family=\"Times,serif\" font-size=\"14.00\">4 5 8</text>\n<text text-anchor=\"middle\" x=\"31.11\" y=\"-774.5\" font-family=\"Times,serif\" font-size=\"14.00\">7 _ 6</text>\n</g>\n<!-- 1 2 3\n4 5 8\n_ 7 6&#45;&gt;1 2 3\n4 5 8\n7 _ 6 -->\n<g id=\"edge1\" class=\"edge\">\n<title>1 2 3\n4 5 8\n_ 7 6&#45;&gt;1 2 3\n4 5 8\n7 _ 6</title>\n<path fill=\"none\" stroke=\"black\" d=\"M31.11,-881.63C31.11,-868.88 31.11,-854.4 31.11,-840.93\"/>\n<polygon fill=\"black\" stroke=\"black\" points=\"34.61,-840.88 31.11,-830.88 27.61,-840.88 34.61,-840.88\"/>\n<text text-anchor=\"middle\" x=\"35.61\" y=\"-852.47\" font-family=\"Times,serif\" font-size=\"14.00\">L</text>\n</g>\n<!-- 6 2 3\n4 5 8\n7 _ 1 -->\n<g id=\"node3\" class=\"node\">\n<title>6 2 3\n4 5 8\n7 _ 1</title>\n<ellipse fill=\"none\" stroke=\"black\" cx=\"31.11\" cy=\"-667.24\" rx=\"31.23\" ry=\"37.45\"/>\n<text text-anchor=\"middle\" x=\"31.11\" y=\"-678.54\" font-family=\"Times,serif\" font-size=\"14.00\">6 2 3</text>\n<text text-anchor=\"middle\" x=\"31.11\" y=\"-663.54\" font-family=\"Times,serif\" font-size=\"14.00\">4 5 8</text>\n<text text-anchor=\"middle\" x=\"31.11\" y=\"-648.54\" font-family=\"Times,serif\" font-size=\"14.00\">7 _ 1</text>\n</g>\n<!-- 1 2 3\n4 5 8\n7 _ 6&#45;&gt;6 2 3\n4 5 8\n7 _ 1 -->\n<g id=\"edge2\" class=\"edge\">\n<title>1 2 3\n4 5 8\n7 _ 6&#45;&gt;6 2 3\n4 5 8\n7 _ 1</title>\n<path fill=\"none\" stroke=\"black\" d=\"M31.11,-755.68C31.11,-742.93 31.11,-728.44 31.11,-714.98\"/>\n<polygon fill=\"black\" stroke=\"black\" points=\"34.61,-714.93 31.11,-704.93 27.61,-714.93 34.61,-714.93\"/>\n<text text-anchor=\"middle\" x=\"66.11\" y=\"-726.52\" font-family=\"Times,serif\" font-size=\"14.00\">Corner swap</text>\n</g>\n<!-- 6 2 3\n4 5 1\n7 _ 8 -->\n<g id=\"node4\" class=\"node\">\n<title>6 2 3\n4 5 1\n7 _ 8</title>\n<ellipse fill=\"none\" stroke=\"black\" cx=\"31.11\" cy=\"-541.29\" rx=\"31.23\" ry=\"37.45\"/>\n<text text-anchor=\"middle\" x=\"31.11\" y=\"-552.59\" font-family=\"Times,serif\" font-size=\"14.00\">6 2 3</text>\n<text text-anchor=\"middle\" x=\"31.11\" y=\"-537.59\" font-family=\"Times,serif\" font-size=\"14.00\">4 5 1</text>\n<text text-anchor=\"middle\" x=\"31.11\" y=\"-522.59\" font-family=\"Times,serif\" font-size=\"14.00\">7 _ 8</text>\n</g>\n<!-- 6 2 3\n4 5 8\n7 _ 1&#45;&gt;6 2 3\n4 5 1\n7 _ 8 -->\n<g id=\"edge3\" class=\"edge\">\n<title>6 2 3\n4 5 8\n7 _ 1&#45;&gt;6 2 3\n4 5 1\n7 _ 8</title>\n<path fill=\"none\" stroke=\"black\" d=\"M31.11,-629.72C31.11,-616.98 31.11,-602.49 31.11,-589.03\"/>\n<polygon fill=\"black\" stroke=\"black\" points=\"34.61,-588.98 31.11,-578.98 27.61,-588.98 34.61,-588.98\"/>\n<text text-anchor=\"middle\" x=\"58.61\" y=\"-600.57\" font-family=\"Times,serif\" font-size=\"14.00\">Swap 8_1</text>\n</g>\n<!-- 6 2 3\n4 5 1\n7 8 _ -->\n<g id=\"node5\" class=\"node\">\n<title>6 2 3\n4 5 1\n7 8 _</title>\n<ellipse fill=\"none\" stroke=\"black\" cx=\"31.11\" cy=\"-415.34\" rx=\"31.23\" ry=\"37.45\"/>\n<text text-anchor=\"middle\" x=\"31.11\" y=\"-426.64\" font-family=\"Times,serif\" font-size=\"14.00\">6 2 3</text>\n<text text-anchor=\"middle\" x=\"31.11\" y=\"-411.64\" font-family=\"Times,serif\" font-size=\"14.00\">4 5 1</text>\n<text text-anchor=\"middle\" x=\"31.11\" y=\"-396.64\" font-family=\"Times,serif\" font-size=\"14.00\">7 8 _</text>\n</g>\n<!-- 6 2 3\n4 5 1\n7 _ 8&#45;&gt;6 2 3\n4 5 1\n7 8 _ -->\n<g id=\"edge4\" class=\"edge\">\n<title>6 2 3\n4 5 1\n7 _ 8&#45;&gt;6 2 3\n4 5 1\n7 8 _</title>\n<path fill=\"none\" stroke=\"black\" d=\"M31.11,-503.77C31.11,-491.02 31.11,-476.54 31.11,-463.07\"/>\n<polygon fill=\"black\" stroke=\"black\" points=\"34.61,-463.02 31.11,-453.02 27.61,-463.02 34.61,-463.02\"/>\n<text text-anchor=\"middle\" x=\"35.61\" y=\"-474.61\" font-family=\"Times,serif\" font-size=\"14.00\">L</text>\n</g>\n<!-- 6 2 3\n4 5 _\n7 8 1 -->\n<g id=\"node6\" class=\"node\">\n<title>6 2 3\n4 5 _\n7 8 1</title>\n<ellipse fill=\"none\" stroke=\"black\" cx=\"31.11\" cy=\"-289.38\" rx=\"31.23\" ry=\"37.45\"/>\n<text text-anchor=\"middle\" x=\"31.11\" y=\"-300.68\" font-family=\"Times,serif\" font-size=\"14.00\">6 2 3</text>\n<text text-anchor=\"middle\" x=\"31.11\" y=\"-285.68\" font-family=\"Times,serif\" font-size=\"14.00\">4 5 _</text>\n<text text-anchor=\"middle\" x=\"31.11\" y=\"-270.68\" font-family=\"Times,serif\" font-size=\"14.00\">7 8 1</text>\n</g>\n<!-- 6 2 3\n4 5 1\n7 8 _&#45;&gt;6 2 3\n4 5 _\n7 8 1 -->\n<g id=\"edge5\" class=\"edge\">\n<title>6 2 3\n4 5 1\n7 8 _&#45;&gt;6 2 3\n4 5 _\n7 8 1</title>\n<path fill=\"none\" stroke=\"black\" d=\"M31.11,-377.82C31.11,-365.07 31.11,-350.58 31.11,-337.12\"/>\n<polygon fill=\"black\" stroke=\"black\" points=\"34.61,-337.07 31.11,-327.07 27.61,-337.07 34.61,-337.07\"/>\n<text text-anchor=\"middle\" x=\"36.11\" y=\"-348.66\" font-family=\"Times,serif\" font-size=\"14.00\">D</text>\n</g>\n<!-- 1 2 3\n4 5 _\n7 8 6 -->\n<g id=\"node7\" class=\"node\">\n<title>1 2 3\n4 5 _\n7 8 6</title>\n<ellipse fill=\"none\" stroke=\"black\" cx=\"31.11\" cy=\"-163.43\" rx=\"31.23\" ry=\"37.45\"/>\n<text text-anchor=\"middle\" x=\"31.11\" y=\"-174.73\" font-family=\"Times,serif\" font-size=\"14.00\">1 2 3</text>\n<text text-anchor=\"middle\" x=\"31.11\" y=\"-159.73\" font-family=\"Times,serif\" font-size=\"14.00\">4 5 _</text>\n<text text-anchor=\"middle\" x=\"31.11\" y=\"-144.73\" font-family=\"Times,serif\" font-size=\"14.00\">7 8 6</text>\n</g>\n<!-- 6 2 3\n4 5 _\n7 8 1&#45;&gt;1 2 3\n4 5 _\n7 8 6 -->\n<g id=\"edge6\" class=\"edge\">\n<title>6 2 3\n4 5 _\n7 8 1&#45;&gt;1 2 3\n4 5 _\n7 8 6</title>\n<path fill=\"none\" stroke=\"black\" d=\"M31.11,-251.86C31.11,-239.12 31.11,-224.63 31.11,-211.17\"/>\n<polygon fill=\"black\" stroke=\"black\" points=\"34.61,-211.12 31.11,-201.12 27.61,-211.12 34.61,-211.12\"/>\n<text text-anchor=\"middle\" x=\"66.11\" y=\"-222.71\" font-family=\"Times,serif\" font-size=\"14.00\">Corner swap</text>\n</g>\n<!-- 1 2 3\n4 5 6\n7 8 _ -->\n<g id=\"node8\" class=\"node\">\n<title>1 2 3\n4 5 6\n7 8 _</title>\n<ellipse fill=\"none\" stroke=\"black\" cx=\"31.11\" cy=\"-37.48\" rx=\"31.23\" ry=\"37.45\"/>\n<text text-anchor=\"middle\" x=\"31.11\" y=\"-48.78\" font-family=\"Times,serif\" font-size=\"14.00\">1 2 3</text>\n<text text-anchor=\"middle\" x=\"31.11\" y=\"-33.78\" font-family=\"Times,serif\" font-size=\"14.00\">4 5 6</text>\n<text text-anchor=\"middle\" x=\"31.11\" y=\"-18.78\" font-family=\"Times,serif\" font-size=\"14.00\">7 8 _</text>\n</g>\n<!-- 1 2 3\n4 5 _\n7 8 6&#45;&gt;1 2 3\n4 5 6\n7 8 _ -->\n<g id=\"edge7\" class=\"edge\">\n<title>1 2 3\n4 5 _\n7 8 6&#45;&gt;1 2 3\n4 5 6\n7 8 _</title>\n<path fill=\"none\" stroke=\"black\" d=\"M31.11,-125.91C31.11,-113.16 31.11,-98.68 31.11,-85.21\"/>\n<polygon fill=\"black\" stroke=\"black\" points=\"34.61,-85.16 31.11,-75.16 27.61,-85.16 34.61,-85.16\"/>\n<text text-anchor=\"middle\" x=\"36.11\" y=\"-96.75\" font-family=\"Times,serif\" font-size=\"14.00\">U</text>\n</g>\n</g>\n</svg>\n",
            "text/plain": [
              "<graphviz.graphs.Digraph at 0x7b4cc688bc20>"
            ]
          },
          "metadata": {},
          "execution_count": 9
        }
      ],
      "source": [
        "#TEST TACH HEU\n",
        "\n",
        "start_state = [[8,2,3],[4,5,6],[7,0,1]]\n",
        "#4 7 2\n",
        "#8 5 1\n",
        "#_ 3 6\n",
        "start_state_2 = [[1,2,3],\n",
        "               [4,5,8],\n",
        "               [0,7,6]]\n",
        "heuristic = ManhattanHeuristic()\n",
        "solver = A_star(Node(start_state_2), heuristic)\n",
        "path,cost,num = solver.solve()\n",
        "print(\"Chi phi :\", cost)\n",
        "print(\"Do dai duong di :\", len(path))\n",
        "print(\"So node duoc kiem tra :\", num)\n",
        "dot = Digraph()\n",
        "for node in path:\n",
        "    node.draw(dot)\n",
        "dot\n",
        "\n"
      ]
    },
    {
      "cell_type": "code",
      "execution_count": 13,
      "metadata": {
        "colab": {
          "base_uri": "https://localhost:8080/",
          "height": 1000
        },
        "id": "5-_YNfGw7tOw",
        "outputId": "73d772ff-1c20-4718-fd2d-8e2d4e80699c"
      },
      "outputs": [
        {
          "output_type": "stream",
          "name": "stdout",
          "text": [
            "Chi phi : 7\n",
            "Do dai duong di : 8\n",
            "So node duoc kiem tra : 142\n"
          ]
        },
        {
          "output_type": "execute_result",
          "data": {
            "image/svg+xml": "<?xml version=\"1.0\" encoding=\"UTF-8\" standalone=\"no\"?>\n<!DOCTYPE svg PUBLIC \"-//W3C//DTD SVG 1.1//EN\"\n \"http://www.w3.org/Graphics/SVG/1.1/DTD/svg11.dtd\">\n<!-- Generated by graphviz version 2.43.0 (0)\n -->\n<!-- Title: %3 Pages: 1 -->\n<svg width=\"109pt\" height=\"965pt\"\n viewBox=\"0.00 0.00 109.11 964.63\" xmlns=\"http://www.w3.org/2000/svg\" xmlns:xlink=\"http://www.w3.org/1999/xlink\">\n<g id=\"graph0\" class=\"graph\" transform=\"scale(1 1) rotate(0) translate(4 960.63)\">\n<title>%3</title>\n<polygon fill=\"white\" stroke=\"transparent\" points=\"-4,4 -4,-960.63 105.11,-960.63 105.11,4 -4,4\"/>\n<!-- 1 2 3\n4 5 8\n_ 7 6 -->\n<g id=\"node1\" class=\"node\">\n<title>1 2 3\n4 5 8\n_ 7 6</title>\n<ellipse fill=\"none\" stroke=\"black\" cx=\"31.11\" cy=\"-919.15\" rx=\"31.23\" ry=\"37.45\"/>\n<text text-anchor=\"middle\" x=\"31.11\" y=\"-930.45\" font-family=\"Times,serif\" font-size=\"14.00\">1 2 3</text>\n<text text-anchor=\"middle\" x=\"31.11\" y=\"-915.45\" font-family=\"Times,serif\" font-size=\"14.00\">4 5 8</text>\n<text text-anchor=\"middle\" x=\"31.11\" y=\"-900.45\" font-family=\"Times,serif\" font-size=\"14.00\">_ 7 6</text>\n</g>\n<!-- 1 2 3\n4 5 8\n7 _ 6 -->\n<g id=\"node2\" class=\"node\">\n<title>1 2 3\n4 5 8\n7 _ 6</title>\n<ellipse fill=\"none\" stroke=\"black\" cx=\"31.11\" cy=\"-793.2\" rx=\"31.23\" ry=\"37.45\"/>\n<text text-anchor=\"middle\" x=\"31.11\" y=\"-804.5\" font-family=\"Times,serif\" font-size=\"14.00\">1 2 3</text>\n<text text-anchor=\"middle\" x=\"31.11\" y=\"-789.5\" font-family=\"Times,serif\" font-size=\"14.00\">4 5 8</text>\n<text text-anchor=\"middle\" x=\"31.11\" y=\"-774.5\" font-family=\"Times,serif\" font-size=\"14.00\">7 _ 6</text>\n</g>\n<!-- 1 2 3\n4 5 8\n_ 7 6&#45;&gt;1 2 3\n4 5 8\n7 _ 6 -->\n<g id=\"edge1\" class=\"edge\">\n<title>1 2 3\n4 5 8\n_ 7 6&#45;&gt;1 2 3\n4 5 8\n7 _ 6</title>\n<path fill=\"none\" stroke=\"black\" d=\"M31.11,-881.63C31.11,-868.88 31.11,-854.4 31.11,-840.93\"/>\n<polygon fill=\"black\" stroke=\"black\" points=\"34.61,-840.88 31.11,-830.88 27.61,-840.88 34.61,-840.88\"/>\n<text text-anchor=\"middle\" x=\"35.61\" y=\"-852.47\" font-family=\"Times,serif\" font-size=\"14.00\">L</text>\n</g>\n<!-- 6 2 3\n4 5 8\n7 _ 1 -->\n<g id=\"node3\" class=\"node\">\n<title>6 2 3\n4 5 8\n7 _ 1</title>\n<ellipse fill=\"none\" stroke=\"black\" cx=\"31.11\" cy=\"-667.24\" rx=\"31.23\" ry=\"37.45\"/>\n<text text-anchor=\"middle\" x=\"31.11\" y=\"-678.54\" font-family=\"Times,serif\" font-size=\"14.00\">6 2 3</text>\n<text text-anchor=\"middle\" x=\"31.11\" y=\"-663.54\" font-family=\"Times,serif\" font-size=\"14.00\">4 5 8</text>\n<text text-anchor=\"middle\" x=\"31.11\" y=\"-648.54\" font-family=\"Times,serif\" font-size=\"14.00\">7 _ 1</text>\n</g>\n<!-- 1 2 3\n4 5 8\n7 _ 6&#45;&gt;6 2 3\n4 5 8\n7 _ 1 -->\n<g id=\"edge2\" class=\"edge\">\n<title>1 2 3\n4 5 8\n7 _ 6&#45;&gt;6 2 3\n4 5 8\n7 _ 1</title>\n<path fill=\"none\" stroke=\"black\" d=\"M31.11,-755.68C31.11,-742.93 31.11,-728.44 31.11,-714.98\"/>\n<polygon fill=\"black\" stroke=\"black\" points=\"34.61,-714.93 31.11,-704.93 27.61,-714.93 34.61,-714.93\"/>\n<text text-anchor=\"middle\" x=\"66.11\" y=\"-726.52\" font-family=\"Times,serif\" font-size=\"14.00\">Corner swap</text>\n</g>\n<!-- 6 2 3\n4 5 1\n7 _ 8 -->\n<g id=\"node4\" class=\"node\">\n<title>6 2 3\n4 5 1\n7 _ 8</title>\n<ellipse fill=\"none\" stroke=\"black\" cx=\"31.11\" cy=\"-541.29\" rx=\"31.23\" ry=\"37.45\"/>\n<text text-anchor=\"middle\" x=\"31.11\" y=\"-552.59\" font-family=\"Times,serif\" font-size=\"14.00\">6 2 3</text>\n<text text-anchor=\"middle\" x=\"31.11\" y=\"-537.59\" font-family=\"Times,serif\" font-size=\"14.00\">4 5 1</text>\n<text text-anchor=\"middle\" x=\"31.11\" y=\"-522.59\" font-family=\"Times,serif\" font-size=\"14.00\">7 _ 8</text>\n</g>\n<!-- 6 2 3\n4 5 8\n7 _ 1&#45;&gt;6 2 3\n4 5 1\n7 _ 8 -->\n<g id=\"edge3\" class=\"edge\">\n<title>6 2 3\n4 5 8\n7 _ 1&#45;&gt;6 2 3\n4 5 1\n7 _ 8</title>\n<path fill=\"none\" stroke=\"black\" d=\"M31.11,-629.72C31.11,-616.98 31.11,-602.49 31.11,-589.03\"/>\n<polygon fill=\"black\" stroke=\"black\" points=\"34.61,-588.98 31.11,-578.98 27.61,-588.98 34.61,-588.98\"/>\n<text text-anchor=\"middle\" x=\"58.61\" y=\"-600.57\" font-family=\"Times,serif\" font-size=\"14.00\">Swap 8_1</text>\n</g>\n<!-- 6 2 3\n4 5 1\n7 8 _ -->\n<g id=\"node5\" class=\"node\">\n<title>6 2 3\n4 5 1\n7 8 _</title>\n<ellipse fill=\"none\" stroke=\"black\" cx=\"31.11\" cy=\"-415.34\" rx=\"31.23\" ry=\"37.45\"/>\n<text text-anchor=\"middle\" x=\"31.11\" y=\"-426.64\" font-family=\"Times,serif\" font-size=\"14.00\">6 2 3</text>\n<text text-anchor=\"middle\" x=\"31.11\" y=\"-411.64\" font-family=\"Times,serif\" font-size=\"14.00\">4 5 1</text>\n<text text-anchor=\"middle\" x=\"31.11\" y=\"-396.64\" font-family=\"Times,serif\" font-size=\"14.00\">7 8 _</text>\n</g>\n<!-- 6 2 3\n4 5 1\n7 _ 8&#45;&gt;6 2 3\n4 5 1\n7 8 _ -->\n<g id=\"edge4\" class=\"edge\">\n<title>6 2 3\n4 5 1\n7 _ 8&#45;&gt;6 2 3\n4 5 1\n7 8 _</title>\n<path fill=\"none\" stroke=\"black\" d=\"M31.11,-503.77C31.11,-491.02 31.11,-476.54 31.11,-463.07\"/>\n<polygon fill=\"black\" stroke=\"black\" points=\"34.61,-463.02 31.11,-453.02 27.61,-463.02 34.61,-463.02\"/>\n<text text-anchor=\"middle\" x=\"35.61\" y=\"-474.61\" font-family=\"Times,serif\" font-size=\"14.00\">L</text>\n</g>\n<!-- 6 2 3\n4 5 _\n7 8 1 -->\n<g id=\"node6\" class=\"node\">\n<title>6 2 3\n4 5 _\n7 8 1</title>\n<ellipse fill=\"none\" stroke=\"black\" cx=\"31.11\" cy=\"-289.38\" rx=\"31.23\" ry=\"37.45\"/>\n<text text-anchor=\"middle\" x=\"31.11\" y=\"-300.68\" font-family=\"Times,serif\" font-size=\"14.00\">6 2 3</text>\n<text text-anchor=\"middle\" x=\"31.11\" y=\"-285.68\" font-family=\"Times,serif\" font-size=\"14.00\">4 5 _</text>\n<text text-anchor=\"middle\" x=\"31.11\" y=\"-270.68\" font-family=\"Times,serif\" font-size=\"14.00\">7 8 1</text>\n</g>\n<!-- 6 2 3\n4 5 1\n7 8 _&#45;&gt;6 2 3\n4 5 _\n7 8 1 -->\n<g id=\"edge5\" class=\"edge\">\n<title>6 2 3\n4 5 1\n7 8 _&#45;&gt;6 2 3\n4 5 _\n7 8 1</title>\n<path fill=\"none\" stroke=\"black\" d=\"M31.11,-377.82C31.11,-365.07 31.11,-350.58 31.11,-337.12\"/>\n<polygon fill=\"black\" stroke=\"black\" points=\"34.61,-337.07 31.11,-327.07 27.61,-337.07 34.61,-337.07\"/>\n<text text-anchor=\"middle\" x=\"36.11\" y=\"-348.66\" font-family=\"Times,serif\" font-size=\"14.00\">D</text>\n</g>\n<!-- 1 2 3\n4 5 _\n7 8 6 -->\n<g id=\"node7\" class=\"node\">\n<title>1 2 3\n4 5 _\n7 8 6</title>\n<ellipse fill=\"none\" stroke=\"black\" cx=\"31.11\" cy=\"-163.43\" rx=\"31.23\" ry=\"37.45\"/>\n<text text-anchor=\"middle\" x=\"31.11\" y=\"-174.73\" font-family=\"Times,serif\" font-size=\"14.00\">1 2 3</text>\n<text text-anchor=\"middle\" x=\"31.11\" y=\"-159.73\" font-family=\"Times,serif\" font-size=\"14.00\">4 5 _</text>\n<text text-anchor=\"middle\" x=\"31.11\" y=\"-144.73\" font-family=\"Times,serif\" font-size=\"14.00\">7 8 6</text>\n</g>\n<!-- 6 2 3\n4 5 _\n7 8 1&#45;&gt;1 2 3\n4 5 _\n7 8 6 -->\n<g id=\"edge6\" class=\"edge\">\n<title>6 2 3\n4 5 _\n7 8 1&#45;&gt;1 2 3\n4 5 _\n7 8 6</title>\n<path fill=\"none\" stroke=\"black\" d=\"M31.11,-251.86C31.11,-239.12 31.11,-224.63 31.11,-211.17\"/>\n<polygon fill=\"black\" stroke=\"black\" points=\"34.61,-211.12 31.11,-201.12 27.61,-211.12 34.61,-211.12\"/>\n<text text-anchor=\"middle\" x=\"66.11\" y=\"-222.71\" font-family=\"Times,serif\" font-size=\"14.00\">Corner swap</text>\n</g>\n<!-- 1 2 3\n4 5 6\n7 8 _ -->\n<g id=\"node8\" class=\"node\">\n<title>1 2 3\n4 5 6\n7 8 _</title>\n<ellipse fill=\"none\" stroke=\"black\" cx=\"31.11\" cy=\"-37.48\" rx=\"31.23\" ry=\"37.45\"/>\n<text text-anchor=\"middle\" x=\"31.11\" y=\"-48.78\" font-family=\"Times,serif\" font-size=\"14.00\">1 2 3</text>\n<text text-anchor=\"middle\" x=\"31.11\" y=\"-33.78\" font-family=\"Times,serif\" font-size=\"14.00\">4 5 6</text>\n<text text-anchor=\"middle\" x=\"31.11\" y=\"-18.78\" font-family=\"Times,serif\" font-size=\"14.00\">7 8 _</text>\n</g>\n<!-- 1 2 3\n4 5 _\n7 8 6&#45;&gt;1 2 3\n4 5 6\n7 8 _ -->\n<g id=\"edge7\" class=\"edge\">\n<title>1 2 3\n4 5 _\n7 8 6&#45;&gt;1 2 3\n4 5 6\n7 8 _</title>\n<path fill=\"none\" stroke=\"black\" d=\"M31.11,-125.91C31.11,-113.16 31.11,-98.68 31.11,-85.21\"/>\n<polygon fill=\"black\" stroke=\"black\" points=\"34.61,-85.16 31.11,-75.16 27.61,-85.16 34.61,-85.16\"/>\n<text text-anchor=\"middle\" x=\"36.11\" y=\"-96.75\" font-family=\"Times,serif\" font-size=\"14.00\">U</text>\n</g>\n</g>\n</svg>\n",
            "text/plain": [
              "<graphviz.graphs.Digraph at 0x7b4cc6889610>"
            ]
          },
          "metadata": {},
          "execution_count": 13
        }
      ],
      "source": [
        "start_state = [[8,2,3],[4,5,6],[7,0,1]]\n",
        "\n",
        "start_state_2 = [[1,2,3],\n",
        "               [4,5,8],\n",
        "               [0,7,6]]\n",
        "solver = A_star(Node(start_state_2), heuristic=ManhattanHeuristic())\n",
        "path,cost,num = solver.solve()\n",
        "print(\"Chi phi :\", cost)\n",
        "print(\"Do dai duong di :\", len(path))\n",
        "print(\"So node duoc kiem tra :\", num)\n",
        "dot = Digraph()\n",
        "for node in path:\n",
        "    node.draw(dot)\n",
        "dot"
      ]
    },
    {
      "cell_type": "code",
      "execution_count": 15,
      "metadata": {
        "colab": {
          "base_uri": "https://localhost:8080/",
          "height": 1000
        },
        "id": "XLOxhoQAffqD",
        "outputId": "93e3a58c-99c4-4055-fd5a-1dca1c807bb7"
      },
      "outputs": [
        {
          "output_type": "stream",
          "name": "stdout",
          "text": [
            "Cost: 14\n"
          ]
        },
        {
          "output_type": "execute_result",
          "data": {
            "image/svg+xml": "<?xml version=\"1.0\" encoding=\"UTF-8\" standalone=\"no\"?>\n<!DOCTYPE svg PUBLIC \"-//W3C//DTD SVG 1.1//EN\"\n \"http://www.w3.org/Graphics/SVG/1.1/DTD/svg11.dtd\">\n<!-- Generated by graphviz version 2.43.0 (0)\n -->\n<!-- Title: %3 Pages: 1 -->\n<svg width=\"109pt\" height=\"1846pt\"\n viewBox=\"0.00 0.00 109.11 1846.30\" xmlns=\"http://www.w3.org/2000/svg\" xmlns:xlink=\"http://www.w3.org/1999/xlink\">\n<g id=\"graph0\" class=\"graph\" transform=\"scale(1 1) rotate(0) translate(4 1842.3)\">\n<title>%3</title>\n<polygon fill=\"white\" stroke=\"transparent\" points=\"-4,4 -4,-1842.3 105.11,-1842.3 105.11,4 -4,4\"/>\n<!-- 5 3 4\n7 _ 2\n8 1 6 -->\n<g id=\"node1\" class=\"node\">\n<title>5 3 4\n7 _ 2\n8 1 6</title>\n<ellipse fill=\"none\" stroke=\"black\" cx=\"31.11\" cy=\"-1800.82\" rx=\"31.23\" ry=\"37.45\"/>\n<text text-anchor=\"middle\" x=\"31.11\" y=\"-1812.12\" font-family=\"Times,serif\" font-size=\"14.00\">5 3 4</text>\n<text text-anchor=\"middle\" x=\"31.11\" y=\"-1797.12\" font-family=\"Times,serif\" font-size=\"14.00\">7 _ 2</text>\n<text text-anchor=\"middle\" x=\"31.11\" y=\"-1782.12\" font-family=\"Times,serif\" font-size=\"14.00\">8 1 6</text>\n</g>\n<!-- 5 3 4\n7 2 _\n8 1 6 -->\n<g id=\"node2\" class=\"node\">\n<title>5 3 4\n7 2 _\n8 1 6</title>\n<ellipse fill=\"none\" stroke=\"black\" cx=\"31.11\" cy=\"-1674.87\" rx=\"31.23\" ry=\"37.45\"/>\n<text text-anchor=\"middle\" x=\"31.11\" y=\"-1686.17\" font-family=\"Times,serif\" font-size=\"14.00\">5 3 4</text>\n<text text-anchor=\"middle\" x=\"31.11\" y=\"-1671.17\" font-family=\"Times,serif\" font-size=\"14.00\">7 2 _</text>\n<text text-anchor=\"middle\" x=\"31.11\" y=\"-1656.17\" font-family=\"Times,serif\" font-size=\"14.00\">8 1 6</text>\n</g>\n<!-- 5 3 4\n7 _ 2\n8 1 6&#45;&gt;5 3 4\n7 2 _\n8 1 6 -->\n<g id=\"edge1\" class=\"edge\">\n<title>5 3 4\n7 _ 2\n8 1 6&#45;&gt;5 3 4\n7 2 _\n8 1 6</title>\n<path fill=\"none\" stroke=\"black\" d=\"M31.11,-1763.3C31.11,-1750.56 31.11,-1736.07 31.11,-1722.61\"/>\n<polygon fill=\"black\" stroke=\"black\" points=\"34.61,-1722.56 31.11,-1712.56 27.61,-1722.56 34.61,-1722.56\"/>\n<text text-anchor=\"middle\" x=\"35.61\" y=\"-1734.15\" font-family=\"Times,serif\" font-size=\"14.00\">L</text>\n</g>\n<!-- 5 3 _\n7 2 4\n8 1 6 -->\n<g id=\"node3\" class=\"node\">\n<title>5 3 _\n7 2 4\n8 1 6</title>\n<ellipse fill=\"none\" stroke=\"black\" cx=\"31.11\" cy=\"-1548.92\" rx=\"31.23\" ry=\"37.45\"/>\n<text text-anchor=\"middle\" x=\"31.11\" y=\"-1560.22\" font-family=\"Times,serif\" font-size=\"14.00\">5 3 _</text>\n<text text-anchor=\"middle\" x=\"31.11\" y=\"-1545.22\" font-family=\"Times,serif\" font-size=\"14.00\">7 2 4</text>\n<text text-anchor=\"middle\" x=\"31.11\" y=\"-1530.22\" font-family=\"Times,serif\" font-size=\"14.00\">8 1 6</text>\n</g>\n<!-- 5 3 4\n7 2 _\n8 1 6&#45;&gt;5 3 _\n7 2 4\n8 1 6 -->\n<g id=\"edge2\" class=\"edge\">\n<title>5 3 4\n7 2 _\n8 1 6&#45;&gt;5 3 _\n7 2 4\n8 1 6</title>\n<path fill=\"none\" stroke=\"black\" d=\"M31.11,-1637.35C31.11,-1624.6 31.11,-1610.12 31.11,-1596.65\"/>\n<polygon fill=\"black\" stroke=\"black\" points=\"34.61,-1596.6 31.11,-1586.6 27.61,-1596.6 34.61,-1596.6\"/>\n<text text-anchor=\"middle\" x=\"36.11\" y=\"-1608.19\" font-family=\"Times,serif\" font-size=\"14.00\">D</text>\n</g>\n<!-- 5 _ 3\n7 2 4\n8 1 6 -->\n<g id=\"node4\" class=\"node\">\n<title>5 _ 3\n7 2 4\n8 1 6</title>\n<ellipse fill=\"none\" stroke=\"black\" cx=\"31.11\" cy=\"-1422.96\" rx=\"31.23\" ry=\"37.45\"/>\n<text text-anchor=\"middle\" x=\"31.11\" y=\"-1434.26\" font-family=\"Times,serif\" font-size=\"14.00\">5 _ 3</text>\n<text text-anchor=\"middle\" x=\"31.11\" y=\"-1419.26\" font-family=\"Times,serif\" font-size=\"14.00\">7 2 4</text>\n<text text-anchor=\"middle\" x=\"31.11\" y=\"-1404.26\" font-family=\"Times,serif\" font-size=\"14.00\">8 1 6</text>\n</g>\n<!-- 5 3 _\n7 2 4\n8 1 6&#45;&gt;5 _ 3\n7 2 4\n8 1 6 -->\n<g id=\"edge3\" class=\"edge\">\n<title>5 3 _\n7 2 4\n8 1 6&#45;&gt;5 _ 3\n7 2 4\n8 1 6</title>\n<path fill=\"none\" stroke=\"black\" d=\"M31.11,-1511.4C31.11,-1498.65 31.11,-1484.16 31.11,-1470.7\"/>\n<polygon fill=\"black\" stroke=\"black\" points=\"34.61,-1470.65 31.11,-1460.65 27.61,-1470.65 34.61,-1470.65\"/>\n<text text-anchor=\"middle\" x=\"36.11\" y=\"-1482.24\" font-family=\"Times,serif\" font-size=\"14.00\">R</text>\n</g>\n<!-- 5 2 3\n7 _ 4\n8 1 6 -->\n<g id=\"node5\" class=\"node\">\n<title>5 2 3\n7 _ 4\n8 1 6</title>\n<ellipse fill=\"none\" stroke=\"black\" cx=\"31.11\" cy=\"-1297.01\" rx=\"31.23\" ry=\"37.45\"/>\n<text text-anchor=\"middle\" x=\"31.11\" y=\"-1308.31\" font-family=\"Times,serif\" font-size=\"14.00\">5 2 3</text>\n<text text-anchor=\"middle\" x=\"31.11\" y=\"-1293.31\" font-family=\"Times,serif\" font-size=\"14.00\">7 _ 4</text>\n<text text-anchor=\"middle\" x=\"31.11\" y=\"-1278.31\" font-family=\"Times,serif\" font-size=\"14.00\">8 1 6</text>\n</g>\n<!-- 5 _ 3\n7 2 4\n8 1 6&#45;&gt;5 2 3\n7 _ 4\n8 1 6 -->\n<g id=\"edge4\" class=\"edge\">\n<title>5 _ 3\n7 2 4\n8 1 6&#45;&gt;5 2 3\n7 _ 4\n8 1 6</title>\n<path fill=\"none\" stroke=\"black\" d=\"M31.11,-1385.44C31.11,-1372.7 31.11,-1358.21 31.11,-1344.75\"/>\n<polygon fill=\"black\" stroke=\"black\" points=\"34.61,-1344.7 31.11,-1334.7 27.61,-1344.7 34.61,-1344.7\"/>\n<text text-anchor=\"middle\" x=\"36.11\" y=\"-1356.29\" font-family=\"Times,serif\" font-size=\"14.00\">U</text>\n</g>\n<!-- 5 2 3\n7 4 _\n8 1 6 -->\n<g id=\"node6\" class=\"node\">\n<title>5 2 3\n7 4 _\n8 1 6</title>\n<ellipse fill=\"none\" stroke=\"black\" cx=\"31.11\" cy=\"-1171.06\" rx=\"31.23\" ry=\"37.45\"/>\n<text text-anchor=\"middle\" x=\"31.11\" y=\"-1182.36\" font-family=\"Times,serif\" font-size=\"14.00\">5 2 3</text>\n<text text-anchor=\"middle\" x=\"31.11\" y=\"-1167.36\" font-family=\"Times,serif\" font-size=\"14.00\">7 4 _</text>\n<text text-anchor=\"middle\" x=\"31.11\" y=\"-1152.36\" font-family=\"Times,serif\" font-size=\"14.00\">8 1 6</text>\n</g>\n<!-- 5 2 3\n7 _ 4\n8 1 6&#45;&gt;5 2 3\n7 4 _\n8 1 6 -->\n<g id=\"edge5\" class=\"edge\">\n<title>5 2 3\n7 _ 4\n8 1 6&#45;&gt;5 2 3\n7 4 _\n8 1 6</title>\n<path fill=\"none\" stroke=\"black\" d=\"M31.11,-1259.49C31.11,-1246.74 31.11,-1232.26 31.11,-1218.79\"/>\n<polygon fill=\"black\" stroke=\"black\" points=\"34.61,-1218.74 31.11,-1208.74 27.61,-1218.74 34.61,-1218.74\"/>\n<text text-anchor=\"middle\" x=\"35.61\" y=\"-1230.33\" font-family=\"Times,serif\" font-size=\"14.00\">L</text>\n</g>\n<!-- 6 2 3\n7 4 _\n8 1 5 -->\n<g id=\"node7\" class=\"node\">\n<title>6 2 3\n7 4 _\n8 1 5</title>\n<ellipse fill=\"none\" stroke=\"black\" cx=\"31.11\" cy=\"-1045.1\" rx=\"31.23\" ry=\"37.45\"/>\n<text text-anchor=\"middle\" x=\"31.11\" y=\"-1056.4\" font-family=\"Times,serif\" font-size=\"14.00\">6 2 3</text>\n<text text-anchor=\"middle\" x=\"31.11\" y=\"-1041.4\" font-family=\"Times,serif\" font-size=\"14.00\">7 4 _</text>\n<text text-anchor=\"middle\" x=\"31.11\" y=\"-1026.4\" font-family=\"Times,serif\" font-size=\"14.00\">8 1 5</text>\n</g>\n<!-- 5 2 3\n7 4 _\n8 1 6&#45;&gt;6 2 3\n7 4 _\n8 1 5 -->\n<g id=\"edge6\" class=\"edge\">\n<title>5 2 3\n7 4 _\n8 1 6&#45;&gt;6 2 3\n7 4 _\n8 1 5</title>\n<path fill=\"none\" stroke=\"black\" d=\"M31.11,-1133.54C31.11,-1120.79 31.11,-1106.3 31.11,-1092.84\"/>\n<polygon fill=\"black\" stroke=\"black\" points=\"34.61,-1092.79 31.11,-1082.79 27.61,-1092.79 34.61,-1092.79\"/>\n<text text-anchor=\"middle\" x=\"66.11\" y=\"-1104.38\" font-family=\"Times,serif\" font-size=\"14.00\">Corner swap</text>\n</g>\n<!-- 6 2 3\n7 4 5\n8 1 _ -->\n<g id=\"node8\" class=\"node\">\n<title>6 2 3\n7 4 5\n8 1 _</title>\n<ellipse fill=\"none\" stroke=\"black\" cx=\"31.11\" cy=\"-919.15\" rx=\"31.23\" ry=\"37.45\"/>\n<text text-anchor=\"middle\" x=\"31.11\" y=\"-930.45\" font-family=\"Times,serif\" font-size=\"14.00\">6 2 3</text>\n<text text-anchor=\"middle\" x=\"31.11\" y=\"-915.45\" font-family=\"Times,serif\" font-size=\"14.00\">7 4 5</text>\n<text text-anchor=\"middle\" x=\"31.11\" y=\"-900.45\" font-family=\"Times,serif\" font-size=\"14.00\">8 1 _</text>\n</g>\n<!-- 6 2 3\n7 4 _\n8 1 5&#45;&gt;6 2 3\n7 4 5\n8 1 _ -->\n<g id=\"edge7\" class=\"edge\">\n<title>6 2 3\n7 4 _\n8 1 5&#45;&gt;6 2 3\n7 4 5\n8 1 _</title>\n<path fill=\"none\" stroke=\"black\" d=\"M31.11,-1007.58C31.11,-994.84 31.11,-980.35 31.11,-966.89\"/>\n<polygon fill=\"black\" stroke=\"black\" points=\"34.61,-966.84 31.11,-956.84 27.61,-966.84 34.61,-966.84\"/>\n<text text-anchor=\"middle\" x=\"36.11\" y=\"-978.43\" font-family=\"Times,serif\" font-size=\"14.00\">U</text>\n</g>\n<!-- 6 2 3\n7 4 5\n8 _ 1 -->\n<g id=\"node9\" class=\"node\">\n<title>6 2 3\n7 4 5\n8 _ 1</title>\n<ellipse fill=\"none\" stroke=\"black\" cx=\"31.11\" cy=\"-793.2\" rx=\"31.23\" ry=\"37.45\"/>\n<text text-anchor=\"middle\" x=\"31.11\" y=\"-804.5\" font-family=\"Times,serif\" font-size=\"14.00\">6 2 3</text>\n<text text-anchor=\"middle\" x=\"31.11\" y=\"-789.5\" font-family=\"Times,serif\" font-size=\"14.00\">7 4 5</text>\n<text text-anchor=\"middle\" x=\"31.11\" y=\"-774.5\" font-family=\"Times,serif\" font-size=\"14.00\">8 _ 1</text>\n</g>\n<!-- 6 2 3\n7 4 5\n8 1 _&#45;&gt;6 2 3\n7 4 5\n8 _ 1 -->\n<g id=\"edge8\" class=\"edge\">\n<title>6 2 3\n7 4 5\n8 1 _&#45;&gt;6 2 3\n7 4 5\n8 _ 1</title>\n<path fill=\"none\" stroke=\"black\" d=\"M31.11,-881.63C31.11,-868.88 31.11,-854.4 31.11,-840.93\"/>\n<polygon fill=\"black\" stroke=\"black\" points=\"34.61,-840.88 31.11,-830.88 27.61,-840.88 34.61,-840.88\"/>\n<text text-anchor=\"middle\" x=\"36.11\" y=\"-852.47\" font-family=\"Times,serif\" font-size=\"14.00\">R</text>\n</g>\n<!-- 1 2 3\n7 4 5\n8 _ 6 -->\n<g id=\"node10\" class=\"node\">\n<title>1 2 3\n7 4 5\n8 _ 6</title>\n<ellipse fill=\"none\" stroke=\"black\" cx=\"31.11\" cy=\"-667.24\" rx=\"31.23\" ry=\"37.45\"/>\n<text text-anchor=\"middle\" x=\"31.11\" y=\"-678.54\" font-family=\"Times,serif\" font-size=\"14.00\">1 2 3</text>\n<text text-anchor=\"middle\" x=\"31.11\" y=\"-663.54\" font-family=\"Times,serif\" font-size=\"14.00\">7 4 5</text>\n<text text-anchor=\"middle\" x=\"31.11\" y=\"-648.54\" font-family=\"Times,serif\" font-size=\"14.00\">8 _ 6</text>\n</g>\n<!-- 6 2 3\n7 4 5\n8 _ 1&#45;&gt;1 2 3\n7 4 5\n8 _ 6 -->\n<g id=\"edge9\" class=\"edge\">\n<title>6 2 3\n7 4 5\n8 _ 1&#45;&gt;1 2 3\n7 4 5\n8 _ 6</title>\n<path fill=\"none\" stroke=\"black\" d=\"M31.11,-755.68C31.11,-742.93 31.11,-728.44 31.11,-714.98\"/>\n<polygon fill=\"black\" stroke=\"black\" points=\"34.61,-714.93 31.11,-704.93 27.61,-714.93 34.61,-714.93\"/>\n<text text-anchor=\"middle\" x=\"66.11\" y=\"-726.52\" font-family=\"Times,serif\" font-size=\"14.00\">Corner swap</text>\n</g>\n<!-- 1 2 3\n7 4 5\n_ 8 6 -->\n<g id=\"node11\" class=\"node\">\n<title>1 2 3\n7 4 5\n_ 8 6</title>\n<ellipse fill=\"none\" stroke=\"black\" cx=\"31.11\" cy=\"-541.29\" rx=\"31.23\" ry=\"37.45\"/>\n<text text-anchor=\"middle\" x=\"31.11\" y=\"-552.59\" font-family=\"Times,serif\" font-size=\"14.00\">1 2 3</text>\n<text text-anchor=\"middle\" x=\"31.11\" y=\"-537.59\" font-family=\"Times,serif\" font-size=\"14.00\">7 4 5</text>\n<text text-anchor=\"middle\" x=\"31.11\" y=\"-522.59\" font-family=\"Times,serif\" font-size=\"14.00\">_ 8 6</text>\n</g>\n<!-- 1 2 3\n7 4 5\n8 _ 6&#45;&gt;1 2 3\n7 4 5\n_ 8 6 -->\n<g id=\"edge10\" class=\"edge\">\n<title>1 2 3\n7 4 5\n8 _ 6&#45;&gt;1 2 3\n7 4 5\n_ 8 6</title>\n<path fill=\"none\" stroke=\"black\" d=\"M31.11,-629.72C31.11,-616.98 31.11,-602.49 31.11,-589.03\"/>\n<polygon fill=\"black\" stroke=\"black\" points=\"34.61,-588.98 31.11,-578.98 27.61,-588.98 34.61,-588.98\"/>\n<text text-anchor=\"middle\" x=\"36.11\" y=\"-600.57\" font-family=\"Times,serif\" font-size=\"14.00\">R</text>\n</g>\n<!-- 1 2 3\n_ 4 5\n7 8 6 -->\n<g id=\"node12\" class=\"node\">\n<title>1 2 3\n_ 4 5\n7 8 6</title>\n<ellipse fill=\"none\" stroke=\"black\" cx=\"31.11\" cy=\"-415.34\" rx=\"31.23\" ry=\"37.45\"/>\n<text text-anchor=\"middle\" x=\"31.11\" y=\"-426.64\" font-family=\"Times,serif\" font-size=\"14.00\">1 2 3</text>\n<text text-anchor=\"middle\" x=\"31.11\" y=\"-411.64\" font-family=\"Times,serif\" font-size=\"14.00\">_ 4 5</text>\n<text text-anchor=\"middle\" x=\"31.11\" y=\"-396.64\" font-family=\"Times,serif\" font-size=\"14.00\">7 8 6</text>\n</g>\n<!-- 1 2 3\n7 4 5\n_ 8 6&#45;&gt;1 2 3\n_ 4 5\n7 8 6 -->\n<g id=\"edge11\" class=\"edge\">\n<title>1 2 3\n7 4 5\n_ 8 6&#45;&gt;1 2 3\n_ 4 5\n7 8 6</title>\n<path fill=\"none\" stroke=\"black\" d=\"M31.11,-503.77C31.11,-491.02 31.11,-476.54 31.11,-463.07\"/>\n<polygon fill=\"black\" stroke=\"black\" points=\"34.61,-463.02 31.11,-453.02 27.61,-463.02 34.61,-463.02\"/>\n<text text-anchor=\"middle\" x=\"36.11\" y=\"-474.61\" font-family=\"Times,serif\" font-size=\"14.00\">D</text>\n</g>\n<!-- 1 2 3\n4 _ 5\n7 8 6 -->\n<g id=\"node13\" class=\"node\">\n<title>1 2 3\n4 _ 5\n7 8 6</title>\n<ellipse fill=\"none\" stroke=\"black\" cx=\"31.11\" cy=\"-289.38\" rx=\"31.23\" ry=\"37.45\"/>\n<text text-anchor=\"middle\" x=\"31.11\" y=\"-300.68\" font-family=\"Times,serif\" font-size=\"14.00\">1 2 3</text>\n<text text-anchor=\"middle\" x=\"31.11\" y=\"-285.68\" font-family=\"Times,serif\" font-size=\"14.00\">4 _ 5</text>\n<text text-anchor=\"middle\" x=\"31.11\" y=\"-270.68\" font-family=\"Times,serif\" font-size=\"14.00\">7 8 6</text>\n</g>\n<!-- 1 2 3\n_ 4 5\n7 8 6&#45;&gt;1 2 3\n4 _ 5\n7 8 6 -->\n<g id=\"edge12\" class=\"edge\">\n<title>1 2 3\n_ 4 5\n7 8 6&#45;&gt;1 2 3\n4 _ 5\n7 8 6</title>\n<path fill=\"none\" stroke=\"black\" d=\"M31.11,-377.82C31.11,-365.07 31.11,-350.58 31.11,-337.12\"/>\n<polygon fill=\"black\" stroke=\"black\" points=\"34.61,-337.07 31.11,-327.07 27.61,-337.07 34.61,-337.07\"/>\n<text text-anchor=\"middle\" x=\"35.61\" y=\"-348.66\" font-family=\"Times,serif\" font-size=\"14.00\">L</text>\n</g>\n<!-- 1 2 3\n4 5 _\n7 8 6 -->\n<g id=\"node14\" class=\"node\">\n<title>1 2 3\n4 5 _\n7 8 6</title>\n<ellipse fill=\"none\" stroke=\"black\" cx=\"31.11\" cy=\"-163.43\" rx=\"31.23\" ry=\"37.45\"/>\n<text text-anchor=\"middle\" x=\"31.11\" y=\"-174.73\" font-family=\"Times,serif\" font-size=\"14.00\">1 2 3</text>\n<text text-anchor=\"middle\" x=\"31.11\" y=\"-159.73\" font-family=\"Times,serif\" font-size=\"14.00\">4 5 _</text>\n<text text-anchor=\"middle\" x=\"31.11\" y=\"-144.73\" font-family=\"Times,serif\" font-size=\"14.00\">7 8 6</text>\n</g>\n<!-- 1 2 3\n4 _ 5\n7 8 6&#45;&gt;1 2 3\n4 5 _\n7 8 6 -->\n<g id=\"edge13\" class=\"edge\">\n<title>1 2 3\n4 _ 5\n7 8 6&#45;&gt;1 2 3\n4 5 _\n7 8 6</title>\n<path fill=\"none\" stroke=\"black\" d=\"M31.11,-251.86C31.11,-239.12 31.11,-224.63 31.11,-211.17\"/>\n<polygon fill=\"black\" stroke=\"black\" points=\"34.61,-211.12 31.11,-201.12 27.61,-211.12 34.61,-211.12\"/>\n<text text-anchor=\"middle\" x=\"35.61\" y=\"-222.71\" font-family=\"Times,serif\" font-size=\"14.00\">L</text>\n</g>\n<!-- 1 2 3\n4 5 6\n7 8 _ -->\n<g id=\"node15\" class=\"node\">\n<title>1 2 3\n4 5 6\n7 8 _</title>\n<ellipse fill=\"none\" stroke=\"black\" cx=\"31.11\" cy=\"-37.48\" rx=\"31.23\" ry=\"37.45\"/>\n<text text-anchor=\"middle\" x=\"31.11\" y=\"-48.78\" font-family=\"Times,serif\" font-size=\"14.00\">1 2 3</text>\n<text text-anchor=\"middle\" x=\"31.11\" y=\"-33.78\" font-family=\"Times,serif\" font-size=\"14.00\">4 5 6</text>\n<text text-anchor=\"middle\" x=\"31.11\" y=\"-18.78\" font-family=\"Times,serif\" font-size=\"14.00\">7 8 _</text>\n</g>\n<!-- 1 2 3\n4 5 _\n7 8 6&#45;&gt;1 2 3\n4 5 6\n7 8 _ -->\n<g id=\"edge14\" class=\"edge\">\n<title>1 2 3\n4 5 _\n7 8 6&#45;&gt;1 2 3\n4 5 6\n7 8 _</title>\n<path fill=\"none\" stroke=\"black\" d=\"M31.11,-125.91C31.11,-113.16 31.11,-98.68 31.11,-85.21\"/>\n<polygon fill=\"black\" stroke=\"black\" points=\"34.61,-85.16 31.11,-75.16 27.61,-85.16 34.61,-85.16\"/>\n<text text-anchor=\"middle\" x=\"36.11\" y=\"-96.75\" font-family=\"Times,serif\" font-size=\"14.00\">U</text>\n</g>\n</g>\n</svg>\n",
            "text/plain": [
              "<graphviz.graphs.Digraph at 0x7b4cc6b0da90>"
            ]
          },
          "metadata": {},
          "execution_count": 15
        }
      ],
      "source": [
        "start_node = Node.create_random_start()  #Test hàm ngẫu nhiên\n",
        "solver = A_star(start_node, heuristic=ManhattanHeuristic())\n",
        "path,cost ,num= solver.solve()\n",
        "print(\"Cost:\", cost)\n",
        "\n",
        "dot = Digraph()\n",
        "for node in path:\n",
        "    node.draw(dot)\n",
        "dot"
      ]
    },
    {
      "cell_type": "code",
      "execution_count": 16,
      "metadata": {
        "colab": {
          "base_uri": "https://localhost:8080/"
        },
        "id": "1G8Rw_FxHfrc",
        "outputId": "1755ad57-ae67-4f2a-a2b5-c4afa6eafe51"
      },
      "outputs": [
        {
          "output_type": "stream",
          "name": "stdout",
          "text": [
            "Cost: 7\n",
            "Length of path: 8\n",
            "Nodes expanded: 14464\n"
          ]
        }
      ],
      "source": [
        "start_state = [[1,2,3],\n",
        "               [4,5,8],\n",
        "               [0,7,6]]   # easy state (chỉ 2 bước đến goal)\n",
        "\n",
        "bfs_solver = BFS(Node(start_state), max_limit=20000)\n",
        "path, cost, nodes_expanded= bfs_solver.solve()\n",
        "\n",
        "print(\"Cost:\", cost)\n",
        "print(\"Length of path:\", len(path) if path else None)\n",
        "print(\"Nodes expanded:\", nodes_expanded)\n",
        "\n"
      ]
    },
    {
      "cell_type": "code",
      "execution_count": 17,
      "metadata": {
        "colab": {
          "base_uri": "https://localhost:8080/"
        },
        "id": "keKKnnWXRLrc",
        "outputId": "faf25c1e-590e-40cb-9f6b-5054b453fe2f"
      },
      "outputs": [
        {
          "output_type": "stream",
          "name": "stdout",
          "text": [
            "Algorithm       Cost       Path length     Nodes expanded  Time (ms) \n",
            "BFS             7          8               14464           3103.78\n",
            "A* Manhattan    7          8               142             49.34\n",
            "A* Misplaced    7          8               162             33.48\n"
          ]
        }
      ],
      "source": [
        "import time\n",
        "\n",
        "def run_experiment(start_state):\n",
        "    results = []\n",
        "\n",
        "    # BFS\n",
        "    bfs_solver = BFS(Node(start_state))\n",
        "    t0 = time.time()\n",
        "    path, cost, nodes = bfs_solver.solve()\n",
        "    t1 = time.time()\n",
        "    results.append((\"BFS\", cost, len(path) if path else None, nodes, (t1 - t0)*1000))\n",
        "\n",
        "    # A* Manhattan\n",
        "    #astar_m = A_star(Node(start_state), heuristic='manhattan')\n",
        "    astar_m = A_star(Node(start_state), heuristic=ManhattanHeuristic())\n",
        "    t0 = time.time()\n",
        "    path, cost, nodes = astar_m.solve()\n",
        "    t1 = time.time()\n",
        "    results.append((\"A* Manhattan\", cost, len(path) if path else None, nodes, (t1 - t0)*1000))\n",
        "\n",
        "    # A* Misplaced\n",
        "    #astar_mp = A_star(Node(start_state), heuristic='misplaced')\n",
        "    astar_mp = A_star(Node(start_state), heuristic=MisplacedHeuristic())\n",
        "    t0 = time.time()\n",
        "    path, cost, nodes = astar_mp.solve()\n",
        "    t1 = time.time()\n",
        "    results.append((\"A* Misplaced\", cost, len(path) if path else None, nodes, (t1 - t0)*1000))\n",
        "\n",
        "    return results\n",
        "\n",
        "\n",
        "# Ví dụ test với một state\n",
        "start_state = [[1,2,3],\n",
        "               [4,5,8],\n",
        "               [0,7,6]]\n",
        "\n",
        "results = run_experiment(start_state)\n",
        "\n",
        "# In bảng kết quả\n",
        "print(\"{:<15} {:<10} {:<15} {:<15} {:<10}\".format(\"Algorithm\", \"Cost\", \"Path length\", \"Nodes expanded\", \"Time (ms)\"))\n",
        "for algo, cost, path_len, nodes, time_ms in results:\n",
        "    print(\"{:<15} {:<10} {:<15} {:<15} {:.2f}\".format(algo, cost, path_len, nodes, time_ms))\n"
      ]
    },
    {
      "cell_type": "code",
      "execution_count": 18,
      "metadata": {
        "id": "38NZbzW2gFJp"
      },
      "outputs": [],
      "source": [
        "import statistics\n",
        "\n",
        "def experiment(num_trials=10):\n",
        "    \"\"\"So sánh hiệu quả giữa 2 heuristic của A* bằng cách thử nhiều state ngẫu nhiên\"\"\"\n",
        "    results = {\n",
        "        'manhattan': {'costs': [], 'nodes': []},\n",
        "        'misplaced': {'costs': [], 'nodes': []}\n",
        "    }\n",
        "\n",
        "    for i in range(num_trials):\n",
        "        # Tạo state ngẫu nhiên\n",
        "        start_node = Node.create_random_start()\n",
        "\n",
        "        # Chạy A* với Manhattan\n",
        "        #solver_manhattan = A_star(start_node, heuristic='manhattan')\n",
        "        solver_manhattan = A_star(start_node, heuristic=ManhattanHeuristic())\n",
        "        path_manh, cost_manh, nodes_manh = solver_manhattan.solve()\n",
        "        if path_manh is not None:\n",
        "            results['manhattan']['costs'].append(cost_manh)\n",
        "            results['manhattan']['nodes'].append(nodes_manh)\n",
        "\n",
        "        # Chạy A* với Misplaced\n",
        "        solver_misplaced = A_star(start_node, heuristic=MisplacedHeuristic())\n",
        "        path_mis, cost_mis, nodes_mis = solver_misplaced.solve()\n",
        "        if path_mis is not None:\n",
        "            results['misplaced']['costs'].append(cost_mis)\n",
        "            results['misplaced']['nodes'].append(nodes_mis)\n",
        "\n",
        "        print(f\"Trial {i+1}/{num_trials} completed.\")\n",
        "\n",
        "    # Tính trung bình\n",
        "    print(\"\\nCOMPARED 2 HEURISTIC\")\n",
        "    for h in ['manhattan', 'misplaced']:\n",
        "        avg_cost = statistics.mean(results[h]['costs']) if results[h]['costs'] else float('nan')\n",
        "        avg_nodes = statistics.mean(results[h]['nodes']) if results[h]['nodes'] else float('nan')\n",
        "        print(f\"Heuristic: {h}\")\n",
        "        print(f\"Average Path Cost   = {avg_cost:.2f}\")\n",
        "        print(f\"Average Nodes Expanded = {avg_nodes:.2f}\")\n",
        "        print()\n",
        "\n",
        "    return results\n"
      ]
    },
    {
      "cell_type": "code",
      "execution_count": 19,
      "metadata": {
        "colab": {
          "base_uri": "https://localhost:8080/"
        },
        "id": "_evy4oXYgS2t",
        "outputId": "323dfcf9-33ce-4516-f948-3eb58f990c8c"
      },
      "outputs": [
        {
          "output_type": "stream",
          "name": "stdout",
          "text": [
            "Trial 1/5 completed.\n",
            "Trial 2/5 completed.\n",
            "Trial 3/5 completed.\n",
            "Trial 4/5 completed.\n",
            "Trial 5/5 completed.\n",
            "\n",
            "COMPARED 2 HEURISTIC\n",
            "Heuristic: manhattan\n",
            "Average Path Cost   = 11.80\n",
            "Average Nodes Expanded = 7816.40\n",
            "\n",
            "Heuristic: misplaced\n",
            "Average Path Cost   = 11.80\n",
            "Average Nodes Expanded = 29206.00\n",
            "\n"
          ]
        }
      ],
      "source": [
        "results = experiment(num_trials=5)\n"
      ]
    }
  ],
  "metadata": {
    "colab": {
      "provenance": []
    },
    "kernelspec": {
      "display_name": "Python 3",
      "name": "python3"
    },
    "language_info": {
      "name": "python"
    }
  },
  "nbformat": 4,
  "nbformat_minor": 0
}
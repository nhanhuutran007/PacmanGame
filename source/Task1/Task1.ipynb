{
  "cells": [
    {
      "cell_type": "code",
      "execution_count": 1,
      "metadata": {
        "id": "4cvKqUXI5zOH"
      },
      "outputs": [],
      "source": [
        "from copy import deepcopy\n",
        "from graphviz import Digraph\n",
        "import heapq\n",
        "import random\n",
        "from collections import deque\n",
        "import time\n",
        "import statistics"
      ]
    },
    {
      "cell_type": "code",
      "execution_count": 2,
      "metadata": {
        "id": "cxmgv6ApfcDg"
      },
      "outputs": [],
      "source": [
        "class Node:\n",
        "#Trạng thái ban đầu\n",
        "  def __init__(self, state, action=None, parent=None,cost=0, heuristic=0):\n",
        "    self.state = state\n",
        "    self.id = str(self)\n",
        "    self.action = action\n",
        "    self.parent = parent\n",
        "    self.cost=cost\n",
        "    self.ID= self.get_node_str()\n",
        "    self.heuristic = heuristic\n",
        "\n",
        "#Trạng thái đích\n",
        "  def is_goal(self):\n",
        "      goals = [\n",
        "          [[1,2,3],[4,5,6],[7,8,0]],\n",
        "          [[8,7,6],[5,4,3],[2,1,0]],\n",
        "          [[0,1,2],[3,4,5],[6,7,8]],\n",
        "          [[0,8,7],[6,5,4],[3,2,1]]\n",
        "      ]\n",
        "      return self.state in goals\n",
        "\n",
        "  def __str__(self):\n",
        "    return \"\\n\".join(\" \".join(\"_\" if x == 0 else str(x) for x in row) for row in self.state)\n",
        "\n",
        "#Tìm vị trí ô 0\n",
        "  def get_blank_pos(self, state):\n",
        "      for i in range(3):\n",
        "        for j in range(3):\n",
        "          if state[i][j] == 0:\n",
        "            return i, j\n",
        "\n",
        "  def get_dest_pos(self, action, pi, pj):\n",
        "      if action == 'L':\n",
        "        pj += 1\n",
        "      if action == 'R':\n",
        "        pj -= 1\n",
        "      if action == 'U':\n",
        "        pi += 1\n",
        "      if action == 'D':\n",
        "        pi -= 1\n",
        "      return pi, pj\n",
        "\n",
        "  def get_successors(self):\n",
        "    successors = []\n",
        "    actions = ['L', 'R', 'U', 'D']\n",
        "    for action in actions:\n",
        "      new_state = deepcopy(self.state)\n",
        "      moved_state = self.get_successor(action, new_state)\n",
        "      if moved_state is not None:\n",
        "        successors.append(Node(moved_state, action, self, self.cost + 1))\n",
        "    #Thêm vào các node đã swap\n",
        "    if(self.parent is not None):\n",
        "          successors.extend(self.swap())\n",
        "    return successors\n",
        "\n",
        "\n",
        "  def get_successor(self, action, state):\n",
        "    pi, pj = self.get_blank_pos(state)\n",
        "    pi, pj = self.get_dest_pos(action, pi, pj)\n",
        "    if 0 <= pi and pi < 3 and 0 <= pj and pj < 3:\n",
        "      if action == 'L':\n",
        "        state[pi][pj - 1] = state[pi][pj]\n",
        "      if action == 'R':\n",
        "        state[pi][pj + 1] = state[pi][pj]\n",
        "      if action == 'U':\n",
        "        state[pi-1][pj] = state[pi][pj]\n",
        "      if action == 'D':\n",
        "        state[pi+1][pj] = state[pi][pj]\n",
        "      state[pi][pj] = 0\n",
        "      return state\n",
        "    return None\n",
        "\n",
        "  def get_id(self):\n",
        "    return self.id\n",
        "\n",
        "  def get_node_str(self):\n",
        "    return str(self)\n",
        "\n",
        "  def get_action(self):\n",
        "    return self.action\n",
        "\n",
        "  def swap(self):\n",
        "    successors = []\n",
        "    # Swap top-left <-> bottom-right\n",
        "    if self.state[0][0] != 0 and self.state[2][2] != 0:\n",
        "        new_state = deepcopy(self.state)\n",
        "        new_state[0][0], new_state[2][2] = new_state[2][2], new_state[0][0]\n",
        "        successors.append(Node(new_state, \"Corner swap\", self, self.cost + 1))\n",
        "    # Swap top-right <-> bottom-left\n",
        "    if self.state[0][2] != 0 and self.state[2][0] != 0:\n",
        "        new_state = deepcopy(self.state)\n",
        "        new_state[0][2], new_state[2][0] = new_state[2][0], new_state[0][2]\n",
        "        successors.append(Node(new_state, \"Corner swap\", self, self.cost + 1))\n",
        "\n",
        "    #Kiểm tra các cặp cạnh kề nhau\n",
        "    for i in range(3):\n",
        "      for j in range(3):\n",
        "        u=self.state[i][j]\n",
        "        if(u==0):\n",
        "          continue\n",
        "        for (ni, nj) in [(i-1,j), (i+1,j), (i,j-1), (i,j+1)]:\n",
        "          if 0 <= ni and ni < 3 and 0 <= nj and nj < 3:\n",
        "            v=self.state[ni][nj]\n",
        "            if v != 0 and v + u == 9:\n",
        "              s = deepcopy(self.state)\n",
        "              s[i][j], s[ni][nj] = s[ni][nj], s[i][j]\n",
        "              successors.append(Node(s, f\"Swap {u}_{v}\", self, self.cost + 1))\n",
        "    return successors\n",
        "\n",
        "  def __lt__(self,other):\n",
        "    return self.cost < other.cost\n",
        "\n",
        "\n",
        "  def draw(self, dot):\n",
        "    dot.node(self.get_id(), self.get_node_str())\n",
        "    if self.parent is not None:\n",
        "      dot.edge(self.parent.get_id(), self.get_id(), self.get_action())\n",
        "\n",
        "#Hàm state ngẫu nhiên\n",
        "  @staticmethod\n",
        "  def create_random_start():\n",
        "    numbers = list(range(9))\n",
        "    random.shuffle(numbers)\n",
        "    state = [numbers[i*3:(i+1)*3] for i in range(3)]\n",
        "    return Node(state)"
      ]
    },
    {
      "cell_type": "code",
      "source": [
        "class Heuristic:\n",
        "    def __call__(self, state):\n",
        "        raise NotImplementedError(\"Must override method __call__()\")\n",
        "\n",
        "class ManhattanHeuristic(Heuristic):\n",
        "    goals = [\n",
        "        [[1,2,3],[4,5,6],[7,8,0]],\n",
        "        [[8,7,6],[5,4,3],[2,1,0]],\n",
        "        [[0,1,2],[3,4,5],[6,7,8]],\n",
        "        [[0,8,7],[6,5,4],[3,2,1]]\n",
        "    ]\n",
        "\n",
        "    def __call__(self, state):\n",
        "        min_distance = None\n",
        "        for goal in self.goals:\n",
        "            distance = 0\n",
        "            for i in range(3):\n",
        "                for j in range(3):\n",
        "                    val = state[i][j]\n",
        "                    if val != 0:\n",
        "                        for gi in range(3):\n",
        "                            for gj in range(3):\n",
        "                                if goal[gi][gj] == val:\n",
        "                                    distance += abs(i - gi) + abs(j - gj)\n",
        "            if min_distance is None or distance < min_distance:\n",
        "                min_distance = distance\n",
        "        return (min_distance + 1) // 2\n",
        "\n",
        "class MisplacedHeuristic(Heuristic):\n",
        "    goals = [\n",
        "        [[1,2,3],[4,5,6],[7,8,0]],\n",
        "        [[8,7,6],[5,4,3],[2,1,0]],\n",
        "        [[0,1,2],[3,4,5],[6,7,8]],\n",
        "        [[0,8,7],[6,5,4],[3,2,1]]\n",
        "    ]\n",
        "\n",
        "    def count_misplaced(self, state, goal):\n",
        "        count = 0\n",
        "        for i in range(3):\n",
        "            for j in range(3):\n",
        "                if state[i][j] != goal[i][j] and state[i][j] != 0:\n",
        "                    count += 1\n",
        "        return count\n",
        "\n",
        "    def __call__(self, state):\n",
        "        min_misplaced = None\n",
        "        for goal in self.goals:\n",
        "            misplaced = self.count_misplaced(state, goal)\n",
        "            if min_misplaced is None or misplaced <= min_misplaced:\n",
        "                min_misplaced = misplaced\n",
        "        return (min_misplaced + 1) // 2\n",
        "\n"
      ],
      "metadata": {
        "id": "xMRDVIGaBFH9"
      },
      "execution_count": 3,
      "outputs": []
    },
    {
      "cell_type": "code",
      "source": [
        "class A_star:\n",
        "    def __init__(self, start_node, heuristic: Heuristic):\n",
        "        self.start_node = start_node\n",
        "        self.heuristic = heuristic\n",
        "        self.start_node.heuristic = self.heuristic(self.start_node.state)\n",
        "\n",
        "    def reconstruct_path(self, node):\n",
        "        path = []\n",
        "        while node:\n",
        "            path.append(node)\n",
        "            node = node.parent\n",
        "        path.reverse()\n",
        "        return path\n",
        "\n",
        "    def solve(self):\n",
        "        frontier = []\n",
        "        explored = set()\n",
        "        node_explored = 0\n",
        "\n",
        "        if self.start_node.is_goal():\n",
        "            return self.reconstruct_path(self.start_node), self.start_node.cost, node_explored\n",
        "\n",
        "        heapq.heappush(frontier, (self.start_node.cost + self.start_node.heuristic, self.start_node))\n",
        "        best_cost = {self.start_node.get_node_str(): self.start_node.cost}\n",
        "\n",
        "        while frontier:\n",
        "            f_val, current = heapq.heappop(frontier)\n",
        "            node_explored += 1\n",
        "            if current.is_goal():\n",
        "                return self.reconstruct_path(current), current.cost, node_explored\n",
        "\n",
        "            if current.get_node_str() in explored:\n",
        "                continue\n",
        "\n",
        "            explored.add(current.get_node_str())\n",
        "            for child in current.get_successors():\n",
        "                child.heuristic = self.heuristic(child.state)\n",
        "                total_cost = child.cost + child.heuristic\n",
        "                state_str = child.get_node_str()\n",
        "                if state_str not in best_cost or child.cost < best_cost[state_str]:\n",
        "                    best_cost[state_str] = child.cost\n",
        "                    heapq.heappush(frontier, (total_cost, child))\n",
        "\n",
        "        return None, None, node_explored"
      ],
      "metadata": {
        "id": "UuKrF0cEkKzq"
      },
      "execution_count": 4,
      "outputs": []
    },
    {
      "cell_type": "code",
      "execution_count": 5,
      "metadata": {
        "id": "gz_7HQoyGDnX"
      },
      "outputs": [],
      "source": [
        "class BFS:\n",
        "    def __init__(self, start_node, max_limit=50000):\n",
        "        self.start_node = start_node\n",
        "        self.max_limit = max_limit\n",
        "\n",
        "    def solve(self):\n",
        "\n",
        "        if self.start_node.is_goal():\n",
        "            return [self.start_node], 0, 0\n",
        "\n",
        "        frontier = deque([self.start_node])\n",
        "        explored = set()\n",
        "        nodes_expanded = 0\n",
        "\n",
        "        while frontier:\n",
        "            current = frontier.popleft()\n",
        "            nodes_expanded += 1\n",
        "\n",
        "            if current.is_goal():\n",
        "                path = []\n",
        "                while current:\n",
        "                    path.append(current)\n",
        "                    current = current.parent\n",
        "                path.reverse()\n",
        "                return path, path[-1].cost, nodes_expanded\n",
        "\n",
        "            explored.add(current.get_node_str())\n",
        "            for child in current.get_successors():\n",
        "                if child.get_node_str() not in explored:\n",
        "                    frontier.append(child)\n",
        "\n",
        "        return None, None, nodes_expanded\n"
      ]
    },
    {
      "cell_type": "code",
      "execution_count": 6,
      "metadata": {
        "id": "YoyQmhpm24im"
      },
      "outputs": [],
      "source": [
        "def illustrate_search_tree(start_node, n, heuristic_obj):\n",
        "  astar = A_star(start_node, heuristic_obj)\n",
        "  dot = Digraph()\n",
        "  frontier = []\n",
        "  heapq.heappush(frontier, (start_node.cost + start_node.heuristic, start_node))\n",
        "  explored = set()\n",
        "  count = 0\n",
        "\n",
        "  while frontier and count < n:\n",
        "      f_value, current = heapq.heappop(frontier)\n",
        "      if current.get_node_str() in explored:\n",
        "          continue\n",
        "\n",
        "      explored.add(current.get_node_str())\n",
        "      current.draw(dot)\n",
        "      count += 1\n",
        "\n",
        "      for child in current.get_successors():\n",
        "          child.heuristic = astar.heuristic(child.state)\n",
        "          total_cost = child.cost + child.heuristic\n",
        "          heapq.heappush(frontier, (total_cost, child))\n",
        "\n",
        "  return dot\n",
        "\n"
      ]
    },
    {
      "cell_type": "code",
      "execution_count": 7,
      "metadata": {
        "colab": {
          "base_uri": "https://localhost:8080/",
          "height": 468
        },
        "id": "CtQfjN7o3FK7",
        "outputId": "b759ce08-13ad-4f76-a990-ddad4aa287b0"
      },
      "outputs": [
        {
          "output_type": "execute_result",
          "data": {
            "image/svg+xml": "<?xml version=\"1.0\" encoding=\"UTF-8\" standalone=\"no\"?>\n<!DOCTYPE svg PUBLIC \"-//W3C//DTD SVG 1.1//EN\"\n \"http://www.w3.org/Graphics/SVG/1.1/DTD/svg11.dtd\">\n<!-- Generated by graphviz version 2.43.0 (0)\n -->\n<!-- Title: %3 Pages: 1 -->\n<svg width=\"580pt\" height=\"335pt\"\n viewBox=\"0.00 0.00 580.11 334.86\" xmlns=\"http://www.w3.org/2000/svg\" xmlns:xlink=\"http://www.w3.org/1999/xlink\">\n<g id=\"graph0\" class=\"graph\" transform=\"scale(1 1) rotate(0) translate(4 330.86)\">\n<title>%3</title>\n<polygon fill=\"white\" stroke=\"transparent\" points=\"-4,4 -4,-330.86 576.11,-330.86 576.11,4 -4,4\"/>\n<!-- 8 3 5\n2 1 6\n7 4 _ -->\n<g id=\"node1\" class=\"node\">\n<title>8 3 5\n2 1 6\n7 4 _</title>\n<ellipse fill=\"none\" stroke=\"black\" cx=\"317.11\" cy=\"-289.38\" rx=\"31.23\" ry=\"37.45\"/>\n<text text-anchor=\"middle\" x=\"317.11\" y=\"-300.68\" font-family=\"Times,serif\" font-size=\"14.00\">8 3 5</text>\n<text text-anchor=\"middle\" x=\"317.11\" y=\"-285.68\" font-family=\"Times,serif\" font-size=\"14.00\">2 1 6</text>\n<text text-anchor=\"middle\" x=\"317.11\" y=\"-270.68\" font-family=\"Times,serif\" font-size=\"14.00\">7 4 _</text>\n</g>\n<!-- 8 3 5\n2 1 6\n7 _ 4 -->\n<g id=\"node2\" class=\"node\">\n<title>8 3 5\n2 1 6\n7 _ 4</title>\n<ellipse fill=\"none\" stroke=\"black\" cx=\"238.11\" cy=\"-163.43\" rx=\"31.23\" ry=\"37.45\"/>\n<text text-anchor=\"middle\" x=\"238.11\" y=\"-174.73\" font-family=\"Times,serif\" font-size=\"14.00\">8 3 5</text>\n<text text-anchor=\"middle\" x=\"238.11\" y=\"-159.73\" font-family=\"Times,serif\" font-size=\"14.00\">2 1 6</text>\n<text text-anchor=\"middle\" x=\"238.11\" y=\"-144.73\" font-family=\"Times,serif\" font-size=\"14.00\">7 _ 4</text>\n</g>\n<!-- 8 3 5\n2 1 6\n7 4 _&#45;&gt;8 3 5\n2 1 6\n7 _ 4 -->\n<g id=\"edge1\" class=\"edge\">\n<title>8 3 5\n2 1 6\n7 4 _&#45;&gt;8 3 5\n2 1 6\n7 _ 4</title>\n<path fill=\"none\" stroke=\"black\" d=\"M298.39,-259.01C287.57,-242.03 273.84,-220.48 262.21,-202.25\"/>\n<polygon fill=\"black\" stroke=\"black\" points=\"265.03,-200.15 256.7,-193.59 259.12,-203.91 265.03,-200.15\"/>\n<text text-anchor=\"middle\" x=\"287.11\" y=\"-222.71\" font-family=\"Times,serif\" font-size=\"14.00\">R</text>\n</g>\n<!-- 8 3 5\n2 1 _\n7 4 6 -->\n<g id=\"node3\" class=\"node\">\n<title>8 3 5\n2 1 _\n7 4 6</title>\n<ellipse fill=\"none\" stroke=\"black\" cx=\"437.11\" cy=\"-163.43\" rx=\"31.23\" ry=\"37.45\"/>\n<text text-anchor=\"middle\" x=\"437.11\" y=\"-174.73\" font-family=\"Times,serif\" font-size=\"14.00\">8 3 5</text>\n<text text-anchor=\"middle\" x=\"437.11\" y=\"-159.73\" font-family=\"Times,serif\" font-size=\"14.00\">2 1 _</text>\n<text text-anchor=\"middle\" x=\"437.11\" y=\"-144.73\" font-family=\"Times,serif\" font-size=\"14.00\">7 4 6</text>\n</g>\n<!-- 8 3 5\n2 1 6\n7 4 _&#45;&gt;8 3 5\n2 1 _\n7 4 6 -->\n<g id=\"edge2\" class=\"edge\">\n<title>8 3 5\n2 1 6\n7 4 _&#45;&gt;8 3 5\n2 1 _\n7 4 6</title>\n<path fill=\"none\" stroke=\"black\" d=\"M340.53,-264.19C359.45,-244.65 386.21,-217.01 406.76,-195.78\"/>\n<polygon fill=\"black\" stroke=\"black\" points=\"409.31,-198.18 413.75,-188.56 404.28,-193.31 409.31,-198.18\"/>\n<text text-anchor=\"middle\" x=\"389.11\" y=\"-222.71\" font-family=\"Times,serif\" font-size=\"14.00\">D</text>\n</g>\n<!-- 8 3 5\n7 1 6\n2 _ 4 -->\n<g id=\"node4\" class=\"node\">\n<title>8 3 5\n7 1 6\n2 _ 4</title>\n<ellipse fill=\"none\" stroke=\"black\" cx=\"31.11\" cy=\"-37.48\" rx=\"31.23\" ry=\"37.45\"/>\n<text text-anchor=\"middle\" x=\"31.11\" y=\"-48.78\" font-family=\"Times,serif\" font-size=\"14.00\">8 3 5</text>\n<text text-anchor=\"middle\" x=\"31.11\" y=\"-33.78\" font-family=\"Times,serif\" font-size=\"14.00\">7 1 6</text>\n<text text-anchor=\"middle\" x=\"31.11\" y=\"-18.78\" font-family=\"Times,serif\" font-size=\"14.00\">2 _ 4</text>\n</g>\n<!-- 8 3 5\n2 1 6\n7 _ 4&#45;&gt;8 3 5\n7 1 6\n2 _ 4 -->\n<g id=\"edge3\" class=\"edge\">\n<title>8 3 5\n2 1 6\n7 _ 4&#45;&gt;8 3 5\n7 1 6\n2 _ 4</title>\n<path fill=\"none\" stroke=\"black\" d=\"M206.89,-159.68C169.73,-154.92 107.61,-142.1 67.11,-107.95 58.77,-100.92 52.12,-91.46 46.92,-81.79\"/>\n<polygon fill=\"black\" stroke=\"black\" points=\"49.92,-79.96 42.37,-72.52 43.63,-83.04 49.92,-79.96\"/>\n<text text-anchor=\"middle\" x=\"94.61\" y=\"-96.75\" font-family=\"Times,serif\" font-size=\"14.00\">Swap 2_7</text>\n</g>\n<!-- 4 3 5\n2 1 6\n7 _ 8 -->\n<g id=\"node6\" class=\"node\">\n<title>4 3 5\n2 1 6\n7 _ 8</title>\n<ellipse fill=\"none\" stroke=\"black\" cx=\"111.11\" cy=\"-37.48\" rx=\"31.23\" ry=\"37.45\"/>\n<text text-anchor=\"middle\" x=\"111.11\" y=\"-48.78\" font-family=\"Times,serif\" font-size=\"14.00\">4 3 5</text>\n<text text-anchor=\"middle\" x=\"111.11\" y=\"-33.78\" font-family=\"Times,serif\" font-size=\"14.00\">2 1 6</text>\n<text text-anchor=\"middle\" x=\"111.11\" y=\"-18.78\" font-family=\"Times,serif\" font-size=\"14.00\">7 _ 8</text>\n</g>\n<!-- 8 3 5\n2 1 6\n7 _ 4&#45;&gt;4 3 5\n2 1 6\n7 _ 8 -->\n<g id=\"edge5\" class=\"edge\">\n<title>8 3 5\n2 1 6\n7 _ 4&#45;&gt;4 3 5\n2 1 6\n7 _ 8</title>\n<path fill=\"none\" stroke=\"black\" d=\"M207.86,-152.69C185.57,-144.11 155.97,-129.58 137.11,-107.95 130.96,-100.9 126.2,-92.24 122.55,-83.47\"/>\n<polygon fill=\"black\" stroke=\"black\" points=\"125.78,-82.12 119,-73.98 119.22,-84.57 125.78,-82.12\"/>\n<text text-anchor=\"middle\" x=\"172.11\" y=\"-96.75\" font-family=\"Times,serif\" font-size=\"14.00\">Corner swap</text>\n</g>\n<!-- 8 3 5\n2 _ 6\n7 1 4 -->\n<g id=\"node7\" class=\"node\">\n<title>8 3 5\n2 _ 6\n7 1 4</title>\n<ellipse fill=\"none\" stroke=\"black\" cx=\"191.11\" cy=\"-37.48\" rx=\"31.23\" ry=\"37.45\"/>\n<text text-anchor=\"middle\" x=\"191.11\" y=\"-48.78\" font-family=\"Times,serif\" font-size=\"14.00\">8 3 5</text>\n<text text-anchor=\"middle\" x=\"191.11\" y=\"-33.78\" font-family=\"Times,serif\" font-size=\"14.00\">2 _ 6</text>\n<text text-anchor=\"middle\" x=\"191.11\" y=\"-18.78\" font-family=\"Times,serif\" font-size=\"14.00\">7 1 4</text>\n</g>\n<!-- 8 3 5\n2 1 6\n7 _ 4&#45;&gt;8 3 5\n2 _ 6\n7 1 4 -->\n<g id=\"edge6\" class=\"edge\">\n<title>8 3 5\n2 1 6\n7 _ 4&#45;&gt;8 3 5\n2 _ 6\n7 1 4</title>\n<path fill=\"none\" stroke=\"black\" d=\"M225.39,-128.89C219.86,-114.28 213.3,-96.98 207.41,-81.45\"/>\n<polygon fill=\"black\" stroke=\"black\" points=\"210.66,-80.16 203.84,-72.05 204.11,-82.64 210.66,-80.16\"/>\n<text text-anchor=\"middle\" x=\"222.11\" y=\"-96.75\" font-family=\"Times,serif\" font-size=\"14.00\">D</text>\n</g>\n<!-- 8 3 5\n2 1 6\n_ 7 4 -->\n<g id=\"node8\" class=\"node\">\n<title>8 3 5\n2 1 6\n_ 7 4</title>\n<ellipse fill=\"none\" stroke=\"black\" cx=\"271.11\" cy=\"-37.48\" rx=\"31.23\" ry=\"37.45\"/>\n<text text-anchor=\"middle\" x=\"271.11\" y=\"-48.78\" font-family=\"Times,serif\" font-size=\"14.00\">8 3 5</text>\n<text text-anchor=\"middle\" x=\"271.11\" y=\"-33.78\" font-family=\"Times,serif\" font-size=\"14.00\">2 1 6</text>\n<text text-anchor=\"middle\" x=\"271.11\" y=\"-18.78\" font-family=\"Times,serif\" font-size=\"14.00\">_ 7 4</text>\n</g>\n<!-- 8 3 5\n2 1 6\n7 _ 4&#45;&gt;8 3 5\n2 1 6\n_ 7 4 -->\n<g id=\"edge7\" class=\"edge\">\n<title>8 3 5\n2 1 6\n7 _ 4&#45;&gt;8 3 5\n2 1 6\n_ 7 4</title>\n<path fill=\"none\" stroke=\"black\" d=\"M247.39,-127.57C251.05,-113.84 255.29,-97.9 259.17,-83.33\"/>\n<polygon fill=\"black\" stroke=\"black\" points=\"262.6,-84.07 261.79,-73.5 255.83,-82.27 262.6,-84.07\"/>\n<text text-anchor=\"middle\" x=\"261.11\" y=\"-96.75\" font-family=\"Times,serif\" font-size=\"14.00\">R</text>\n</g>\n<!-- 8 3 7\n2 1 6\n5 _ 4 -->\n<g id=\"node9\" class=\"node\">\n<title>8 3 7\n2 1 6\n5 _ 4</title>\n<ellipse fill=\"none\" stroke=\"black\" cx=\"351.11\" cy=\"-37.48\" rx=\"31.23\" ry=\"37.45\"/>\n<text text-anchor=\"middle\" x=\"351.11\" y=\"-48.78\" font-family=\"Times,serif\" font-size=\"14.00\">8 3 7</text>\n<text text-anchor=\"middle\" x=\"351.11\" y=\"-33.78\" font-family=\"Times,serif\" font-size=\"14.00\">2 1 6</text>\n<text text-anchor=\"middle\" x=\"351.11\" y=\"-18.78\" font-family=\"Times,serif\" font-size=\"14.00\">5 _ 4</text>\n</g>\n<!-- 8 3 5\n2 1 6\n7 _ 4&#45;&gt;8 3 7\n2 1 6\n5 _ 4 -->\n<g id=\"edge8\" class=\"edge\">\n<title>8 3 5\n2 1 6\n7 _ 4&#45;&gt;8 3 7\n2 1 6\n5 _ 4</title>\n<path fill=\"none\" stroke=\"black\" d=\"M260.71,-137.64C278.15,-118.52 302.42,-91.89 321.43,-71.04\"/>\n<polygon fill=\"black\" stroke=\"black\" points=\"324.02,-73.39 328.17,-63.64 318.85,-68.68 324.02,-73.39\"/>\n<text text-anchor=\"middle\" x=\"336.11\" y=\"-96.75\" font-family=\"Times,serif\" font-size=\"14.00\">Corner swap</text>\n</g>\n<!-- 8 3 5\n7 1 _\n2 4 6 -->\n<g id=\"node5\" class=\"node\">\n<title>8 3 5\n7 1 _\n2 4 6</title>\n<ellipse fill=\"none\" stroke=\"black\" cx=\"437.11\" cy=\"-37.48\" rx=\"31.23\" ry=\"37.45\"/>\n<text text-anchor=\"middle\" x=\"437.11\" y=\"-48.78\" font-family=\"Times,serif\" font-size=\"14.00\">8 3 5</text>\n<text text-anchor=\"middle\" x=\"437.11\" y=\"-33.78\" font-family=\"Times,serif\" font-size=\"14.00\">7 1 _</text>\n<text text-anchor=\"middle\" x=\"437.11\" y=\"-18.78\" font-family=\"Times,serif\" font-size=\"14.00\">2 4 6</text>\n</g>\n<!-- 8 3 5\n2 1 _\n7 4 6&#45;&gt;8 3 5\n7 1 _\n2 4 6 -->\n<g id=\"edge4\" class=\"edge\">\n<title>8 3 5\n2 1 _\n7 4 6&#45;&gt;8 3 5\n7 1 _\n2 4 6</title>\n<path fill=\"none\" stroke=\"black\" d=\"M437.11,-125.91C437.11,-113.16 437.11,-98.68 437.11,-85.21\"/>\n<polygon fill=\"black\" stroke=\"black\" points=\"440.61,-85.16 437.11,-75.16 433.61,-85.16 440.61,-85.16\"/>\n<text text-anchor=\"middle\" x=\"464.61\" y=\"-96.75\" font-family=\"Times,serif\" font-size=\"14.00\">Swap 7_2</text>\n</g>\n<!-- 8 3 7\n2 1 _\n5 4 6 -->\n<g id=\"node10\" class=\"node\">\n<title>8 3 7\n2 1 _\n5 4 6</title>\n<ellipse fill=\"none\" stroke=\"black\" cx=\"517.11\" cy=\"-37.48\" rx=\"31.23\" ry=\"37.45\"/>\n<text text-anchor=\"middle\" x=\"517.11\" y=\"-48.78\" font-family=\"Times,serif\" font-size=\"14.00\">8 3 7</text>\n<text text-anchor=\"middle\" x=\"517.11\" y=\"-33.78\" font-family=\"Times,serif\" font-size=\"14.00\">2 1 _</text>\n<text text-anchor=\"middle\" x=\"517.11\" y=\"-18.78\" font-family=\"Times,serif\" font-size=\"14.00\">5 4 6</text>\n</g>\n<!-- 8 3 5\n2 1 _\n7 4 6&#45;&gt;8 3 7\n2 1 _\n5 4 6 -->\n<g id=\"edge9\" class=\"edge\">\n<title>8 3 5\n2 1 _\n7 4 6&#45;&gt;8 3 7\n2 1 _\n5 4 6</title>\n<path fill=\"none\" stroke=\"black\" d=\"M463.4,-142.79C474.52,-133.33 486.8,-121.17 495.11,-107.95 499.76,-100.56 503.5,-92.11 506.49,-83.7\"/>\n<polygon fill=\"black\" stroke=\"black\" points=\"509.91,-84.52 509.65,-73.92 503.25,-82.36 509.91,-84.52\"/>\n<text text-anchor=\"middle\" x=\"537.11\" y=\"-96.75\" font-family=\"Times,serif\" font-size=\"14.00\">Corner swap</text>\n</g>\n</g>\n</svg>\n",
            "text/plain": [
              "<graphviz.graphs.Digraph at 0x7cddf2732510>"
            ]
          },
          "metadata": {},
          "execution_count": 7
        }
      ],
      "source": [
        "start_state = Node.create_random_start()\n",
        "\n",
        "heuristic = ManhattanHeuristic()\n",
        "heuristic_2 = MisplacedHeuristic()\n",
        "\n",
        "dot = illustrate_search_tree(start_state, 10, heuristic_obj= heuristic_2)\n",
        "\n",
        "dot\n"
      ]
    },
    {
      "cell_type": "code",
      "execution_count": 8,
      "metadata": {
        "colab": {
          "base_uri": "https://localhost:8080/",
          "height": 636
        },
        "id": "2m1RvfAY60BP",
        "outputId": "45ce9e33-8b72-4971-dfd9-9e41c12a8e48"
      },
      "outputs": [
        {
          "output_type": "execute_result",
          "data": {
            "image/svg+xml": "<?xml version=\"1.0\" encoding=\"UTF-8\" standalone=\"no\"?>\n<!DOCTYPE svg PUBLIC \"-//W3C//DTD SVG 1.1//EN\"\n \"http://www.w3.org/Graphics/SVG/1.1/DTD/svg11.dtd\">\n<!-- Generated by graphviz version 2.43.0 (0)\n -->\n<!-- Title: %3 Pages: 1 -->\n<svg width=\"325pt\" height=\"461pt\"\n viewBox=\"0.00 0.00 325.11 460.81\" xmlns=\"http://www.w3.org/2000/svg\" xmlns:xlink=\"http://www.w3.org/1999/xlink\">\n<g id=\"graph0\" class=\"graph\" transform=\"scale(1 1) rotate(0) translate(4 456.81)\">\n<title>%3</title>\n<polygon fill=\"white\" stroke=\"transparent\" points=\"-4,4 -4,-456.81 321.11,-456.81 321.11,4 -4,4\"/>\n<!-- 2 6 _\n7 8 3\n5 4 1 -->\n<g id=\"node1\" class=\"node\">\n<title>2 6 _\n7 8 3\n5 4 1</title>\n<ellipse fill=\"none\" stroke=\"black\" cx=\"191.11\" cy=\"-415.34\" rx=\"31.23\" ry=\"37.45\"/>\n<text text-anchor=\"middle\" x=\"191.11\" y=\"-426.64\" font-family=\"Times,serif\" font-size=\"14.00\">2 6 _</text>\n<text text-anchor=\"middle\" x=\"191.11\" y=\"-411.64\" font-family=\"Times,serif\" font-size=\"14.00\">7 8 3</text>\n<text text-anchor=\"middle\" x=\"191.11\" y=\"-396.64\" font-family=\"Times,serif\" font-size=\"14.00\">5 4 1</text>\n</g>\n<!-- 2 _ 6\n7 8 3\n5 4 1 -->\n<g id=\"node2\" class=\"node\">\n<title>2 _ 6\n7 8 3\n5 4 1</title>\n<ellipse fill=\"none\" stroke=\"black\" cx=\"152.11\" cy=\"-289.38\" rx=\"31.23\" ry=\"37.45\"/>\n<text text-anchor=\"middle\" x=\"152.11\" y=\"-300.68\" font-family=\"Times,serif\" font-size=\"14.00\">2 _ 6</text>\n<text text-anchor=\"middle\" x=\"152.11\" y=\"-285.68\" font-family=\"Times,serif\" font-size=\"14.00\">7 8 3</text>\n<text text-anchor=\"middle\" x=\"152.11\" y=\"-270.68\" font-family=\"Times,serif\" font-size=\"14.00\">5 4 1</text>\n</g>\n<!-- 2 6 _\n7 8 3\n5 4 1&#45;&gt;2 _ 6\n7 8 3\n5 4 1 -->\n<g id=\"edge1\" class=\"edge\">\n<title>2 6 _\n7 8 3\n5 4 1&#45;&gt;2 _ 6\n7 8 3\n5 4 1</title>\n<path fill=\"none\" stroke=\"black\" d=\"M180.35,-380.14C175.91,-366.03 170.71,-349.5 165.99,-334.5\"/>\n<polygon fill=\"black\" stroke=\"black\" points=\"169.31,-333.39 162.97,-324.9 162.64,-335.49 169.31,-333.39\"/>\n<text text-anchor=\"middle\" x=\"178.11\" y=\"-348.66\" font-family=\"Times,serif\" font-size=\"14.00\">R</text>\n</g>\n<!-- 2 6 3\n7 8 _\n5 4 1 -->\n<g id=\"node7\" class=\"node\">\n<title>2 6 3\n7 8 _\n5 4 1</title>\n<ellipse fill=\"none\" stroke=\"black\" cx=\"252.11\" cy=\"-289.38\" rx=\"31.23\" ry=\"37.45\"/>\n<text text-anchor=\"middle\" x=\"252.11\" y=\"-300.68\" font-family=\"Times,serif\" font-size=\"14.00\">2 6 3</text>\n<text text-anchor=\"middle\" x=\"252.11\" y=\"-285.68\" font-family=\"Times,serif\" font-size=\"14.00\">7 8 _</text>\n<text text-anchor=\"middle\" x=\"252.11\" y=\"-270.68\" font-family=\"Times,serif\" font-size=\"14.00\">5 4 1</text>\n</g>\n<!-- 2 6 _\n7 8 3\n5 4 1&#45;&gt;2 6 3\n7 8 _\n5 4 1 -->\n<g id=\"edge6\" class=\"edge\">\n<title>2 6 _\n7 8 3\n5 4 1&#45;&gt;2 6 3\n7 8 _\n5 4 1</title>\n<path fill=\"none\" stroke=\"black\" d=\"M206.66,-382.74C214.41,-367 223.86,-347.8 232.13,-330.98\"/>\n<polygon fill=\"black\" stroke=\"black\" points=\"235.32,-332.44 236.59,-321.92 229.03,-329.35 235.32,-332.44\"/>\n<text text-anchor=\"middle\" x=\"230.11\" y=\"-348.66\" font-family=\"Times,serif\" font-size=\"14.00\">U</text>\n</g>\n<!-- 2 8 6\n7 _ 3\n5 4 1 -->\n<g id=\"node3\" class=\"node\">\n<title>2 8 6\n7 _ 3\n5 4 1</title>\n<ellipse fill=\"none\" stroke=\"black\" cx=\"31.11\" cy=\"-163.43\" rx=\"31.23\" ry=\"37.45\"/>\n<text text-anchor=\"middle\" x=\"31.11\" y=\"-174.73\" font-family=\"Times,serif\" font-size=\"14.00\">2 8 6</text>\n<text text-anchor=\"middle\" x=\"31.11\" y=\"-159.73\" font-family=\"Times,serif\" font-size=\"14.00\">7 _ 3</text>\n<text text-anchor=\"middle\" x=\"31.11\" y=\"-144.73\" font-family=\"Times,serif\" font-size=\"14.00\">5 4 1</text>\n</g>\n<!-- 2 _ 6\n7 8 3\n5 4 1&#45;&gt;2 8 6\n7 _ 3\n5 4 1 -->\n<g id=\"edge2\" class=\"edge\">\n<title>2 _ 6\n7 8 3\n5 4 1&#45;&gt;2 8 6\n7 _ 3\n5 4 1</title>\n<path fill=\"none\" stroke=\"black\" d=\"M127.21,-266.37C116.5,-256.65 103.96,-244.94 93.11,-233.91 81.97,-222.57 70.24,-209.7 60.02,-198.14\"/>\n<polygon fill=\"black\" stroke=\"black\" points=\"62.44,-195.59 53.21,-190.38 57.18,-200.2 62.44,-195.59\"/>\n<text text-anchor=\"middle\" x=\"98.11\" y=\"-222.71\" font-family=\"Times,serif\" font-size=\"14.00\">U</text>\n</g>\n<!-- 7 _ 6\n2 8 3\n5 4 1 -->\n<g id=\"node4\" class=\"node\">\n<title>7 _ 6\n2 8 3\n5 4 1</title>\n<ellipse fill=\"none\" stroke=\"black\" cx=\"111.11\" cy=\"-163.43\" rx=\"31.23\" ry=\"37.45\"/>\n<text text-anchor=\"middle\" x=\"111.11\" y=\"-174.73\" font-family=\"Times,serif\" font-size=\"14.00\">7 _ 6</text>\n<text text-anchor=\"middle\" x=\"111.11\" y=\"-159.73\" font-family=\"Times,serif\" font-size=\"14.00\">2 8 3</text>\n<text text-anchor=\"middle\" x=\"111.11\" y=\"-144.73\" font-family=\"Times,serif\" font-size=\"14.00\">5 4 1</text>\n</g>\n<!-- 2 _ 6\n7 8 3\n5 4 1&#45;&gt;7 _ 6\n2 8 3\n5 4 1 -->\n<g id=\"edge3\" class=\"edge\">\n<title>2 _ 6\n7 8 3\n5 4 1&#45;&gt;7 _ 6\n2 8 3\n5 4 1</title>\n<path fill=\"none\" stroke=\"black\" d=\"M128.4,-264.67C121.07,-255.78 113.93,-245.1 110.11,-233.91 107.62,-226.6 106.44,-218.61 106.07,-210.73\"/>\n<polygon fill=\"black\" stroke=\"black\" points=\"109.57,-210.48 106,-200.5 102.57,-210.53 109.57,-210.48\"/>\n<text text-anchor=\"middle\" x=\"137.61\" y=\"-222.71\" font-family=\"Times,serif\" font-size=\"14.00\">Swap 2_7</text>\n</g>\n<!-- _ 2 6\n7 8 3\n5 4 1 -->\n<g id=\"node8\" class=\"node\">\n<title>_ 2 6\n7 8 3\n5 4 1</title>\n<ellipse fill=\"none\" stroke=\"black\" cx=\"191.11\" cy=\"-163.43\" rx=\"31.23\" ry=\"37.45\"/>\n<text text-anchor=\"middle\" x=\"191.11\" y=\"-174.73\" font-family=\"Times,serif\" font-size=\"14.00\">_ 2 6</text>\n<text text-anchor=\"middle\" x=\"191.11\" y=\"-159.73\" font-family=\"Times,serif\" font-size=\"14.00\">7 8 3</text>\n<text text-anchor=\"middle\" x=\"191.11\" y=\"-144.73\" font-family=\"Times,serif\" font-size=\"14.00\">5 4 1</text>\n</g>\n<!-- 2 _ 6\n7 8 3\n5 4 1&#45;&gt;_ 2 6\n7 8 3\n5 4 1 -->\n<g id=\"edge7\" class=\"edge\">\n<title>2 _ 6\n7 8 3\n5 4 1&#45;&gt;_ 2 6\n7 8 3\n5 4 1</title>\n<path fill=\"none\" stroke=\"black\" d=\"M162.87,-254.18C167.31,-240.08 172.51,-223.55 177.23,-208.55\"/>\n<polygon fill=\"black\" stroke=\"black\" points=\"180.59,-209.54 180.25,-198.95 173.91,-207.44 180.59,-209.54\"/>\n<text text-anchor=\"middle\" x=\"178.11\" y=\"-222.71\" font-family=\"Times,serif\" font-size=\"14.00\">R</text>\n</g>\n<!-- 2 8 6\n7 4 3\n5 _ 1 -->\n<g id=\"node10\" class=\"node\">\n<title>2 8 6\n7 4 3\n5 _ 1</title>\n<ellipse fill=\"none\" stroke=\"black\" cx=\"31.11\" cy=\"-37.48\" rx=\"31.23\" ry=\"37.45\"/>\n<text text-anchor=\"middle\" x=\"31.11\" y=\"-48.78\" font-family=\"Times,serif\" font-size=\"14.00\">2 8 6</text>\n<text text-anchor=\"middle\" x=\"31.11\" y=\"-33.78\" font-family=\"Times,serif\" font-size=\"14.00\">7 4 3</text>\n<text text-anchor=\"middle\" x=\"31.11\" y=\"-18.78\" font-family=\"Times,serif\" font-size=\"14.00\">5 _ 1</text>\n</g>\n<!-- 2 8 6\n7 _ 3\n5 4 1&#45;&gt;2 8 6\n7 4 3\n5 _ 1 -->\n<g id=\"edge9\" class=\"edge\">\n<title>2 8 6\n7 _ 3\n5 4 1&#45;&gt;2 8 6\n7 4 3\n5 _ 1</title>\n<path fill=\"none\" stroke=\"black\" d=\"M31.11,-125.91C31.11,-113.16 31.11,-98.68 31.11,-85.21\"/>\n<polygon fill=\"black\" stroke=\"black\" points=\"34.61,-85.16 31.11,-75.16 27.61,-85.16 34.61,-85.16\"/>\n<text text-anchor=\"middle\" x=\"36.11\" y=\"-96.75\" font-family=\"Times,serif\" font-size=\"14.00\">U</text>\n</g>\n<!-- _ 7 6\n2 8 3\n5 4 1 -->\n<g id=\"node5\" class=\"node\">\n<title>_ 7 6\n2 8 3\n5 4 1</title>\n<ellipse fill=\"none\" stroke=\"black\" cx=\"111.11\" cy=\"-37.48\" rx=\"31.23\" ry=\"37.45\"/>\n<text text-anchor=\"middle\" x=\"111.11\" y=\"-48.78\" font-family=\"Times,serif\" font-size=\"14.00\">_ 7 6</text>\n<text text-anchor=\"middle\" x=\"111.11\" y=\"-33.78\" font-family=\"Times,serif\" font-size=\"14.00\">2 8 3</text>\n<text text-anchor=\"middle\" x=\"111.11\" y=\"-18.78\" font-family=\"Times,serif\" font-size=\"14.00\">5 4 1</text>\n</g>\n<!-- 7 _ 6\n2 8 3\n5 4 1&#45;&gt;_ 7 6\n2 8 3\n5 4 1 -->\n<g id=\"edge4\" class=\"edge\">\n<title>7 _ 6\n2 8 3\n5 4 1&#45;&gt;_ 7 6\n2 8 3\n5 4 1</title>\n<path fill=\"none\" stroke=\"black\" d=\"M111.11,-125.91C111.11,-113.16 111.11,-98.68 111.11,-85.21\"/>\n<polygon fill=\"black\" stroke=\"black\" points=\"114.61,-85.16 111.11,-75.16 107.61,-85.16 114.61,-85.16\"/>\n<text text-anchor=\"middle\" x=\"116.11\" y=\"-96.75\" font-family=\"Times,serif\" font-size=\"14.00\">R</text>\n</g>\n<!-- 7 8 6\n2 _ 3\n5 4 1 -->\n<g id=\"node6\" class=\"node\">\n<title>7 8 6\n2 _ 3\n5 4 1</title>\n<ellipse fill=\"none\" stroke=\"black\" cx=\"191.11\" cy=\"-37.48\" rx=\"31.23\" ry=\"37.45\"/>\n<text text-anchor=\"middle\" x=\"191.11\" y=\"-48.78\" font-family=\"Times,serif\" font-size=\"14.00\">7 8 6</text>\n<text text-anchor=\"middle\" x=\"191.11\" y=\"-33.78\" font-family=\"Times,serif\" font-size=\"14.00\">2 _ 3</text>\n<text text-anchor=\"middle\" x=\"191.11\" y=\"-18.78\" font-family=\"Times,serif\" font-size=\"14.00\">5 4 1</text>\n</g>\n<!-- 7 _ 6\n2 8 3\n5 4 1&#45;&gt;7 8 6\n2 _ 3\n5 4 1 -->\n<g id=\"edge5\" class=\"edge\">\n<title>7 _ 6\n2 8 3\n5 4 1&#45;&gt;7 8 6\n2 _ 3\n5 4 1</title>\n<path fill=\"none\" stroke=\"black\" d=\"M129.87,-133.37C140.82,-116.4 154.77,-94.78 166.59,-76.47\"/>\n<polygon fill=\"black\" stroke=\"black\" points=\"169.71,-78.09 172.2,-67.79 163.83,-74.29 169.71,-78.09\"/>\n<text text-anchor=\"middle\" x=\"160.11\" y=\"-96.75\" font-family=\"Times,serif\" font-size=\"14.00\">U</text>\n</g>\n<!-- 7 6 3\n2 8 _\n5 4 1 -->\n<g id=\"node9\" class=\"node\">\n<title>7 6 3\n2 8 _\n5 4 1</title>\n<ellipse fill=\"none\" stroke=\"black\" cx=\"271.11\" cy=\"-163.43\" rx=\"31.23\" ry=\"37.45\"/>\n<text text-anchor=\"middle\" x=\"271.11\" y=\"-174.73\" font-family=\"Times,serif\" font-size=\"14.00\">7 6 3</text>\n<text text-anchor=\"middle\" x=\"271.11\" y=\"-159.73\" font-family=\"Times,serif\" font-size=\"14.00\">2 8 _</text>\n<text text-anchor=\"middle\" x=\"271.11\" y=\"-144.73\" font-family=\"Times,serif\" font-size=\"14.00\">5 4 1</text>\n</g>\n<!-- 2 6 3\n7 8 _\n5 4 1&#45;&gt;7 6 3\n2 8 _\n5 4 1 -->\n<g id=\"edge8\" class=\"edge\">\n<title>2 6 3\n7 8 _\n5 4 1&#45;&gt;7 6 3\n2 8 _\n5 4 1</title>\n<path fill=\"none\" stroke=\"black\" d=\"M257.66,-252.2C259.65,-239.21 261.92,-224.39 264.02,-210.67\"/>\n<polygon fill=\"black\" stroke=\"black\" points=\"267.54,-210.86 265.59,-200.45 260.62,-209.8 267.54,-210.86\"/>\n<text text-anchor=\"middle\" x=\"289.61\" y=\"-222.71\" font-family=\"Times,serif\" font-size=\"14.00\">Swap 2_7</text>\n</g>\n</g>\n</svg>\n",
            "text/plain": [
              "<graphviz.graphs.Digraph at 0x7cddf26c0470>"
            ]
          },
          "metadata": {},
          "execution_count": 8
        }
      ],
      "source": [
        "start_state = Node.create_random_start()\n",
        "heuristic = ManhattanHeuristic()\n",
        "dot = illustrate_search_tree(start_state, 10, heuristic_obj= heuristic)\n",
        "dot"
      ]
    },
    {
      "cell_type": "code",
      "execution_count": 9,
      "metadata": {
        "colab": {
          "base_uri": "https://localhost:8080/",
          "height": 1000
        },
        "id": "iidOS10SyKL7",
        "outputId": "1de73add-f5d4-4cd0-ecd1-9c1d3920bab9"
      },
      "outputs": [
        {
          "output_type": "stream",
          "name": "stdout",
          "text": [
            "Cost: 7\n",
            "Path length: 8\n",
            "Nodes expanded: 162\n"
          ]
        },
        {
          "output_type": "execute_result",
          "data": {
            "image/svg+xml": "<?xml version=\"1.0\" encoding=\"UTF-8\" standalone=\"no\"?>\n<!DOCTYPE svg PUBLIC \"-//W3C//DTD SVG 1.1//EN\"\n \"http://www.w3.org/Graphics/SVG/1.1/DTD/svg11.dtd\">\n<!-- Generated by graphviz version 2.43.0 (0)\n -->\n<!-- Title: %3 Pages: 1 -->\n<svg width=\"109pt\" height=\"965pt\"\n viewBox=\"0.00 0.00 109.11 964.63\" xmlns=\"http://www.w3.org/2000/svg\" xmlns:xlink=\"http://www.w3.org/1999/xlink\">\n<g id=\"graph0\" class=\"graph\" transform=\"scale(1 1) rotate(0) translate(4 960.63)\">\n<title>%3</title>\n<polygon fill=\"white\" stroke=\"transparent\" points=\"-4,4 -4,-960.63 105.11,-960.63 105.11,4 -4,4\"/>\n<!-- 1 2 3\n4 5 8\n_ 7 6 -->\n<g id=\"node1\" class=\"node\">\n<title>1 2 3\n4 5 8\n_ 7 6</title>\n<ellipse fill=\"none\" stroke=\"black\" cx=\"31.11\" cy=\"-919.15\" rx=\"31.23\" ry=\"37.45\"/>\n<text text-anchor=\"middle\" x=\"31.11\" y=\"-930.45\" font-family=\"Times,serif\" font-size=\"14.00\">1 2 3</text>\n<text text-anchor=\"middle\" x=\"31.11\" y=\"-915.45\" font-family=\"Times,serif\" font-size=\"14.00\">4 5 8</text>\n<text text-anchor=\"middle\" x=\"31.11\" y=\"-900.45\" font-family=\"Times,serif\" font-size=\"14.00\">_ 7 6</text>\n</g>\n<!-- 1 2 3\n4 5 8\n7 _ 6 -->\n<g id=\"node2\" class=\"node\">\n<title>1 2 3\n4 5 8\n7 _ 6</title>\n<ellipse fill=\"none\" stroke=\"black\" cx=\"31.11\" cy=\"-793.2\" rx=\"31.23\" ry=\"37.45\"/>\n<text text-anchor=\"middle\" x=\"31.11\" y=\"-804.5\" font-family=\"Times,serif\" font-size=\"14.00\">1 2 3</text>\n<text text-anchor=\"middle\" x=\"31.11\" y=\"-789.5\" font-family=\"Times,serif\" font-size=\"14.00\">4 5 8</text>\n<text text-anchor=\"middle\" x=\"31.11\" y=\"-774.5\" font-family=\"Times,serif\" font-size=\"14.00\">7 _ 6</text>\n</g>\n<!-- 1 2 3\n4 5 8\n_ 7 6&#45;&gt;1 2 3\n4 5 8\n7 _ 6 -->\n<g id=\"edge1\" class=\"edge\">\n<title>1 2 3\n4 5 8\n_ 7 6&#45;&gt;1 2 3\n4 5 8\n7 _ 6</title>\n<path fill=\"none\" stroke=\"black\" d=\"M31.11,-881.63C31.11,-868.88 31.11,-854.4 31.11,-840.93\"/>\n<polygon fill=\"black\" stroke=\"black\" points=\"34.61,-840.88 31.11,-830.88 27.61,-840.88 34.61,-840.88\"/>\n<text text-anchor=\"middle\" x=\"35.61\" y=\"-852.47\" font-family=\"Times,serif\" font-size=\"14.00\">L</text>\n</g>\n<!-- 6 2 3\n4 5 8\n7 _ 1 -->\n<g id=\"node3\" class=\"node\">\n<title>6 2 3\n4 5 8\n7 _ 1</title>\n<ellipse fill=\"none\" stroke=\"black\" cx=\"31.11\" cy=\"-667.24\" rx=\"31.23\" ry=\"37.45\"/>\n<text text-anchor=\"middle\" x=\"31.11\" y=\"-678.54\" font-family=\"Times,serif\" font-size=\"14.00\">6 2 3</text>\n<text text-anchor=\"middle\" x=\"31.11\" y=\"-663.54\" font-family=\"Times,serif\" font-size=\"14.00\">4 5 8</text>\n<text text-anchor=\"middle\" x=\"31.11\" y=\"-648.54\" font-family=\"Times,serif\" font-size=\"14.00\">7 _ 1</text>\n</g>\n<!-- 1 2 3\n4 5 8\n7 _ 6&#45;&gt;6 2 3\n4 5 8\n7 _ 1 -->\n<g id=\"edge2\" class=\"edge\">\n<title>1 2 3\n4 5 8\n7 _ 6&#45;&gt;6 2 3\n4 5 8\n7 _ 1</title>\n<path fill=\"none\" stroke=\"black\" d=\"M31.11,-755.68C31.11,-742.93 31.11,-728.44 31.11,-714.98\"/>\n<polygon fill=\"black\" stroke=\"black\" points=\"34.61,-714.93 31.11,-704.93 27.61,-714.93 34.61,-714.93\"/>\n<text text-anchor=\"middle\" x=\"66.11\" y=\"-726.52\" font-family=\"Times,serif\" font-size=\"14.00\">Corner swap</text>\n</g>\n<!-- 6 2 3\n4 5 1\n7 _ 8 -->\n<g id=\"node4\" class=\"node\">\n<title>6 2 3\n4 5 1\n7 _ 8</title>\n<ellipse fill=\"none\" stroke=\"black\" cx=\"31.11\" cy=\"-541.29\" rx=\"31.23\" ry=\"37.45\"/>\n<text text-anchor=\"middle\" x=\"31.11\" y=\"-552.59\" font-family=\"Times,serif\" font-size=\"14.00\">6 2 3</text>\n<text text-anchor=\"middle\" x=\"31.11\" y=\"-537.59\" font-family=\"Times,serif\" font-size=\"14.00\">4 5 1</text>\n<text text-anchor=\"middle\" x=\"31.11\" y=\"-522.59\" font-family=\"Times,serif\" font-size=\"14.00\">7 _ 8</text>\n</g>\n<!-- 6 2 3\n4 5 8\n7 _ 1&#45;&gt;6 2 3\n4 5 1\n7 _ 8 -->\n<g id=\"edge3\" class=\"edge\">\n<title>6 2 3\n4 5 8\n7 _ 1&#45;&gt;6 2 3\n4 5 1\n7 _ 8</title>\n<path fill=\"none\" stroke=\"black\" d=\"M31.11,-629.72C31.11,-616.98 31.11,-602.49 31.11,-589.03\"/>\n<polygon fill=\"black\" stroke=\"black\" points=\"34.61,-588.98 31.11,-578.98 27.61,-588.98 34.61,-588.98\"/>\n<text text-anchor=\"middle\" x=\"58.61\" y=\"-600.57\" font-family=\"Times,serif\" font-size=\"14.00\">Swap 8_1</text>\n</g>\n<!-- 6 2 3\n4 5 1\n7 8 _ -->\n<g id=\"node5\" class=\"node\">\n<title>6 2 3\n4 5 1\n7 8 _</title>\n<ellipse fill=\"none\" stroke=\"black\" cx=\"31.11\" cy=\"-415.34\" rx=\"31.23\" ry=\"37.45\"/>\n<text text-anchor=\"middle\" x=\"31.11\" y=\"-426.64\" font-family=\"Times,serif\" font-size=\"14.00\">6 2 3</text>\n<text text-anchor=\"middle\" x=\"31.11\" y=\"-411.64\" font-family=\"Times,serif\" font-size=\"14.00\">4 5 1</text>\n<text text-anchor=\"middle\" x=\"31.11\" y=\"-396.64\" font-family=\"Times,serif\" font-size=\"14.00\">7 8 _</text>\n</g>\n<!-- 6 2 3\n4 5 1\n7 _ 8&#45;&gt;6 2 3\n4 5 1\n7 8 _ -->\n<g id=\"edge4\" class=\"edge\">\n<title>6 2 3\n4 5 1\n7 _ 8&#45;&gt;6 2 3\n4 5 1\n7 8 _</title>\n<path fill=\"none\" stroke=\"black\" d=\"M31.11,-503.77C31.11,-491.02 31.11,-476.54 31.11,-463.07\"/>\n<polygon fill=\"black\" stroke=\"black\" points=\"34.61,-463.02 31.11,-453.02 27.61,-463.02 34.61,-463.02\"/>\n<text text-anchor=\"middle\" x=\"35.61\" y=\"-474.61\" font-family=\"Times,serif\" font-size=\"14.00\">L</text>\n</g>\n<!-- 6 2 3\n4 5 _\n7 8 1 -->\n<g id=\"node6\" class=\"node\">\n<title>6 2 3\n4 5 _\n7 8 1</title>\n<ellipse fill=\"none\" stroke=\"black\" cx=\"31.11\" cy=\"-289.38\" rx=\"31.23\" ry=\"37.45\"/>\n<text text-anchor=\"middle\" x=\"31.11\" y=\"-300.68\" font-family=\"Times,serif\" font-size=\"14.00\">6 2 3</text>\n<text text-anchor=\"middle\" x=\"31.11\" y=\"-285.68\" font-family=\"Times,serif\" font-size=\"14.00\">4 5 _</text>\n<text text-anchor=\"middle\" x=\"31.11\" y=\"-270.68\" font-family=\"Times,serif\" font-size=\"14.00\">7 8 1</text>\n</g>\n<!-- 6 2 3\n4 5 1\n7 8 _&#45;&gt;6 2 3\n4 5 _\n7 8 1 -->\n<g id=\"edge5\" class=\"edge\">\n<title>6 2 3\n4 5 1\n7 8 _&#45;&gt;6 2 3\n4 5 _\n7 8 1</title>\n<path fill=\"none\" stroke=\"black\" d=\"M31.11,-377.82C31.11,-365.07 31.11,-350.58 31.11,-337.12\"/>\n<polygon fill=\"black\" stroke=\"black\" points=\"34.61,-337.07 31.11,-327.07 27.61,-337.07 34.61,-337.07\"/>\n<text text-anchor=\"middle\" x=\"36.11\" y=\"-348.66\" font-family=\"Times,serif\" font-size=\"14.00\">D</text>\n</g>\n<!-- 1 2 3\n4 5 _\n7 8 6 -->\n<g id=\"node7\" class=\"node\">\n<title>1 2 3\n4 5 _\n7 8 6</title>\n<ellipse fill=\"none\" stroke=\"black\" cx=\"31.11\" cy=\"-163.43\" rx=\"31.23\" ry=\"37.45\"/>\n<text text-anchor=\"middle\" x=\"31.11\" y=\"-174.73\" font-family=\"Times,serif\" font-size=\"14.00\">1 2 3</text>\n<text text-anchor=\"middle\" x=\"31.11\" y=\"-159.73\" font-family=\"Times,serif\" font-size=\"14.00\">4 5 _</text>\n<text text-anchor=\"middle\" x=\"31.11\" y=\"-144.73\" font-family=\"Times,serif\" font-size=\"14.00\">7 8 6</text>\n</g>\n<!-- 6 2 3\n4 5 _\n7 8 1&#45;&gt;1 2 3\n4 5 _\n7 8 6 -->\n<g id=\"edge6\" class=\"edge\">\n<title>6 2 3\n4 5 _\n7 8 1&#45;&gt;1 2 3\n4 5 _\n7 8 6</title>\n<path fill=\"none\" stroke=\"black\" d=\"M31.11,-251.86C31.11,-239.12 31.11,-224.63 31.11,-211.17\"/>\n<polygon fill=\"black\" stroke=\"black\" points=\"34.61,-211.12 31.11,-201.12 27.61,-211.12 34.61,-211.12\"/>\n<text text-anchor=\"middle\" x=\"66.11\" y=\"-222.71\" font-family=\"Times,serif\" font-size=\"14.00\">Corner swap</text>\n</g>\n<!-- 1 2 3\n4 5 6\n7 8 _ -->\n<g id=\"node8\" class=\"node\">\n<title>1 2 3\n4 5 6\n7 8 _</title>\n<ellipse fill=\"none\" stroke=\"black\" cx=\"31.11\" cy=\"-37.48\" rx=\"31.23\" ry=\"37.45\"/>\n<text text-anchor=\"middle\" x=\"31.11\" y=\"-48.78\" font-family=\"Times,serif\" font-size=\"14.00\">1 2 3</text>\n<text text-anchor=\"middle\" x=\"31.11\" y=\"-33.78\" font-family=\"Times,serif\" font-size=\"14.00\">4 5 6</text>\n<text text-anchor=\"middle\" x=\"31.11\" y=\"-18.78\" font-family=\"Times,serif\" font-size=\"14.00\">7 8 _</text>\n</g>\n<!-- 1 2 3\n4 5 _\n7 8 6&#45;&gt;1 2 3\n4 5 6\n7 8 _ -->\n<g id=\"edge7\" class=\"edge\">\n<title>1 2 3\n4 5 _\n7 8 6&#45;&gt;1 2 3\n4 5 6\n7 8 _</title>\n<path fill=\"none\" stroke=\"black\" d=\"M31.11,-125.91C31.11,-113.16 31.11,-98.68 31.11,-85.21\"/>\n<polygon fill=\"black\" stroke=\"black\" points=\"34.61,-85.16 31.11,-75.16 27.61,-85.16 34.61,-85.16\"/>\n<text text-anchor=\"middle\" x=\"36.11\" y=\"-96.75\" font-family=\"Times,serif\" font-size=\"14.00\">U</text>\n</g>\n</g>\n</svg>\n",
            "text/plain": [
              "<graphviz.graphs.Digraph at 0x7cddf26c2ff0>"
            ]
          },
          "metadata": {},
          "execution_count": 9
        }
      ],
      "source": [
        "start_state_2 = [[1,2,3],\n",
        "               [4,5,8],\n",
        "               [0,7,6]]\n",
        "heuristic = MisplacedHeuristic()\n",
        "solver = A_star(Node(start_state_2), heuristic)\n",
        "path,cost,num = solver.solve()\n",
        "print(\"Cost:\", cost)\n",
        "print(\"Path length:\", len(path))\n",
        "print(\"Nodes expanded:\", num)\n",
        "dot = Digraph()\n",
        "for node in path:\n",
        "    node.draw(dot)\n",
        "dot\n",
        "\n"
      ]
    },
    {
      "cell_type": "code",
      "execution_count": 10,
      "metadata": {
        "colab": {
          "base_uri": "https://localhost:8080/",
          "height": 1000
        },
        "id": "5-_YNfGw7tOw",
        "outputId": "871dd5b3-2209-4a51-ed81-65b1a8f0257c"
      },
      "outputs": [
        {
          "output_type": "stream",
          "name": "stdout",
          "text": [
            "Cost: 7\n",
            "Path length: 8\n",
            "Nodes expanded: 142\n"
          ]
        },
        {
          "output_type": "execute_result",
          "data": {
            "image/svg+xml": "<?xml version=\"1.0\" encoding=\"UTF-8\" standalone=\"no\"?>\n<!DOCTYPE svg PUBLIC \"-//W3C//DTD SVG 1.1//EN\"\n \"http://www.w3.org/Graphics/SVG/1.1/DTD/svg11.dtd\">\n<!-- Generated by graphviz version 2.43.0 (0)\n -->\n<!-- Title: %3 Pages: 1 -->\n<svg width=\"109pt\" height=\"965pt\"\n viewBox=\"0.00 0.00 109.11 964.63\" xmlns=\"http://www.w3.org/2000/svg\" xmlns:xlink=\"http://www.w3.org/1999/xlink\">\n<g id=\"graph0\" class=\"graph\" transform=\"scale(1 1) rotate(0) translate(4 960.63)\">\n<title>%3</title>\n<polygon fill=\"white\" stroke=\"transparent\" points=\"-4,4 -4,-960.63 105.11,-960.63 105.11,4 -4,4\"/>\n<!-- 1 2 3\n4 5 8\n_ 7 6 -->\n<g id=\"node1\" class=\"node\">\n<title>1 2 3\n4 5 8\n_ 7 6</title>\n<ellipse fill=\"none\" stroke=\"black\" cx=\"31.11\" cy=\"-919.15\" rx=\"31.23\" ry=\"37.45\"/>\n<text text-anchor=\"middle\" x=\"31.11\" y=\"-930.45\" font-family=\"Times,serif\" font-size=\"14.00\">1 2 3</text>\n<text text-anchor=\"middle\" x=\"31.11\" y=\"-915.45\" font-family=\"Times,serif\" font-size=\"14.00\">4 5 8</text>\n<text text-anchor=\"middle\" x=\"31.11\" y=\"-900.45\" font-family=\"Times,serif\" font-size=\"14.00\">_ 7 6</text>\n</g>\n<!-- 1 2 3\n4 5 8\n7 _ 6 -->\n<g id=\"node2\" class=\"node\">\n<title>1 2 3\n4 5 8\n7 _ 6</title>\n<ellipse fill=\"none\" stroke=\"black\" cx=\"31.11\" cy=\"-793.2\" rx=\"31.23\" ry=\"37.45\"/>\n<text text-anchor=\"middle\" x=\"31.11\" y=\"-804.5\" font-family=\"Times,serif\" font-size=\"14.00\">1 2 3</text>\n<text text-anchor=\"middle\" x=\"31.11\" y=\"-789.5\" font-family=\"Times,serif\" font-size=\"14.00\">4 5 8</text>\n<text text-anchor=\"middle\" x=\"31.11\" y=\"-774.5\" font-family=\"Times,serif\" font-size=\"14.00\">7 _ 6</text>\n</g>\n<!-- 1 2 3\n4 5 8\n_ 7 6&#45;&gt;1 2 3\n4 5 8\n7 _ 6 -->\n<g id=\"edge1\" class=\"edge\">\n<title>1 2 3\n4 5 8\n_ 7 6&#45;&gt;1 2 3\n4 5 8\n7 _ 6</title>\n<path fill=\"none\" stroke=\"black\" d=\"M31.11,-881.63C31.11,-868.88 31.11,-854.4 31.11,-840.93\"/>\n<polygon fill=\"black\" stroke=\"black\" points=\"34.61,-840.88 31.11,-830.88 27.61,-840.88 34.61,-840.88\"/>\n<text text-anchor=\"middle\" x=\"35.61\" y=\"-852.47\" font-family=\"Times,serif\" font-size=\"14.00\">L</text>\n</g>\n<!-- 6 2 3\n4 5 8\n7 _ 1 -->\n<g id=\"node3\" class=\"node\">\n<title>6 2 3\n4 5 8\n7 _ 1</title>\n<ellipse fill=\"none\" stroke=\"black\" cx=\"31.11\" cy=\"-667.24\" rx=\"31.23\" ry=\"37.45\"/>\n<text text-anchor=\"middle\" x=\"31.11\" y=\"-678.54\" font-family=\"Times,serif\" font-size=\"14.00\">6 2 3</text>\n<text text-anchor=\"middle\" x=\"31.11\" y=\"-663.54\" font-family=\"Times,serif\" font-size=\"14.00\">4 5 8</text>\n<text text-anchor=\"middle\" x=\"31.11\" y=\"-648.54\" font-family=\"Times,serif\" font-size=\"14.00\">7 _ 1</text>\n</g>\n<!-- 1 2 3\n4 5 8\n7 _ 6&#45;&gt;6 2 3\n4 5 8\n7 _ 1 -->\n<g id=\"edge2\" class=\"edge\">\n<title>1 2 3\n4 5 8\n7 _ 6&#45;&gt;6 2 3\n4 5 8\n7 _ 1</title>\n<path fill=\"none\" stroke=\"black\" d=\"M31.11,-755.68C31.11,-742.93 31.11,-728.44 31.11,-714.98\"/>\n<polygon fill=\"black\" stroke=\"black\" points=\"34.61,-714.93 31.11,-704.93 27.61,-714.93 34.61,-714.93\"/>\n<text text-anchor=\"middle\" x=\"66.11\" y=\"-726.52\" font-family=\"Times,serif\" font-size=\"14.00\">Corner swap</text>\n</g>\n<!-- 6 2 3\n4 5 1\n7 _ 8 -->\n<g id=\"node4\" class=\"node\">\n<title>6 2 3\n4 5 1\n7 _ 8</title>\n<ellipse fill=\"none\" stroke=\"black\" cx=\"31.11\" cy=\"-541.29\" rx=\"31.23\" ry=\"37.45\"/>\n<text text-anchor=\"middle\" x=\"31.11\" y=\"-552.59\" font-family=\"Times,serif\" font-size=\"14.00\">6 2 3</text>\n<text text-anchor=\"middle\" x=\"31.11\" y=\"-537.59\" font-family=\"Times,serif\" font-size=\"14.00\">4 5 1</text>\n<text text-anchor=\"middle\" x=\"31.11\" y=\"-522.59\" font-family=\"Times,serif\" font-size=\"14.00\">7 _ 8</text>\n</g>\n<!-- 6 2 3\n4 5 8\n7 _ 1&#45;&gt;6 2 3\n4 5 1\n7 _ 8 -->\n<g id=\"edge3\" class=\"edge\">\n<title>6 2 3\n4 5 8\n7 _ 1&#45;&gt;6 2 3\n4 5 1\n7 _ 8</title>\n<path fill=\"none\" stroke=\"black\" d=\"M31.11,-629.72C31.11,-616.98 31.11,-602.49 31.11,-589.03\"/>\n<polygon fill=\"black\" stroke=\"black\" points=\"34.61,-588.98 31.11,-578.98 27.61,-588.98 34.61,-588.98\"/>\n<text text-anchor=\"middle\" x=\"58.61\" y=\"-600.57\" font-family=\"Times,serif\" font-size=\"14.00\">Swap 8_1</text>\n</g>\n<!-- 6 2 3\n4 5 1\n7 8 _ -->\n<g id=\"node5\" class=\"node\">\n<title>6 2 3\n4 5 1\n7 8 _</title>\n<ellipse fill=\"none\" stroke=\"black\" cx=\"31.11\" cy=\"-415.34\" rx=\"31.23\" ry=\"37.45\"/>\n<text text-anchor=\"middle\" x=\"31.11\" y=\"-426.64\" font-family=\"Times,serif\" font-size=\"14.00\">6 2 3</text>\n<text text-anchor=\"middle\" x=\"31.11\" y=\"-411.64\" font-family=\"Times,serif\" font-size=\"14.00\">4 5 1</text>\n<text text-anchor=\"middle\" x=\"31.11\" y=\"-396.64\" font-family=\"Times,serif\" font-size=\"14.00\">7 8 _</text>\n</g>\n<!-- 6 2 3\n4 5 1\n7 _ 8&#45;&gt;6 2 3\n4 5 1\n7 8 _ -->\n<g id=\"edge4\" class=\"edge\">\n<title>6 2 3\n4 5 1\n7 _ 8&#45;&gt;6 2 3\n4 5 1\n7 8 _</title>\n<path fill=\"none\" stroke=\"black\" d=\"M31.11,-503.77C31.11,-491.02 31.11,-476.54 31.11,-463.07\"/>\n<polygon fill=\"black\" stroke=\"black\" points=\"34.61,-463.02 31.11,-453.02 27.61,-463.02 34.61,-463.02\"/>\n<text text-anchor=\"middle\" x=\"35.61\" y=\"-474.61\" font-family=\"Times,serif\" font-size=\"14.00\">L</text>\n</g>\n<!-- 6 2 3\n4 5 _\n7 8 1 -->\n<g id=\"node6\" class=\"node\">\n<title>6 2 3\n4 5 _\n7 8 1</title>\n<ellipse fill=\"none\" stroke=\"black\" cx=\"31.11\" cy=\"-289.38\" rx=\"31.23\" ry=\"37.45\"/>\n<text text-anchor=\"middle\" x=\"31.11\" y=\"-300.68\" font-family=\"Times,serif\" font-size=\"14.00\">6 2 3</text>\n<text text-anchor=\"middle\" x=\"31.11\" y=\"-285.68\" font-family=\"Times,serif\" font-size=\"14.00\">4 5 _</text>\n<text text-anchor=\"middle\" x=\"31.11\" y=\"-270.68\" font-family=\"Times,serif\" font-size=\"14.00\">7 8 1</text>\n</g>\n<!-- 6 2 3\n4 5 1\n7 8 _&#45;&gt;6 2 3\n4 5 _\n7 8 1 -->\n<g id=\"edge5\" class=\"edge\">\n<title>6 2 3\n4 5 1\n7 8 _&#45;&gt;6 2 3\n4 5 _\n7 8 1</title>\n<path fill=\"none\" stroke=\"black\" d=\"M31.11,-377.82C31.11,-365.07 31.11,-350.58 31.11,-337.12\"/>\n<polygon fill=\"black\" stroke=\"black\" points=\"34.61,-337.07 31.11,-327.07 27.61,-337.07 34.61,-337.07\"/>\n<text text-anchor=\"middle\" x=\"36.11\" y=\"-348.66\" font-family=\"Times,serif\" font-size=\"14.00\">D</text>\n</g>\n<!-- 1 2 3\n4 5 _\n7 8 6 -->\n<g id=\"node7\" class=\"node\">\n<title>1 2 3\n4 5 _\n7 8 6</title>\n<ellipse fill=\"none\" stroke=\"black\" cx=\"31.11\" cy=\"-163.43\" rx=\"31.23\" ry=\"37.45\"/>\n<text text-anchor=\"middle\" x=\"31.11\" y=\"-174.73\" font-family=\"Times,serif\" font-size=\"14.00\">1 2 3</text>\n<text text-anchor=\"middle\" x=\"31.11\" y=\"-159.73\" font-family=\"Times,serif\" font-size=\"14.00\">4 5 _</text>\n<text text-anchor=\"middle\" x=\"31.11\" y=\"-144.73\" font-family=\"Times,serif\" font-size=\"14.00\">7 8 6</text>\n</g>\n<!-- 6 2 3\n4 5 _\n7 8 1&#45;&gt;1 2 3\n4 5 _\n7 8 6 -->\n<g id=\"edge6\" class=\"edge\">\n<title>6 2 3\n4 5 _\n7 8 1&#45;&gt;1 2 3\n4 5 _\n7 8 6</title>\n<path fill=\"none\" stroke=\"black\" d=\"M31.11,-251.86C31.11,-239.12 31.11,-224.63 31.11,-211.17\"/>\n<polygon fill=\"black\" stroke=\"black\" points=\"34.61,-211.12 31.11,-201.12 27.61,-211.12 34.61,-211.12\"/>\n<text text-anchor=\"middle\" x=\"66.11\" y=\"-222.71\" font-family=\"Times,serif\" font-size=\"14.00\">Corner swap</text>\n</g>\n<!-- 1 2 3\n4 5 6\n7 8 _ -->\n<g id=\"node8\" class=\"node\">\n<title>1 2 3\n4 5 6\n7 8 _</title>\n<ellipse fill=\"none\" stroke=\"black\" cx=\"31.11\" cy=\"-37.48\" rx=\"31.23\" ry=\"37.45\"/>\n<text text-anchor=\"middle\" x=\"31.11\" y=\"-48.78\" font-family=\"Times,serif\" font-size=\"14.00\">1 2 3</text>\n<text text-anchor=\"middle\" x=\"31.11\" y=\"-33.78\" font-family=\"Times,serif\" font-size=\"14.00\">4 5 6</text>\n<text text-anchor=\"middle\" x=\"31.11\" y=\"-18.78\" font-family=\"Times,serif\" font-size=\"14.00\">7 8 _</text>\n</g>\n<!-- 1 2 3\n4 5 _\n7 8 6&#45;&gt;1 2 3\n4 5 6\n7 8 _ -->\n<g id=\"edge7\" class=\"edge\">\n<title>1 2 3\n4 5 _\n7 8 6&#45;&gt;1 2 3\n4 5 6\n7 8 _</title>\n<path fill=\"none\" stroke=\"black\" d=\"M31.11,-125.91C31.11,-113.16 31.11,-98.68 31.11,-85.21\"/>\n<polygon fill=\"black\" stroke=\"black\" points=\"34.61,-85.16 31.11,-75.16 27.61,-85.16 34.61,-85.16\"/>\n<text text-anchor=\"middle\" x=\"36.11\" y=\"-96.75\" font-family=\"Times,serif\" font-size=\"14.00\">U</text>\n</g>\n</g>\n</svg>\n",
            "text/plain": [
              "<graphviz.graphs.Digraph at 0x7cddf285e5a0>"
            ]
          },
          "metadata": {},
          "execution_count": 10
        }
      ],
      "source": [
        "start_state_2 = [[1,2,3],\n",
        "               [4,5,8],\n",
        "               [0,7,6]]\n",
        "solver = A_star(Node(start_state_2), heuristic=ManhattanHeuristic())\n",
        "path,cost,num = solver.solve()\n",
        "print(\"Cost:\", cost)\n",
        "print(\"Path length:\", len(path))\n",
        "print(\"Nodes expanded:\", num)\n",
        "dot = Digraph()\n",
        "for node in path:\n",
        "    node.draw(dot)\n",
        "dot"
      ]
    },
    {
      "cell_type": "code",
      "execution_count": 11,
      "metadata": {
        "colab": {
          "base_uri": "https://localhost:8080/",
          "height": 1000
        },
        "id": "XLOxhoQAffqD",
        "outputId": "d708cc05-640b-477f-a272-5dfc2d7b4104"
      },
      "outputs": [
        {
          "output_type": "stream",
          "name": "stdout",
          "text": [
            "Cost: 14\n",
            "Path length: 15\n",
            "Nodes expanded: 4918\n"
          ]
        },
        {
          "output_type": "execute_result",
          "data": {
            "image/svg+xml": "<?xml version=\"1.0\" encoding=\"UTF-8\" standalone=\"no\"?>\n<!DOCTYPE svg PUBLIC \"-//W3C//DTD SVG 1.1//EN\"\n \"http://www.w3.org/Graphics/SVG/1.1/DTD/svg11.dtd\">\n<!-- Generated by graphviz version 2.43.0 (0)\n -->\n<!-- Title: %3 Pages: 1 -->\n<svg width=\"109pt\" height=\"1846pt\"\n viewBox=\"0.00 0.00 109.11 1846.30\" xmlns=\"http://www.w3.org/2000/svg\" xmlns:xlink=\"http://www.w3.org/1999/xlink\">\n<g id=\"graph0\" class=\"graph\" transform=\"scale(1 1) rotate(0) translate(4 1842.3)\">\n<title>%3</title>\n<polygon fill=\"white\" stroke=\"transparent\" points=\"-4,4 -4,-1842.3 105.11,-1842.3 105.11,4 -4,4\"/>\n<!-- 6 8 4\n1 3 2\n_ 7 5 -->\n<g id=\"node1\" class=\"node\">\n<title>6 8 4\n1 3 2\n_ 7 5</title>\n<ellipse fill=\"none\" stroke=\"black\" cx=\"31.11\" cy=\"-1800.82\" rx=\"31.23\" ry=\"37.45\"/>\n<text text-anchor=\"middle\" x=\"31.11\" y=\"-1812.12\" font-family=\"Times,serif\" font-size=\"14.00\">6 8 4</text>\n<text text-anchor=\"middle\" x=\"31.11\" y=\"-1797.12\" font-family=\"Times,serif\" font-size=\"14.00\">1 3 2</text>\n<text text-anchor=\"middle\" x=\"31.11\" y=\"-1782.12\" font-family=\"Times,serif\" font-size=\"14.00\">_ 7 5</text>\n</g>\n<!-- 6 8 4\n1 3 2\n7 _ 5 -->\n<g id=\"node2\" class=\"node\">\n<title>6 8 4\n1 3 2\n7 _ 5</title>\n<ellipse fill=\"none\" stroke=\"black\" cx=\"31.11\" cy=\"-1674.87\" rx=\"31.23\" ry=\"37.45\"/>\n<text text-anchor=\"middle\" x=\"31.11\" y=\"-1686.17\" font-family=\"Times,serif\" font-size=\"14.00\">6 8 4</text>\n<text text-anchor=\"middle\" x=\"31.11\" y=\"-1671.17\" font-family=\"Times,serif\" font-size=\"14.00\">1 3 2</text>\n<text text-anchor=\"middle\" x=\"31.11\" y=\"-1656.17\" font-family=\"Times,serif\" font-size=\"14.00\">7 _ 5</text>\n</g>\n<!-- 6 8 4\n1 3 2\n_ 7 5&#45;&gt;6 8 4\n1 3 2\n7 _ 5 -->\n<g id=\"edge1\" class=\"edge\">\n<title>6 8 4\n1 3 2\n_ 7 5&#45;&gt;6 8 4\n1 3 2\n7 _ 5</title>\n<path fill=\"none\" stroke=\"black\" d=\"M31.11,-1763.3C31.11,-1750.56 31.11,-1736.07 31.11,-1722.61\"/>\n<polygon fill=\"black\" stroke=\"black\" points=\"34.61,-1722.56 31.11,-1712.56 27.61,-1722.56 34.61,-1722.56\"/>\n<text text-anchor=\"middle\" x=\"35.61\" y=\"-1734.15\" font-family=\"Times,serif\" font-size=\"14.00\">L</text>\n</g>\n<!-- 6 8 7\n1 3 2\n4 _ 5 -->\n<g id=\"node3\" class=\"node\">\n<title>6 8 7\n1 3 2\n4 _ 5</title>\n<ellipse fill=\"none\" stroke=\"black\" cx=\"31.11\" cy=\"-1548.92\" rx=\"31.23\" ry=\"37.45\"/>\n<text text-anchor=\"middle\" x=\"31.11\" y=\"-1560.22\" font-family=\"Times,serif\" font-size=\"14.00\">6 8 7</text>\n<text text-anchor=\"middle\" x=\"31.11\" y=\"-1545.22\" font-family=\"Times,serif\" font-size=\"14.00\">1 3 2</text>\n<text text-anchor=\"middle\" x=\"31.11\" y=\"-1530.22\" font-family=\"Times,serif\" font-size=\"14.00\">4 _ 5</text>\n</g>\n<!-- 6 8 4\n1 3 2\n7 _ 5&#45;&gt;6 8 7\n1 3 2\n4 _ 5 -->\n<g id=\"edge2\" class=\"edge\">\n<title>6 8 4\n1 3 2\n7 _ 5&#45;&gt;6 8 7\n1 3 2\n4 _ 5</title>\n<path fill=\"none\" stroke=\"black\" d=\"M31.11,-1637.35C31.11,-1624.6 31.11,-1610.12 31.11,-1596.65\"/>\n<polygon fill=\"black\" stroke=\"black\" points=\"34.61,-1596.6 31.11,-1586.6 27.61,-1596.6 34.61,-1596.6\"/>\n<text text-anchor=\"middle\" x=\"66.11\" y=\"-1608.19\" font-family=\"Times,serif\" font-size=\"14.00\">Corner swap</text>\n</g>\n<!-- 6 8 7\n1 _ 2\n4 3 5 -->\n<g id=\"node4\" class=\"node\">\n<title>6 8 7\n1 _ 2\n4 3 5</title>\n<ellipse fill=\"none\" stroke=\"black\" cx=\"31.11\" cy=\"-1422.96\" rx=\"31.23\" ry=\"37.45\"/>\n<text text-anchor=\"middle\" x=\"31.11\" y=\"-1434.26\" font-family=\"Times,serif\" font-size=\"14.00\">6 8 7</text>\n<text text-anchor=\"middle\" x=\"31.11\" y=\"-1419.26\" font-family=\"Times,serif\" font-size=\"14.00\">1 _ 2</text>\n<text text-anchor=\"middle\" x=\"31.11\" y=\"-1404.26\" font-family=\"Times,serif\" font-size=\"14.00\">4 3 5</text>\n</g>\n<!-- 6 8 7\n1 3 2\n4 _ 5&#45;&gt;6 8 7\n1 _ 2\n4 3 5 -->\n<g id=\"edge3\" class=\"edge\">\n<title>6 8 7\n1 3 2\n4 _ 5&#45;&gt;6 8 7\n1 _ 2\n4 3 5</title>\n<path fill=\"none\" stroke=\"black\" d=\"M31.11,-1511.4C31.11,-1498.65 31.11,-1484.16 31.11,-1470.7\"/>\n<polygon fill=\"black\" stroke=\"black\" points=\"34.61,-1470.65 31.11,-1460.65 27.61,-1470.65 34.61,-1470.65\"/>\n<text text-anchor=\"middle\" x=\"36.11\" y=\"-1482.24\" font-family=\"Times,serif\" font-size=\"14.00\">D</text>\n</g>\n<!-- 6 8 7\n_ 1 2\n4 3 5 -->\n<g id=\"node5\" class=\"node\">\n<title>6 8 7\n_ 1 2\n4 3 5</title>\n<ellipse fill=\"none\" stroke=\"black\" cx=\"31.11\" cy=\"-1297.01\" rx=\"31.23\" ry=\"37.45\"/>\n<text text-anchor=\"middle\" x=\"31.11\" y=\"-1308.31\" font-family=\"Times,serif\" font-size=\"14.00\">6 8 7</text>\n<text text-anchor=\"middle\" x=\"31.11\" y=\"-1293.31\" font-family=\"Times,serif\" font-size=\"14.00\">_ 1 2</text>\n<text text-anchor=\"middle\" x=\"31.11\" y=\"-1278.31\" font-family=\"Times,serif\" font-size=\"14.00\">4 3 5</text>\n</g>\n<!-- 6 8 7\n1 _ 2\n4 3 5&#45;&gt;6 8 7\n_ 1 2\n4 3 5 -->\n<g id=\"edge4\" class=\"edge\">\n<title>6 8 7\n1 _ 2\n4 3 5&#45;&gt;6 8 7\n_ 1 2\n4 3 5</title>\n<path fill=\"none\" stroke=\"black\" d=\"M31.11,-1385.44C31.11,-1372.7 31.11,-1358.21 31.11,-1344.75\"/>\n<polygon fill=\"black\" stroke=\"black\" points=\"34.61,-1344.7 31.11,-1334.7 27.61,-1344.7 34.61,-1344.7\"/>\n<text text-anchor=\"middle\" x=\"36.11\" y=\"-1356.29\" font-family=\"Times,serif\" font-size=\"14.00\">R</text>\n</g>\n<!-- 6 8 7\n4 1 2\n_ 3 5 -->\n<g id=\"node6\" class=\"node\">\n<title>6 8 7\n4 1 2\n_ 3 5</title>\n<ellipse fill=\"none\" stroke=\"black\" cx=\"31.11\" cy=\"-1171.06\" rx=\"31.23\" ry=\"37.45\"/>\n<text text-anchor=\"middle\" x=\"31.11\" y=\"-1182.36\" font-family=\"Times,serif\" font-size=\"14.00\">6 8 7</text>\n<text text-anchor=\"middle\" x=\"31.11\" y=\"-1167.36\" font-family=\"Times,serif\" font-size=\"14.00\">4 1 2</text>\n<text text-anchor=\"middle\" x=\"31.11\" y=\"-1152.36\" font-family=\"Times,serif\" font-size=\"14.00\">_ 3 5</text>\n</g>\n<!-- 6 8 7\n_ 1 2\n4 3 5&#45;&gt;6 8 7\n4 1 2\n_ 3 5 -->\n<g id=\"edge5\" class=\"edge\">\n<title>6 8 7\n_ 1 2\n4 3 5&#45;&gt;6 8 7\n4 1 2\n_ 3 5</title>\n<path fill=\"none\" stroke=\"black\" d=\"M31.11,-1259.49C31.11,-1246.74 31.11,-1232.26 31.11,-1218.79\"/>\n<polygon fill=\"black\" stroke=\"black\" points=\"34.61,-1218.74 31.11,-1208.74 27.61,-1218.74 34.61,-1218.74\"/>\n<text text-anchor=\"middle\" x=\"36.11\" y=\"-1230.33\" font-family=\"Times,serif\" font-size=\"14.00\">U</text>\n</g>\n<!-- 6 8 7\n4 1 2\n3 _ 5 -->\n<g id=\"node7\" class=\"node\">\n<title>6 8 7\n4 1 2\n3 _ 5</title>\n<ellipse fill=\"none\" stroke=\"black\" cx=\"31.11\" cy=\"-1045.1\" rx=\"31.23\" ry=\"37.45\"/>\n<text text-anchor=\"middle\" x=\"31.11\" y=\"-1056.4\" font-family=\"Times,serif\" font-size=\"14.00\">6 8 7</text>\n<text text-anchor=\"middle\" x=\"31.11\" y=\"-1041.4\" font-family=\"Times,serif\" font-size=\"14.00\">4 1 2</text>\n<text text-anchor=\"middle\" x=\"31.11\" y=\"-1026.4\" font-family=\"Times,serif\" font-size=\"14.00\">3 _ 5</text>\n</g>\n<!-- 6 8 7\n4 1 2\n_ 3 5&#45;&gt;6 8 7\n4 1 2\n3 _ 5 -->\n<g id=\"edge6\" class=\"edge\">\n<title>6 8 7\n4 1 2\n_ 3 5&#45;&gt;6 8 7\n4 1 2\n3 _ 5</title>\n<path fill=\"none\" stroke=\"black\" d=\"M31.11,-1133.54C31.11,-1120.79 31.11,-1106.3 31.11,-1092.84\"/>\n<polygon fill=\"black\" stroke=\"black\" points=\"34.61,-1092.79 31.11,-1082.79 27.61,-1092.79 34.61,-1092.79\"/>\n<text text-anchor=\"middle\" x=\"35.61\" y=\"-1104.38\" font-family=\"Times,serif\" font-size=\"14.00\">L</text>\n</g>\n<!-- 6 8 7\n4 _ 2\n3 1 5 -->\n<g id=\"node8\" class=\"node\">\n<title>6 8 7\n4 _ 2\n3 1 5</title>\n<ellipse fill=\"none\" stroke=\"black\" cx=\"31.11\" cy=\"-919.15\" rx=\"31.23\" ry=\"37.45\"/>\n<text text-anchor=\"middle\" x=\"31.11\" y=\"-930.45\" font-family=\"Times,serif\" font-size=\"14.00\">6 8 7</text>\n<text text-anchor=\"middle\" x=\"31.11\" y=\"-915.45\" font-family=\"Times,serif\" font-size=\"14.00\">4 _ 2</text>\n<text text-anchor=\"middle\" x=\"31.11\" y=\"-900.45\" font-family=\"Times,serif\" font-size=\"14.00\">3 1 5</text>\n</g>\n<!-- 6 8 7\n4 1 2\n3 _ 5&#45;&gt;6 8 7\n4 _ 2\n3 1 5 -->\n<g id=\"edge7\" class=\"edge\">\n<title>6 8 7\n4 1 2\n3 _ 5&#45;&gt;6 8 7\n4 _ 2\n3 1 5</title>\n<path fill=\"none\" stroke=\"black\" d=\"M31.11,-1007.58C31.11,-994.84 31.11,-980.35 31.11,-966.89\"/>\n<polygon fill=\"black\" stroke=\"black\" points=\"34.61,-966.84 31.11,-956.84 27.61,-966.84 34.61,-966.84\"/>\n<text text-anchor=\"middle\" x=\"36.11\" y=\"-978.43\" font-family=\"Times,serif\" font-size=\"14.00\">D</text>\n</g>\n<!-- 6 8 7\n4 2 _\n3 1 5 -->\n<g id=\"node9\" class=\"node\">\n<title>6 8 7\n4 2 _\n3 1 5</title>\n<ellipse fill=\"none\" stroke=\"black\" cx=\"31.11\" cy=\"-793.2\" rx=\"31.23\" ry=\"37.45\"/>\n<text text-anchor=\"middle\" x=\"31.11\" y=\"-804.5\" font-family=\"Times,serif\" font-size=\"14.00\">6 8 7</text>\n<text text-anchor=\"middle\" x=\"31.11\" y=\"-789.5\" font-family=\"Times,serif\" font-size=\"14.00\">4 2 _</text>\n<text text-anchor=\"middle\" x=\"31.11\" y=\"-774.5\" font-family=\"Times,serif\" font-size=\"14.00\">3 1 5</text>\n</g>\n<!-- 6 8 7\n4 _ 2\n3 1 5&#45;&gt;6 8 7\n4 2 _\n3 1 5 -->\n<g id=\"edge8\" class=\"edge\">\n<title>6 8 7\n4 _ 2\n3 1 5&#45;&gt;6 8 7\n4 2 _\n3 1 5</title>\n<path fill=\"none\" stroke=\"black\" d=\"M31.11,-881.63C31.11,-868.88 31.11,-854.4 31.11,-840.93\"/>\n<polygon fill=\"black\" stroke=\"black\" points=\"34.61,-840.88 31.11,-830.88 27.61,-840.88 34.61,-840.88\"/>\n<text text-anchor=\"middle\" x=\"35.61\" y=\"-852.47\" font-family=\"Times,serif\" font-size=\"14.00\">L</text>\n</g>\n<!-- 6 8 7\n4 2 5\n3 1 _ -->\n<g id=\"node10\" class=\"node\">\n<title>6 8 7\n4 2 5\n3 1 _</title>\n<ellipse fill=\"none\" stroke=\"black\" cx=\"31.11\" cy=\"-667.24\" rx=\"31.23\" ry=\"37.45\"/>\n<text text-anchor=\"middle\" x=\"31.11\" y=\"-678.54\" font-family=\"Times,serif\" font-size=\"14.00\">6 8 7</text>\n<text text-anchor=\"middle\" x=\"31.11\" y=\"-663.54\" font-family=\"Times,serif\" font-size=\"14.00\">4 2 5</text>\n<text text-anchor=\"middle\" x=\"31.11\" y=\"-648.54\" font-family=\"Times,serif\" font-size=\"14.00\">3 1 _</text>\n</g>\n<!-- 6 8 7\n4 2 _\n3 1 5&#45;&gt;6 8 7\n4 2 5\n3 1 _ -->\n<g id=\"edge9\" class=\"edge\">\n<title>6 8 7\n4 2 _\n3 1 5&#45;&gt;6 8 7\n4 2 5\n3 1 _</title>\n<path fill=\"none\" stroke=\"black\" d=\"M31.11,-755.68C31.11,-742.93 31.11,-728.44 31.11,-714.98\"/>\n<polygon fill=\"black\" stroke=\"black\" points=\"34.61,-714.93 31.11,-704.93 27.61,-714.93 34.61,-714.93\"/>\n<text text-anchor=\"middle\" x=\"36.11\" y=\"-726.52\" font-family=\"Times,serif\" font-size=\"14.00\">U</text>\n</g>\n<!-- 6 8 7\n4 2 5\n3 _ 1 -->\n<g id=\"node11\" class=\"node\">\n<title>6 8 7\n4 2 5\n3 _ 1</title>\n<ellipse fill=\"none\" stroke=\"black\" cx=\"31.11\" cy=\"-541.29\" rx=\"31.23\" ry=\"37.45\"/>\n<text text-anchor=\"middle\" x=\"31.11\" y=\"-552.59\" font-family=\"Times,serif\" font-size=\"14.00\">6 8 7</text>\n<text text-anchor=\"middle\" x=\"31.11\" y=\"-537.59\" font-family=\"Times,serif\" font-size=\"14.00\">4 2 5</text>\n<text text-anchor=\"middle\" x=\"31.11\" y=\"-522.59\" font-family=\"Times,serif\" font-size=\"14.00\">3 _ 1</text>\n</g>\n<!-- 6 8 7\n4 2 5\n3 1 _&#45;&gt;6 8 7\n4 2 5\n3 _ 1 -->\n<g id=\"edge10\" class=\"edge\">\n<title>6 8 7\n4 2 5\n3 1 _&#45;&gt;6 8 7\n4 2 5\n3 _ 1</title>\n<path fill=\"none\" stroke=\"black\" d=\"M31.11,-629.72C31.11,-616.98 31.11,-602.49 31.11,-589.03\"/>\n<polygon fill=\"black\" stroke=\"black\" points=\"34.61,-588.98 31.11,-578.98 27.61,-588.98 34.61,-588.98\"/>\n<text text-anchor=\"middle\" x=\"36.11\" y=\"-600.57\" font-family=\"Times,serif\" font-size=\"14.00\">R</text>\n</g>\n<!-- 6 8 7\n4 _ 5\n3 2 1 -->\n<g id=\"node12\" class=\"node\">\n<title>6 8 7\n4 _ 5\n3 2 1</title>\n<ellipse fill=\"none\" stroke=\"black\" cx=\"31.11\" cy=\"-415.34\" rx=\"31.23\" ry=\"37.45\"/>\n<text text-anchor=\"middle\" x=\"31.11\" y=\"-426.64\" font-family=\"Times,serif\" font-size=\"14.00\">6 8 7</text>\n<text text-anchor=\"middle\" x=\"31.11\" y=\"-411.64\" font-family=\"Times,serif\" font-size=\"14.00\">4 _ 5</text>\n<text text-anchor=\"middle\" x=\"31.11\" y=\"-396.64\" font-family=\"Times,serif\" font-size=\"14.00\">3 2 1</text>\n</g>\n<!-- 6 8 7\n4 2 5\n3 _ 1&#45;&gt;6 8 7\n4 _ 5\n3 2 1 -->\n<g id=\"edge11\" class=\"edge\">\n<title>6 8 7\n4 2 5\n3 _ 1&#45;&gt;6 8 7\n4 _ 5\n3 2 1</title>\n<path fill=\"none\" stroke=\"black\" d=\"M31.11,-503.77C31.11,-491.02 31.11,-476.54 31.11,-463.07\"/>\n<polygon fill=\"black\" stroke=\"black\" points=\"34.61,-463.02 31.11,-453.02 27.61,-463.02 34.61,-463.02\"/>\n<text text-anchor=\"middle\" x=\"36.11\" y=\"-474.61\" font-family=\"Times,serif\" font-size=\"14.00\">D</text>\n</g>\n<!-- 6 8 7\n_ 4 5\n3 2 1 -->\n<g id=\"node13\" class=\"node\">\n<title>6 8 7\n_ 4 5\n3 2 1</title>\n<ellipse fill=\"none\" stroke=\"black\" cx=\"31.11\" cy=\"-289.38\" rx=\"31.23\" ry=\"37.45\"/>\n<text text-anchor=\"middle\" x=\"31.11\" y=\"-300.68\" font-family=\"Times,serif\" font-size=\"14.00\">6 8 7</text>\n<text text-anchor=\"middle\" x=\"31.11\" y=\"-285.68\" font-family=\"Times,serif\" font-size=\"14.00\">_ 4 5</text>\n<text text-anchor=\"middle\" x=\"31.11\" y=\"-270.68\" font-family=\"Times,serif\" font-size=\"14.00\">3 2 1</text>\n</g>\n<!-- 6 8 7\n4 _ 5\n3 2 1&#45;&gt;6 8 7\n_ 4 5\n3 2 1 -->\n<g id=\"edge12\" class=\"edge\">\n<title>6 8 7\n4 _ 5\n3 2 1&#45;&gt;6 8 7\n_ 4 5\n3 2 1</title>\n<path fill=\"none\" stroke=\"black\" d=\"M31.11,-377.82C31.11,-365.07 31.11,-350.58 31.11,-337.12\"/>\n<polygon fill=\"black\" stroke=\"black\" points=\"34.61,-337.07 31.11,-327.07 27.61,-337.07 34.61,-337.07\"/>\n<text text-anchor=\"middle\" x=\"36.11\" y=\"-348.66\" font-family=\"Times,serif\" font-size=\"14.00\">R</text>\n</g>\n<!-- _ 8 7\n6 4 5\n3 2 1 -->\n<g id=\"node14\" class=\"node\">\n<title>_ 8 7\n6 4 5\n3 2 1</title>\n<ellipse fill=\"none\" stroke=\"black\" cx=\"31.11\" cy=\"-163.43\" rx=\"31.23\" ry=\"37.45\"/>\n<text text-anchor=\"middle\" x=\"31.11\" y=\"-174.73\" font-family=\"Times,serif\" font-size=\"14.00\">_ 8 7</text>\n<text text-anchor=\"middle\" x=\"31.11\" y=\"-159.73\" font-family=\"Times,serif\" font-size=\"14.00\">6 4 5</text>\n<text text-anchor=\"middle\" x=\"31.11\" y=\"-144.73\" font-family=\"Times,serif\" font-size=\"14.00\">3 2 1</text>\n</g>\n<!-- 6 8 7\n_ 4 5\n3 2 1&#45;&gt;_ 8 7\n6 4 5\n3 2 1 -->\n<g id=\"edge13\" class=\"edge\">\n<title>6 8 7\n_ 4 5\n3 2 1&#45;&gt;_ 8 7\n6 4 5\n3 2 1</title>\n<path fill=\"none\" stroke=\"black\" d=\"M31.11,-251.86C31.11,-239.12 31.11,-224.63 31.11,-211.17\"/>\n<polygon fill=\"black\" stroke=\"black\" points=\"34.61,-211.12 31.11,-201.12 27.61,-211.12 34.61,-211.12\"/>\n<text text-anchor=\"middle\" x=\"36.11\" y=\"-222.71\" font-family=\"Times,serif\" font-size=\"14.00\">D</text>\n</g>\n<!-- _ 8 7\n6 5 4\n3 2 1 -->\n<g id=\"node15\" class=\"node\">\n<title>_ 8 7\n6 5 4\n3 2 1</title>\n<ellipse fill=\"none\" stroke=\"black\" cx=\"31.11\" cy=\"-37.48\" rx=\"31.23\" ry=\"37.45\"/>\n<text text-anchor=\"middle\" x=\"31.11\" y=\"-48.78\" font-family=\"Times,serif\" font-size=\"14.00\">_ 8 7</text>\n<text text-anchor=\"middle\" x=\"31.11\" y=\"-33.78\" font-family=\"Times,serif\" font-size=\"14.00\">6 5 4</text>\n<text text-anchor=\"middle\" x=\"31.11\" y=\"-18.78\" font-family=\"Times,serif\" font-size=\"14.00\">3 2 1</text>\n</g>\n<!-- _ 8 7\n6 4 5\n3 2 1&#45;&gt;_ 8 7\n6 5 4\n3 2 1 -->\n<g id=\"edge14\" class=\"edge\">\n<title>_ 8 7\n6 4 5\n3 2 1&#45;&gt;_ 8 7\n6 5 4\n3 2 1</title>\n<path fill=\"none\" stroke=\"black\" d=\"M31.11,-125.91C31.11,-113.16 31.11,-98.68 31.11,-85.21\"/>\n<polygon fill=\"black\" stroke=\"black\" points=\"34.61,-85.16 31.11,-75.16 27.61,-85.16 34.61,-85.16\"/>\n<text text-anchor=\"middle\" x=\"58.61\" y=\"-96.75\" font-family=\"Times,serif\" font-size=\"14.00\">Swap 4_5</text>\n</g>\n</g>\n</svg>\n",
            "text/plain": [
              "<graphviz.graphs.Digraph at 0x7cddf2702f60>"
            ]
          },
          "metadata": {},
          "execution_count": 11
        }
      ],
      "source": [
        "start_node = Node.create_random_start()\n",
        "solver = A_star(start_node, heuristic=ManhattanHeuristic())\n",
        "path,cost ,num= solver.solve()\n",
        "print(\"Cost:\", cost)\n",
        "print(\"Path length:\", len(path))\n",
        "print(\"Nodes expanded:\", num)\n",
        "dot = Digraph()\n",
        "for node in path:\n",
        "    node.draw(dot)\n",
        "dot"
      ]
    },
    {
      "cell_type": "code",
      "execution_count": 12,
      "metadata": {
        "colab": {
          "base_uri": "https://localhost:8080/"
        },
        "id": "1G8Rw_FxHfrc",
        "outputId": "52b1c1dd-30f4-45aa-ab87-af7d97eacb0b"
      },
      "outputs": [
        {
          "output_type": "stream",
          "name": "stdout",
          "text": [
            "Cost: 7\n",
            "Length of path: 8\n",
            "Nodes expanded: 14464\n"
          ]
        }
      ],
      "source": [
        "start_state = [[1,2,3],\n",
        "               [4,5,8],\n",
        "               [0,7,6]]\n",
        "\n",
        "bfs_solver = BFS(Node(start_state), max_limit=20000)\n",
        "path, cost, nodes_expanded= bfs_solver.solve()\n",
        "\n",
        "print(\"Cost:\", cost)\n",
        "print(\"Length of path:\", len(path) if path else None)\n",
        "print(\"Nodes expanded:\", nodes_expanded)\n",
        "\n"
      ]
    },
    {
      "cell_type": "code",
      "execution_count": 13,
      "metadata": {
        "colab": {
          "base_uri": "https://localhost:8080/"
        },
        "id": "keKKnnWXRLrc",
        "outputId": "6fb8f951-4bee-4d6f-e081-da149c5da017"
      },
      "outputs": [
        {
          "output_type": "stream",
          "name": "stdout",
          "text": [
            "Algorithm       Cost       Path length     Nodes expanded  Time (ms) \n",
            "BFS             7          8               14464           2702.36\n",
            "A* Manhattan    7          8               142             46.19\n",
            "A* Misplaced    7          8               162             29.22\n"
          ]
        }
      ],
      "source": [
        "def run_experiment(start_state):\n",
        "    results = []\n",
        "\n",
        "    # BFS\n",
        "    bfs_solver = BFS(Node(start_state))\n",
        "    t0 = time.time()\n",
        "    path, cost, nodes = bfs_solver.solve()\n",
        "    t1 = time.time()\n",
        "    results.append((\"BFS\", cost, len(path) if path else None, nodes, (t1 - t0)*1000))\n",
        "\n",
        "    # A* Manhattan\n",
        "    astar_m = A_star(Node(start_state), heuristic=ManhattanHeuristic())\n",
        "    t0 = time.time()\n",
        "    path, cost, nodes = astar_m.solve()\n",
        "    t1 = time.time()\n",
        "    results.append((\"A* Manhattan\", cost, len(path) if path else None, nodes, (t1 - t0)*1000))\n",
        "\n",
        "    # A* Misplaced\n",
        "    astar_mp = A_star(Node(start_state), heuristic=MisplacedHeuristic())\n",
        "    t0 = time.time()\n",
        "    path, cost, nodes = astar_mp.solve()\n",
        "    t1 = time.time()\n",
        "    results.append((\"A* Misplaced\", cost, len(path) if path else None, nodes, (t1 - t0)*1000))\n",
        "\n",
        "    return results\n",
        "\n",
        "\n",
        "start_state = [[1,2,3],\n",
        "               [4,5,8],\n",
        "               [0,7,6]]\n",
        "\n",
        "results = run_experiment(start_state)\n",
        "\n",
        "# In bảng kết quả\n",
        "print(\"{:<15} {:<10} {:<15} {:<15} {:<10}\".format(\"Algorithm\", \"Cost\", \"Path length\", \"Nodes expanded\", \"Time (ms)\"))\n",
        "for algo, cost, path_len, nodes, time_ms in results:\n",
        "    print(\"{:<15} {:<10} {:<15} {:<15} {:.2f}\".format(algo, cost, path_len, nodes, time_ms))\n"
      ]
    },
    {
      "cell_type": "code",
      "execution_count": 14,
      "metadata": {
        "id": "38NZbzW2gFJp"
      },
      "outputs": [],
      "source": [
        "def experiment(num_trials=10):\n",
        "    results = {\n",
        "        'manhattan': {'costs': [], 'nodes': []},\n",
        "        'misplaced': {'costs': [], 'nodes': []}\n",
        "    }\n",
        "    for i in range(num_trials):\n",
        "        start_node = Node.create_random_start()\n",
        "\n",
        "        # Chạy A* với Manhattan\n",
        "        solver_manhattan = A_star(start_node, heuristic=ManhattanHeuristic())\n",
        "        path_manh, cost_manh, nodes_manh = solver_manhattan.solve()\n",
        "        if path_manh is not None:\n",
        "            results['manhattan']['costs'].append(cost_manh)\n",
        "            results['manhattan']['nodes'].append(nodes_manh)\n",
        "\n",
        "        # Chạy A* với Misplaced\n",
        "        solver_misplaced = A_star(start_node, heuristic=MisplacedHeuristic())\n",
        "        path_mis, cost_mis, nodes_mis = solver_misplaced.solve()\n",
        "        if path_mis is not None:\n",
        "            results['misplaced']['costs'].append(cost_mis)\n",
        "            results['misplaced']['nodes'].append(nodes_mis)\n",
        "\n",
        "        print(f\"Trial {i+1}/{num_trials} completed\")\n",
        "\n",
        "    # Tính trung bình\n",
        "    print(\"\\nCOMPARED 2 HEURISTIC\")\n",
        "    for h in ['manhattan', 'misplaced']:\n",
        "        avg_cost = statistics.mean(results[h]['costs']) if results[h]['costs'] else float('nan')\n",
        "        avg_nodes = statistics.mean(results[h]['nodes']) if results[h]['nodes'] else float('nan')\n",
        "        print(f\"Heuristic: {h}\")\n",
        "        print(f\"Average Path Cost   = {avg_cost:.2f}\")\n",
        "        print(f\"Average Nodes Expanded = {avg_nodes:.2f}\")\n",
        "        print()\n",
        "\n",
        "    return results\n"
      ]
    },
    {
      "cell_type": "code",
      "execution_count": 15,
      "metadata": {
        "colab": {
          "base_uri": "https://localhost:8080/"
        },
        "id": "_evy4oXYgS2t",
        "outputId": "ed92e85c-206c-4732-b613-9f43febe9ef8"
      },
      "outputs": [
        {
          "output_type": "stream",
          "name": "stdout",
          "text": [
            "Trial 1/5 completed\n",
            "Trial 2/5 completed\n",
            "Trial 3/5 completed\n",
            "Trial 4/5 completed\n",
            "Trial 5/5 completed\n",
            "\n",
            "COMPARED 2 HEURISTIC\n",
            "Heuristic: manhattan\n",
            "Average Path Cost   = 14.80\n",
            "Average Nodes Expanded = 21334.00\n",
            "\n",
            "Heuristic: misplaced\n",
            "Average Path Cost   = 14.80\n",
            "Average Nodes Expanded = 71454.60\n",
            "\n"
          ]
        }
      ],
      "source": [
        "results = experiment(num_trials=5)\n"
      ]
    }
  ],
  "metadata": {
    "colab": {
      "provenance": []
    },
    "kernelspec": {
      "display_name": "Python 3",
      "name": "python3"
    },
    "language_info": {
      "name": "python"
    }
  },
  "nbformat": 4,
  "nbformat_minor": 0
}
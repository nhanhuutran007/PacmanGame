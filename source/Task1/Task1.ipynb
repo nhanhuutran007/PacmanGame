{
  "cells": [
    {
      "cell_type": "code",
      "execution_count": null,
      "metadata": {
        "id": "4cvKqUXI5zOH"
      },
      "outputs": [],
      "source": [
        "from copy import deepcopy\n",
        "from graphviz import Digraph\n",
        "import heapq\n",
        "import random\n",
        "from collections import deque"
      ]
    },
    {
      "cell_type": "code",
      "execution_count": null,
      "metadata": {
        "id": "cxmgv6ApfcDg"
      },
      "outputs": [],
      "source": [
        "class Node:\n",
        "#Trạng thái ban đầu\n",
        "  def __init__(self, state, action=None, parent=None,cost=0, heuristic=0): #vua them thuoc tinh heu do ko chay code ko dc (23:03 14/10)\n",
        "    self.state = state\n",
        "    self.id = str(self)\n",
        "    self.action = action\n",
        "    self.parent = parent\n",
        "    self.cost=cost\n",
        "    self.ID= self.get_node_str()\n",
        "    self.heuristic = heuristic #vua them thuoc tinh heu do ko chay code ko dc (23:03 14/10)\n",
        "\n",
        "#Trạng thái đích\n",
        "  def is_goal(self):\n",
        "      goals = [\n",
        "          [[1,2,3],[4,5,6],[7,8,0]],\n",
        "          [[8,7,6],[5,4,3],[2,1,0]],\n",
        "          [[0,1,2],[3,4,5],[6,7,8]],\n",
        "          [[0,8,7],[6,5,4],[3,2,1]]\n",
        "      ]\n",
        "      return self.state in goals\n",
        "\n",
        "#Chuyển thành chuỗi\n",
        "  def __str__(self):\n",
        "    return \"\\n\".join(\" \".join(\"_\" if x == 0 else str(x) for x in row) for row in self.state)\n",
        "\n",
        "#Tìm vị trí ô 0\n",
        "  def get_blank_pos(self, state):\n",
        "      for i in range(3):\n",
        "        for j in range(3):\n",
        "          if state[i][j] == 0:\n",
        "            return i, j\n",
        "\n",
        "  def get_dest_pos(self, action, pi, pj):\n",
        "      if action == 'L':\n",
        "        pj += 1\n",
        "      if action == 'R':\n",
        "        pj -= 1\n",
        "      if action == 'U':\n",
        "        pi += 1\n",
        "      if action == 'D':\n",
        "        pi -= 1\n",
        "      return pi, pj\n",
        "\n",
        "  def get_successors(self):\n",
        "    successors = [] #Tạo list chứa các node con\n",
        "    actions = ['L', 'R', 'U', 'D']\n",
        "    for action in actions:\n",
        "      new_state = deepcopy(self.state)\n",
        "      moved_state = self.get_successor(action, new_state)\n",
        "      if moved_state is not None:\n",
        "        successors.append(Node(moved_state, action, self, self.cost + 1))\n",
        "    #Thêm vào các node đã swap\n",
        "    #successors.extend(self.swap())\n",
        "    if(self.parent is not None):\n",
        "          successors.extend(self.swap())\n",
        "    return successors\n",
        "\n",
        "\n",
        "  def get_successor(self, action, state):\n",
        "    pi, pj = self.get_blank_pos(state)\n",
        "    pi, pj = self.get_dest_pos(action, pi, pj)\n",
        "    if 0 <= pi and pi < 3 and 0 <= pj and pj < 3:\n",
        "      if action == 'L':\n",
        "        state[pi][pj - 1] = state[pi][pj]\n",
        "      if action == 'R':\n",
        "        state[pi][pj + 1] = state[pi][pj]\n",
        "      if action == 'U':\n",
        "        state[pi-1][pj] = state[pi][pj]\n",
        "      if action == 'D':\n",
        "        state[pi+1][pj] = state[pi][pj]\n",
        "      state[pi][pj] = 0\n",
        "      return state\n",
        "    return None\n",
        "\n",
        "  def get_id(self):\n",
        "    return self.id\n",
        "\n",
        "  def get_node_str(self):\n",
        "    return str(self)\n",
        "\n",
        "  def get_action(self):\n",
        "    return self.action\n",
        "\n",
        "  def swap(self):\n",
        "    successors = []\n",
        "    # Swap top-left <-> bottom-right\n",
        "    if self.state[0][0] != 0 and self.state[2][2] != 0:\n",
        "        new_state = deepcopy(self.state)\n",
        "        new_state[0][0], new_state[2][2] = new_state[2][2], new_state[0][0]\n",
        "        successors.append(Node(new_state, \"Corner swap\", self, self.cost + 1))\n",
        "    # Swap top-right <-> bottom-left\n",
        "    if self.state[0][2] != 0 and self.state[2][0] != 0:\n",
        "        new_state = deepcopy(self.state)\n",
        "        new_state[0][2], new_state[2][0] = new_state[2][0], new_state[0][2]\n",
        "        successors.append(Node(new_state, \"Corner swap\", self, self.cost + 1))\n",
        "\n",
        "    #Kiểm tra các cặp cạnh kề nhau\n",
        "    for i in range(3):\n",
        "      for j in range(3):\n",
        "        u=self.state[i][j]\n",
        "        if(u==0):\n",
        "          continue\n",
        "        for (ni, nj) in [(i-1,j), (i+1,j), (i,j-1), (i,j+1)]:\n",
        "          if 0 <= ni and ni < 3 and 0 <= nj and nj < 3:\n",
        "            v=self.state[ni][nj]\n",
        "            if v != 0 and v + u == 9:\n",
        "              s = deepcopy(self.state)\n",
        "              s[i][j], s[ni][nj] = s[ni][nj], s[i][j]\n",
        "              successors.append(Node(s, f\"Swap {u}_{v}\", self, self.cost + 1))\n",
        "    return successors\n",
        "\n",
        "  def __lt__(self,other): #Thiếu dấu gạch chân (14/10)\n",
        "    return self.cost < other.cost\n",
        "\n",
        "\n",
        "  def draw(self, dot):\n",
        "    dot.node(self.get_id(), self.get_node_str())\n",
        "    if self.parent is not None:\n",
        "      dot.edge(self.parent.get_id(), self.get_id(), self.get_action())\n",
        "\n",
        "#Hàm state ngẫu nhiên (10:30 16/10)\n",
        "  @staticmethod\n",
        "  def create_random_start():\n",
        "    numbers = list(range(9))\n",
        "    random.shuffle(numbers)\n",
        "    state = [numbers[i*3:(i+1)*3] for i in range(3)]\n",
        "    return Node(state)"
      ]
    },
    {
      "cell_type": "code",
      "execution_count": null,
      "metadata": {
        "id": "As8e622cFToy"
      },
      "outputs": [],
      "source": [
        "class A_star:\n",
        "  def __init__(self, start_node, heuristic='manhattan'):\n",
        "    self.start_node = start_node\n",
        "    self.heuristic = heuristic\n",
        "\n",
        "    # chọn hàm heuristic\n",
        "    if heuristic == 'manhattan':\n",
        "        heuristic_func = self.heu_manhattan\n",
        "    else:\n",
        "        heuristic_func = self.heu_misplaced\n",
        "\n",
        "    # tính heuristic ban đầu\n",
        "    h_val = heuristic_func(self.start_node.state) #h(n)\n",
        "    self.start_node.heuristic = h_val #fix 17/10\n",
        "    self.heuristic_func = heuristic_func\n",
        "\n",
        "  def heu_manhattan(self, state):\n",
        "    Min_distance = None\n",
        "    goals = [\n",
        "          [[1,2,3],[4,5,6],[7,8,0]],\n",
        "          [[8,7,6],[5,4,3],[2,1,0]],\n",
        "          [[0,1,2],[3,4,5],[6,7,8]],\n",
        "          [[0,8,7],[6,5,4],[3,2,1]]\n",
        "      ]\n",
        "    for goal in goals:\n",
        "      distance = 0\n",
        "      for i in range(3):\n",
        "        for j in range(3):\n",
        "          val = state[i][j]\n",
        "          if val != 0:\n",
        "            for gi in range(3):\n",
        "              for gj in range(3):\n",
        "                if goal[gi][gj] == val:\n",
        "                    distance += abs(i - gi) + abs(j - gj)\n",
        "      if(Min_distance is None):\n",
        "        Min_distance = distance\n",
        "      elif(distance < Min_distance):\n",
        "        Min_distance = distance\n",
        "    # chỉnh sửa: chia 2 vì 1 swap có thể sửa 2 ô\n",
        "    return (Min_distance +1)//2\n",
        "\n",
        "  def count_misplaced(self, state, goal):\n",
        "    count = 0\n",
        "    for i in range(3):\n",
        "      for j in range(3):\n",
        "        if state[i][j] != goal[i][j] and state[i][j] != 0:\n",
        "          count += 1\n",
        "    return count\n",
        "\n",
        "  def heu_misplaced(self, state):\n",
        "    Min_misplaced = None\n",
        "    goals = [\n",
        "        [[1,2,3],[4,5,6],[7,8,0]],\n",
        "        [[8,7,6],[5,4,3],[2,1,0]],\n",
        "        [[0,1,2],[3,4,5],[6,7,8]],\n",
        "        [[0,8,7],[6,5,4],[3,2,1]]\n",
        "    ]\n",
        "    for goal in goals:\n",
        "      misplaced = self.count_misplaced(state, goal)\n",
        "      if(Min_misplaced is None):\n",
        "        Min_misplaced = misplaced\n",
        "      elif(misplaced <= Min_misplaced):\n",
        "        Min_misplaced = misplaced\n",
        "    # chỉnh sửa: chia 2 vì 1 swap có thể sửa 2 ô\n",
        "    return (Min_misplaced+1) //2\n",
        "\n",
        "  def reconstruct_path(self, node):\n",
        "    path = []\n",
        "    while node is not None:   # start_node.parent = None\n",
        "      path.append(node)\n",
        "      node = node.parent\n",
        "    path.reverse()\n",
        "    return path\n",
        "\n",
        "  def solve(self):\n",
        "    dot = Digraph()\n",
        "    frontier = []\n",
        "    explored = set()\n",
        "    node_explored = 0\n",
        "    if self.start_node.is_goal():   # kiểm tra ngay từ đầu\n",
        "      path = self.reconstruct_path(self.start_node)\n",
        "      return path, self.start_node.cost ,node_explored  #  return cả cost (17/10)\n",
        "\n",
        "    heapq.heappush(frontier, (self.start_node.cost + self.start_node.heuristic, self.start_node))\n",
        "    best_cost = {self.start_node.get_node_str(): self.start_node.cost}\n",
        "    while frontier:\n",
        "      f_value, current = heapq.heappop(frontier)  #Them bien f_value (23:06 14/10)\n",
        "      node_explored += 1\n",
        "      if current.is_goal():\n",
        "        path = self.reconstruct_path(current)\n",
        "        return path, current.cost,node_explored  #  return cost của solution (17/10)\n",
        "\n",
        "      if current.get_node_str() in explored:\n",
        "        continue\n",
        "\n",
        "      explored.add(current.get_node_str())\n",
        "      for child in current.get_successors():\n",
        "        state_str = child.get_node_str()\n",
        "        child.heuristic = self.heuristic_func(child.state)\n",
        "        total_cost = child.cost + child.heuristic #f(n)\n",
        "\n",
        "        if state_str not in best_cost or child.cost < best_cost[state_str]:\n",
        "          best_cost[state_str] = child.cost\n",
        "          heapq.heappush(frontier, (total_cost, child))\n",
        "    return None, None, node_explored\n"
      ]
    },
    {
      "cell_type": "code",
      "source": [
        "# TÁCH HEURISTIC RIÊNG RA KHỎI A STAR\n",
        "\n",
        "class Heuristic:\n",
        "    def __call__(self, state):\n",
        "        raise NotImplementedError(\"Phải override phương thức __call__()\")\n",
        "\n",
        "class ManhattanHeuristic(Heuristic):\n",
        "    goals = [\n",
        "        [[1,2,3],[4,5,6],[7,8,0]],\n",
        "        [[8,7,6],[5,4,3],[2,1,0]],\n",
        "        [[0,1,2],[3,4,5],[6,7,8]],\n",
        "        [[0,8,7],[6,5,4],[3,2,1]]\n",
        "    ]\n",
        "\n",
        "    def __call__(self, state):\n",
        "        min_distance = None\n",
        "        for goal in self.goals:\n",
        "            distance = 0\n",
        "            for i in range(3):\n",
        "                for j in range(3):\n",
        "                    val = state[i][j]\n",
        "                    if val != 0:\n",
        "                        for gi in range(3):\n",
        "                            for gj in range(3):\n",
        "                                if goal[gi][gj] == val:\n",
        "                                    distance += abs(i - gi) + abs(j - gj)\n",
        "            if min_distance is None or distance < min_distance:\n",
        "                min_distance = distance\n",
        "        return (min_distance + 1) // 2  # chia 2 vì 1 swap sửa 2 ô\n",
        "\n",
        "class MisplacedHeuristic(Heuristic):\n",
        "    goals = [\n",
        "        [[1,2,3],[4,5,6],[7,8,0]],\n",
        "        [[8,7,6],[5,4,3],[2,1,0]],\n",
        "        [[0,1,2],[3,4,5],[6,7,8]],\n",
        "        [[0,8,7],[6,5,4],[3,2,1]]\n",
        "    ]\n",
        "\n",
        "    def count_misplaced(self, state, goal):\n",
        "        count = 0\n",
        "        for i in range(3):\n",
        "            for j in range(3):\n",
        "                if state[i][j] != goal[i][j] and state[i][j] != 0:\n",
        "                    count += 1\n",
        "        return count\n",
        "\n",
        "    def __call__(self, state):\n",
        "        min_misplaced = None\n",
        "        for goal in self.goals:\n",
        "            misplaced = self.count_misplaced(state, goal)\n",
        "            if min_misplaced is None or misplaced <= min_misplaced:\n",
        "                min_misplaced = misplaced\n",
        "        return (min_misplaced + 1) // 2\n",
        "\n",
        "\n",
        "class A_star:\n",
        "    def __init__(self, start_node, heuristic: Heuristic):\n",
        "        self.start_node = start_node\n",
        "        self.heuristic = heuristic\n",
        "        self.start_node.heuristic = self.heuristic(self.start_node.state)\n",
        "\n",
        "    def reconstruct_path(self, node):\n",
        "        path = []\n",
        "        while node:\n",
        "            path.append(node)\n",
        "            node = node.parent\n",
        "        path.reverse()\n",
        "        return path\n",
        "\n",
        "    def solve(self):\n",
        "        frontier = []\n",
        "        explored = set()\n",
        "        node_explored = 0\n",
        "\n",
        "        if self.start_node.is_goal():\n",
        "            return self.reconstruct_path(self.start_node), self.start_node.cost, node_explored\n",
        "\n",
        "        heapq.heappush(frontier, (self.start_node.cost + self.start_node.heuristic, self.start_node))\n",
        "        best_cost = {self.start_node.get_node_str(): self.start_node.cost}\n",
        "\n",
        "        while frontier:\n",
        "            f_val, current = heapq.heappop(frontier)\n",
        "            node_explored += 1\n",
        "            if current.is_goal():\n",
        "                return self.reconstruct_path(current), current.cost, node_explored\n",
        "\n",
        "            if current.get_node_str() in explored:\n",
        "                continue\n",
        "\n",
        "            explored.add(current.get_node_str())\n",
        "            for child in current.get_successors():\n",
        "                child.heuristic = self.heuristic(child.state)\n",
        "                total_cost = child.cost + child.heuristic\n",
        "                state_str = child.get_node_str()\n",
        "                if state_str not in best_cost or child.cost < best_cost[state_str]:\n",
        "                    best_cost[state_str] = child.cost\n",
        "                    heapq.heappush(frontier, (total_cost, child))\n",
        "\n",
        "        return None, None, node_explored\n"
      ],
      "metadata": {
        "id": "xMRDVIGaBFH9"
      },
      "execution_count": null,
      "outputs": []
    },
    {
      "cell_type": "code",
      "execution_count": null,
      "metadata": {
        "id": "gz_7HQoyGDnX"
      },
      "outputs": [],
      "source": [
        "class BFS:\n",
        "    def __init__(self, start_node, max_limit=50000):\n",
        "        self.start_node = start_node\n",
        "        self.max_limit = max_limit\n",
        "\n",
        "    def solve(self):\n",
        "\n",
        "        if self.start_node.is_goal():\n",
        "            return [self.start_node], 0, 0\n",
        "\n",
        "        frontier = deque([self.start_node])\n",
        "        explored = set()\n",
        "        nodes_expanded = 0\n",
        "\n",
        "        while frontier:\n",
        "            current = frontier.popleft()\n",
        "            nodes_expanded += 1\n",
        "\n",
        "            if current.is_goal():\n",
        "                path = []\n",
        "                while current:\n",
        "                    path.append(current)\n",
        "                    current = current.parent\n",
        "                path.reverse()\n",
        "                return path, path[-1].cost, nodes_expanded\n",
        "\n",
        "            explored.add(current.get_node_str())\n",
        "            for child in current.get_successors():\n",
        "                if child.get_node_str() not in explored:\n",
        "                    frontier.append(child)\n",
        "\n",
        "        return None, None, nodes_expanded\n"
      ]
    },
    {
      "cell_type": "code",
      "execution_count": null,
      "metadata": {
        "id": "YoyQmhpm24im"
      },
      "outputs": [],
      "source": [
        "\n",
        "\n",
        "\"\"\"\n",
        "def illustrate_search_tree(start_node, n, heuristic='manhattan'):\n",
        "    astar = A_star(start_node, heuristic)\n",
        "    dot = Digraph()\n",
        "    frontier = []\n",
        "    heapq.heappush(frontier, (start_node.cost + start_node.heuristic, start_node))\n",
        "    explored = set()\n",
        "    count = 0\n",
        "\n",
        "    while frontier and count < n:\n",
        "        f_value, current = heapq.heappop(frontier)\n",
        "        if current.get_node_str() in explored:\n",
        "            continue\n",
        "        explored.add(current.get_node_str())\n",
        "        current.draw(dot)   # thêm node vào đồ thị\n",
        "        count += 1\n",
        "\n",
        "        for child in current.get_successors():\n",
        "            child.heuristic = astar.heuristic_func(child.state)\n",
        "            total_cost = child.cost + child.heuristic\n",
        "            heapq.heappush(frontier, (total_cost, child))\n",
        "\n",
        "    return dot\n",
        "    \"\"\"\n",
        "\n",
        "def illustrate_search_tree(start_node, n, heuristic_obj):\n",
        "  astar = A_star(start_node, heuristic_obj)\n",
        "  dot = Digraph()\n",
        "  frontier = []\n",
        "  heapq.heappush(frontier, (start_node.cost + start_node.heuristic, start_node))\n",
        "  explored = set()\n",
        "  count = 0\n",
        "\n",
        "  while frontier and count < n:\n",
        "      f_value, current = heapq.heappop(frontier)\n",
        "      if current.get_node_str() in explored:\n",
        "          continue\n",
        "\n",
        "      explored.add(current.get_node_str())\n",
        "      current.draw(dot)   # thêm node vào đồ thị\n",
        "      count += 1\n",
        "\n",
        "      for child in current.get_successors():\n",
        "          child.heuristic = astar.heuristic(child.state)\n",
        "          total_cost = child.cost + child.heuristic\n",
        "          heapq.heappush(frontier, (total_cost, child))\n",
        "\n",
        "  return dot\n",
        "\n"
      ]
    },
    {
      "cell_type": "code",
      "execution_count": null,
      "metadata": {
        "colab": {
          "base_uri": "https://localhost:8080/",
          "height": 468
        },
        "id": "CtQfjN7o3FK7",
        "outputId": "97a40df4-26bf-4956-b785-7d28d9eca265"
      },
      "outputs": [
        {
          "output_type": "execute_result",
          "data": {
            "image/svg+xml": "<?xml version=\"1.0\" encoding=\"UTF-8\" standalone=\"no\"?>\n<!DOCTYPE svg PUBLIC \"-//W3C//DTD SVG 1.1//EN\"\n \"http://www.w3.org/Graphics/SVG/1.1/DTD/svg11.dtd\">\n<!-- Generated by graphviz version 2.43.0 (0)\n -->\n<!-- Title: %3 Pages: 1 -->\n<svg width=\"449pt\" height=\"335pt\"\n viewBox=\"0.00 0.00 449.11 334.86\" xmlns=\"http://www.w3.org/2000/svg\" xmlns:xlink=\"http://www.w3.org/1999/xlink\">\n<g id=\"graph0\" class=\"graph\" transform=\"scale(1 1) rotate(0) translate(4 330.86)\">\n<title>%3</title>\n<polygon fill=\"white\" stroke=\"transparent\" points=\"-4,4 -4,-330.86 445.11,-330.86 445.11,4 -4,4\"/>\n<!-- 3 1 5\n8 _ 6\n2 7 4 -->\n<g id=\"node1\" class=\"node\">\n<title>3 1 5\n8 _ 6\n2 7 4</title>\n<ellipse fill=\"none\" stroke=\"black\" cx=\"257.11\" cy=\"-289.38\" rx=\"31.23\" ry=\"37.45\"/>\n<text text-anchor=\"middle\" x=\"257.11\" y=\"-300.68\" font-family=\"Times,serif\" font-size=\"14.00\">3 1 5</text>\n<text text-anchor=\"middle\" x=\"257.11\" y=\"-285.68\" font-family=\"Times,serif\" font-size=\"14.00\">8 _ 6</text>\n<text text-anchor=\"middle\" x=\"257.11\" y=\"-270.68\" font-family=\"Times,serif\" font-size=\"14.00\">2 7 4</text>\n</g>\n<!-- 3 1 5\n8 6 _\n2 7 4 -->\n<g id=\"node2\" class=\"node\">\n<title>3 1 5\n8 6 _\n2 7 4</title>\n<ellipse fill=\"none\" stroke=\"black\" cx=\"124.11\" cy=\"-163.43\" rx=\"31.23\" ry=\"37.45\"/>\n<text text-anchor=\"middle\" x=\"124.11\" y=\"-174.73\" font-family=\"Times,serif\" font-size=\"14.00\">3 1 5</text>\n<text text-anchor=\"middle\" x=\"124.11\" y=\"-159.73\" font-family=\"Times,serif\" font-size=\"14.00\">8 6 _</text>\n<text text-anchor=\"middle\" x=\"124.11\" y=\"-144.73\" font-family=\"Times,serif\" font-size=\"14.00\">2 7 4</text>\n</g>\n<!-- 3 1 5\n8 _ 6\n2 7 4&#45;&gt;3 1 5\n8 6 _\n2 7 4 -->\n<g id=\"edge1\" class=\"edge\">\n<title>3 1 5\n8 _ 6\n2 7 4&#45;&gt;3 1 5\n8 6 _\n2 7 4</title>\n<path fill=\"none\" stroke=\"black\" d=\"M232.72,-265.65C211.06,-245.47 179.29,-215.86 155.7,-193.87\"/>\n<polygon fill=\"black\" stroke=\"black\" points=\"158.05,-191.28 148.35,-187.02 153.28,-196.4 158.05,-191.28\"/>\n<text text-anchor=\"middle\" x=\"202.61\" y=\"-222.71\" font-family=\"Times,serif\" font-size=\"14.00\">L</text>\n</g>\n<!-- 3 1 5\n_ 8 6\n2 7 4 -->\n<g id=\"node3\" class=\"node\">\n<title>3 1 5\n_ 8 6\n2 7 4</title>\n<ellipse fill=\"none\" stroke=\"black\" cx=\"217.11\" cy=\"-163.43\" rx=\"31.23\" ry=\"37.45\"/>\n<text text-anchor=\"middle\" x=\"217.11\" y=\"-174.73\" font-family=\"Times,serif\" font-size=\"14.00\">3 1 5</text>\n<text text-anchor=\"middle\" x=\"217.11\" y=\"-159.73\" font-family=\"Times,serif\" font-size=\"14.00\">_ 8 6</text>\n<text text-anchor=\"middle\" x=\"217.11\" y=\"-144.73\" font-family=\"Times,serif\" font-size=\"14.00\">2 7 4</text>\n</g>\n<!-- 3 1 5\n8 _ 6\n2 7 4&#45;&gt;3 1 5\n_ 8 6\n2 7 4 -->\n<g id=\"edge2\" class=\"edge\">\n<title>3 1 5\n8 _ 6\n2 7 4&#45;&gt;3 1 5\n_ 8 6\n2 7 4</title>\n<path fill=\"none\" stroke=\"black\" d=\"M246.08,-254.18C241.49,-239.96 236.1,-223.27 231.23,-208.17\"/>\n<polygon fill=\"black\" stroke=\"black\" points=\"234.51,-206.96 228.11,-198.52 227.85,-209.11 234.51,-206.96\"/>\n<text text-anchor=\"middle\" x=\"244.11\" y=\"-222.71\" font-family=\"Times,serif\" font-size=\"14.00\">R</text>\n</g>\n<!-- 3 1 5\n8 7 6\n2 _ 4 -->\n<g id=\"node4\" class=\"node\">\n<title>3 1 5\n8 7 6\n2 _ 4</title>\n<ellipse fill=\"none\" stroke=\"black\" cx=\"297.11\" cy=\"-163.43\" rx=\"31.23\" ry=\"37.45\"/>\n<text text-anchor=\"middle\" x=\"297.11\" y=\"-174.73\" font-family=\"Times,serif\" font-size=\"14.00\">3 1 5</text>\n<text text-anchor=\"middle\" x=\"297.11\" y=\"-159.73\" font-family=\"Times,serif\" font-size=\"14.00\">8 7 6</text>\n<text text-anchor=\"middle\" x=\"297.11\" y=\"-144.73\" font-family=\"Times,serif\" font-size=\"14.00\">2 _ 4</text>\n</g>\n<!-- 3 1 5\n8 _ 6\n2 7 4&#45;&gt;3 1 5\n8 7 6\n2 _ 4 -->\n<g id=\"edge3\" class=\"edge\">\n<title>3 1 5\n8 _ 6\n2 7 4&#45;&gt;3 1 5\n8 7 6\n2 _ 4</title>\n<path fill=\"none\" stroke=\"black\" d=\"M268.15,-254.18C272.74,-239.96 278.12,-223.27 283,-208.17\"/>\n<polygon fill=\"black\" stroke=\"black\" points=\"286.37,-209.11 286.11,-198.52 279.71,-206.96 286.37,-209.11\"/>\n<text text-anchor=\"middle\" x=\"284.11\" y=\"-222.71\" font-family=\"Times,serif\" font-size=\"14.00\">U</text>\n</g>\n<!-- 3 _ 5\n8 1 6\n2 7 4 -->\n<g id=\"node5\" class=\"node\">\n<title>3 _ 5\n8 1 6\n2 7 4</title>\n<ellipse fill=\"none\" stroke=\"black\" cx=\"383.11\" cy=\"-163.43\" rx=\"31.23\" ry=\"37.45\"/>\n<text text-anchor=\"middle\" x=\"383.11\" y=\"-174.73\" font-family=\"Times,serif\" font-size=\"14.00\">3 _ 5</text>\n<text text-anchor=\"middle\" x=\"383.11\" y=\"-159.73\" font-family=\"Times,serif\" font-size=\"14.00\">8 1 6</text>\n<text text-anchor=\"middle\" x=\"383.11\" y=\"-144.73\" font-family=\"Times,serif\" font-size=\"14.00\">2 7 4</text>\n</g>\n<!-- 3 1 5\n8 _ 6\n2 7 4&#45;&gt;3 _ 5\n8 1 6\n2 7 4 -->\n<g id=\"edge4\" class=\"edge\">\n<title>3 1 5\n8 _ 6\n2 7 4&#45;&gt;3 _ 5\n8 1 6\n2 7 4</title>\n<path fill=\"none\" stroke=\"black\" d=\"M280.81,-265.07C300.92,-245.28 329.93,-216.75 351.92,-195.11\"/>\n<polygon fill=\"black\" stroke=\"black\" points=\"354.42,-197.57 359.09,-188.06 349.51,-192.58 354.42,-197.57\"/>\n<text text-anchor=\"middle\" x=\"332.11\" y=\"-222.71\" font-family=\"Times,serif\" font-size=\"14.00\">D</text>\n</g>\n<!-- 4 1 5\n8 6 _\n2 7 3 -->\n<g id=\"node6\" class=\"node\">\n<title>4 1 5\n8 6 _\n2 7 3</title>\n<ellipse fill=\"none\" stroke=\"black\" cx=\"31.11\" cy=\"-37.48\" rx=\"31.23\" ry=\"37.45\"/>\n<text text-anchor=\"middle\" x=\"31.11\" y=\"-48.78\" font-family=\"Times,serif\" font-size=\"14.00\">4 1 5</text>\n<text text-anchor=\"middle\" x=\"31.11\" y=\"-33.78\" font-family=\"Times,serif\" font-size=\"14.00\">8 6 _</text>\n<text text-anchor=\"middle\" x=\"31.11\" y=\"-18.78\" font-family=\"Times,serif\" font-size=\"14.00\">2 7 3</text>\n</g>\n<!-- 3 1 5\n8 6 _\n2 7 4&#45;&gt;4 1 5\n8 6 _\n2 7 3 -->\n<g id=\"edge5\" class=\"edge\">\n<title>3 1 5\n8 6 _\n2 7 4&#45;&gt;4 1 5\n8 6 _\n2 7 3</title>\n<path fill=\"none\" stroke=\"black\" d=\"M95.78,-147.82C80.17,-138.41 61.67,-124.79 50.11,-107.95 45.28,-100.91 41.67,-92.69 38.98,-84.41\"/>\n<polygon fill=\"black\" stroke=\"black\" points=\"42.33,-83.39 36.23,-74.73 35.6,-85.31 42.33,-83.39\"/>\n<text text-anchor=\"middle\" x=\"85.11\" y=\"-96.75\" font-family=\"Times,serif\" font-size=\"14.00\">Corner swap</text>\n</g>\n<!-- 3 1 _\n8 6 5\n2 7 4 -->\n<g id=\"node9\" class=\"node\">\n<title>3 1 _\n8 6 5\n2 7 4</title>\n<ellipse fill=\"none\" stroke=\"black\" cx=\"124.11\" cy=\"-37.48\" rx=\"31.23\" ry=\"37.45\"/>\n<text text-anchor=\"middle\" x=\"124.11\" y=\"-48.78\" font-family=\"Times,serif\" font-size=\"14.00\">3 1 _</text>\n<text text-anchor=\"middle\" x=\"124.11\" y=\"-33.78\" font-family=\"Times,serif\" font-size=\"14.00\">8 6 5</text>\n<text text-anchor=\"middle\" x=\"124.11\" y=\"-18.78\" font-family=\"Times,serif\" font-size=\"14.00\">2 7 4</text>\n</g>\n<!-- 3 1 5\n8 6 _\n2 7 4&#45;&gt;3 1 _\n8 6 5\n2 7 4 -->\n<g id=\"edge8\" class=\"edge\">\n<title>3 1 5\n8 6 _\n2 7 4&#45;&gt;3 1 _\n8 6 5\n2 7 4</title>\n<path fill=\"none\" stroke=\"black\" d=\"M124.11,-125.91C124.11,-113.16 124.11,-98.68 124.11,-85.21\"/>\n<polygon fill=\"black\" stroke=\"black\" points=\"127.61,-85.16 124.11,-75.16 120.61,-85.16 127.61,-85.16\"/>\n<text text-anchor=\"middle\" x=\"129.11\" y=\"-96.75\" font-family=\"Times,serif\" font-size=\"14.00\">D</text>\n</g>\n<!-- 3 1 2\n_ 8 6\n5 7 4 -->\n<g id=\"node7\" class=\"node\">\n<title>3 1 2\n_ 8 6\n5 7 4</title>\n<ellipse fill=\"none\" stroke=\"black\" cx=\"204.11\" cy=\"-37.48\" rx=\"31.23\" ry=\"37.45\"/>\n<text text-anchor=\"middle\" x=\"204.11\" y=\"-48.78\" font-family=\"Times,serif\" font-size=\"14.00\">3 1 2</text>\n<text text-anchor=\"middle\" x=\"204.11\" y=\"-33.78\" font-family=\"Times,serif\" font-size=\"14.00\">_ 8 6</text>\n<text text-anchor=\"middle\" x=\"204.11\" y=\"-18.78\" font-family=\"Times,serif\" font-size=\"14.00\">5 7 4</text>\n</g>\n<!-- 3 1 5\n_ 8 6\n2 7 4&#45;&gt;3 1 2\n_ 8 6\n5 7 4 -->\n<g id=\"edge6\" class=\"edge\">\n<title>3 1 5\n_ 8 6\n2 7 4&#45;&gt;3 1 2\n_ 8 6\n5 7 4</title>\n<path fill=\"none\" stroke=\"black\" d=\"M208.31,-127.44C207,-121 205.85,-114.3 205.11,-107.95 204.26,-100.62 203.76,-92.83 203.49,-85.21\"/>\n<polygon fill=\"black\" stroke=\"black\" points=\"206.98,-84.9 203.25,-74.99 199.99,-85.06 206.98,-84.9\"/>\n<text text-anchor=\"middle\" x=\"240.11\" y=\"-96.75\" font-family=\"Times,serif\" font-size=\"14.00\">Corner swap</text>\n</g>\n<!-- 4 1 5\n_ 8 6\n2 7 3 -->\n<g id=\"node10\" class=\"node\">\n<title>4 1 5\n_ 8 6\n2 7 3</title>\n<ellipse fill=\"none\" stroke=\"black\" cx=\"297.11\" cy=\"-37.48\" rx=\"31.23\" ry=\"37.45\"/>\n<text text-anchor=\"middle\" x=\"297.11\" y=\"-48.78\" font-family=\"Times,serif\" font-size=\"14.00\">4 1 5</text>\n<text text-anchor=\"middle\" x=\"297.11\" y=\"-33.78\" font-family=\"Times,serif\" font-size=\"14.00\">_ 8 6</text>\n<text text-anchor=\"middle\" x=\"297.11\" y=\"-18.78\" font-family=\"Times,serif\" font-size=\"14.00\">2 7 3</text>\n</g>\n<!-- 3 1 5\n_ 8 6\n2 7 4&#45;&gt;4 1 5\n_ 8 6\n2 7 3 -->\n<g id=\"edge9\" class=\"edge\">\n<title>3 1 5\n_ 8 6\n2 7 4&#45;&gt;4 1 5\n_ 8 6\n2 7 3</title>\n<path fill=\"none\" stroke=\"black\" d=\"M241.58,-139.97C256.84,-125.87 273.83,-109.98 275.11,-107.95 279.76,-100.56 283.5,-92.11 286.49,-83.7\"/>\n<polygon fill=\"black\" stroke=\"black\" points=\"289.91,-84.52 289.65,-73.92 283.25,-82.36 289.91,-84.52\"/>\n<text text-anchor=\"middle\" x=\"317.11\" y=\"-96.75\" font-family=\"Times,serif\" font-size=\"14.00\">Corner swap</text>\n</g>\n<!-- 3 _ 5\n8 1 6\n7 2 4 -->\n<g id=\"node8\" class=\"node\">\n<title>3 _ 5\n8 1 6\n7 2 4</title>\n<ellipse fill=\"none\" stroke=\"black\" cx=\"390.11\" cy=\"-37.48\" rx=\"31.23\" ry=\"37.45\"/>\n<text text-anchor=\"middle\" x=\"390.11\" y=\"-48.78\" font-family=\"Times,serif\" font-size=\"14.00\">3 _ 5</text>\n<text text-anchor=\"middle\" x=\"390.11\" y=\"-33.78\" font-family=\"Times,serif\" font-size=\"14.00\">8 1 6</text>\n<text text-anchor=\"middle\" x=\"390.11\" y=\"-18.78\" font-family=\"Times,serif\" font-size=\"14.00\">7 2 4</text>\n</g>\n<!-- 3 _ 5\n8 1 6\n2 7 4&#45;&gt;3 _ 5\n8 1 6\n7 2 4 -->\n<g id=\"edge7\" class=\"edge\">\n<title>3 _ 5\n8 1 6\n2 7 4&#45;&gt;3 _ 5\n8 1 6\n7 2 4</title>\n<path fill=\"none\" stroke=\"black\" d=\"M385.18,-125.91C385.89,-113.16 386.71,-98.68 387.47,-85.21\"/>\n<polygon fill=\"black\" stroke=\"black\" points=\"390.97,-85.35 388.04,-75.16 383.98,-84.95 390.97,-85.35\"/>\n<text text-anchor=\"middle\" x=\"413.61\" y=\"-96.75\" font-family=\"Times,serif\" font-size=\"14.00\">Swap 2_7</text>\n</g>\n</g>\n</svg>\n",
            "text/plain": [
              "<graphviz.graphs.Digraph at 0x7945923f6870>"
            ]
          },
          "metadata": {},
          "execution_count": 77
        }
      ],
      "source": [
        "#  TEST TÁCH HEU\n",
        "start_state = Node.create_random_start()\n",
        "#start_state = [[1,5,4],[0,3,6],[2,8,7]]\n",
        "\n",
        "heuristic = ManhattanHeuristic()  # hoặc MisplacedHeuristic()\n",
        "heuristic_2 = MisplacedHeuristic()\n",
        "\n",
        "\n",
        "dot = illustrate_search_tree(start_state, 10, heuristic_obj= heuristic_2)\n",
        "\n",
        "dot\n"
      ]
    },
    {
      "cell_type": "code",
      "execution_count": null,
      "metadata": {
        "colab": {
          "base_uri": "https://localhost:8080/",
          "height": 636
        },
        "id": "2m1RvfAY60BP",
        "outputId": "a935cf9b-20db-4b12-d2f1-2142c81847ff"
      },
      "outputs": [
        {
          "output_type": "execute_result",
          "data": {
            "image/svg+xml": "<?xml version=\"1.0\" encoding=\"UTF-8\" standalone=\"no\"?>\n<!DOCTYPE svg PUBLIC \"-//W3C//DTD SVG 1.1//EN\"\n \"http://www.w3.org/Graphics/SVG/1.1/DTD/svg11.dtd\">\n<!-- Generated by graphviz version 2.43.0 (0)\n -->\n<!-- Title: %3 Pages: 1 -->\n<svg width=\"442pt\" height=\"461pt\"\n viewBox=\"0.00 0.00 442.11 460.81\" xmlns=\"http://www.w3.org/2000/svg\" xmlns:xlink=\"http://www.w3.org/1999/xlink\">\n<g id=\"graph0\" class=\"graph\" transform=\"scale(1 1) rotate(0) translate(4 456.81)\">\n<title>%3</title>\n<polygon fill=\"white\" stroke=\"transparent\" points=\"-4,4 -4,-456.81 438.11,-456.81 438.11,4 -4,4\"/>\n<!-- 1 _ 8\n5 6 4\n2 3 7 -->\n<g id=\"node1\" class=\"node\">\n<title>1 _ 8\n5 6 4\n2 3 7</title>\n<ellipse fill=\"none\" stroke=\"black\" cx=\"243.11\" cy=\"-415.34\" rx=\"31.23\" ry=\"37.45\"/>\n<text text-anchor=\"middle\" x=\"243.11\" y=\"-426.64\" font-family=\"Times,serif\" font-size=\"14.00\">1 _ 8</text>\n<text text-anchor=\"middle\" x=\"243.11\" y=\"-411.64\" font-family=\"Times,serif\" font-size=\"14.00\">5 6 4</text>\n<text text-anchor=\"middle\" x=\"243.11\" y=\"-396.64\" font-family=\"Times,serif\" font-size=\"14.00\">2 3 7</text>\n</g>\n<!-- 1 8 _\n5 6 4\n2 3 7 -->\n<g id=\"node2\" class=\"node\">\n<title>1 8 _\n5 6 4\n2 3 7</title>\n<ellipse fill=\"none\" stroke=\"black\" cx=\"124.11\" cy=\"-289.38\" rx=\"31.23\" ry=\"37.45\"/>\n<text text-anchor=\"middle\" x=\"124.11\" y=\"-300.68\" font-family=\"Times,serif\" font-size=\"14.00\">1 8 _</text>\n<text text-anchor=\"middle\" x=\"124.11\" y=\"-285.68\" font-family=\"Times,serif\" font-size=\"14.00\">5 6 4</text>\n<text text-anchor=\"middle\" x=\"124.11\" y=\"-270.68\" font-family=\"Times,serif\" font-size=\"14.00\">2 3 7</text>\n</g>\n<!-- 1 _ 8\n5 6 4\n2 3 7&#45;&gt;1 8 _\n5 6 4\n2 3 7 -->\n<g id=\"edge1\" class=\"edge\">\n<title>1 _ 8\n5 6 4\n2 3 7&#45;&gt;1 8 _\n5 6 4\n2 3 7</title>\n<path fill=\"none\" stroke=\"black\" d=\"M219.89,-390.14C201.13,-370.61 174.6,-342.97 154.21,-321.74\"/>\n<polygon fill=\"black\" stroke=\"black\" points=\"156.73,-319.31 147.28,-314.52 151.68,-324.15 156.73,-319.31\"/>\n<text text-anchor=\"middle\" x=\"194.61\" y=\"-348.66\" font-family=\"Times,serif\" font-size=\"14.00\">L</text>\n</g>\n<!-- _ 1 8\n5 6 4\n2 3 7 -->\n<g id=\"node4\" class=\"node\">\n<title>_ 1 8\n5 6 4\n2 3 7</title>\n<ellipse fill=\"none\" stroke=\"black\" cx=\"243.11\" cy=\"-289.38\" rx=\"31.23\" ry=\"37.45\"/>\n<text text-anchor=\"middle\" x=\"243.11\" y=\"-300.68\" font-family=\"Times,serif\" font-size=\"14.00\">_ 1 8</text>\n<text text-anchor=\"middle\" x=\"243.11\" y=\"-285.68\" font-family=\"Times,serif\" font-size=\"14.00\">5 6 4</text>\n<text text-anchor=\"middle\" x=\"243.11\" y=\"-270.68\" font-family=\"Times,serif\" font-size=\"14.00\">2 3 7</text>\n</g>\n<!-- 1 _ 8\n5 6 4\n2 3 7&#45;&gt;_ 1 8\n5 6 4\n2 3 7 -->\n<g id=\"edge3\" class=\"edge\">\n<title>1 _ 8\n5 6 4\n2 3 7&#45;&gt;_ 1 8\n5 6 4\n2 3 7</title>\n<path fill=\"none\" stroke=\"black\" d=\"M243.11,-377.82C243.11,-365.07 243.11,-350.58 243.11,-337.12\"/>\n<polygon fill=\"black\" stroke=\"black\" points=\"246.61,-337.07 243.11,-327.07 239.61,-337.07 246.61,-337.07\"/>\n<text text-anchor=\"middle\" x=\"248.11\" y=\"-348.66\" font-family=\"Times,serif\" font-size=\"14.00\">R</text>\n</g>\n<!-- 1 6 8\n5 _ 4\n2 3 7 -->\n<g id=\"node6\" class=\"node\">\n<title>1 6 8\n5 _ 4\n2 3 7</title>\n<ellipse fill=\"none\" stroke=\"black\" cx=\"349.11\" cy=\"-289.38\" rx=\"31.23\" ry=\"37.45\"/>\n<text text-anchor=\"middle\" x=\"349.11\" y=\"-300.68\" font-family=\"Times,serif\" font-size=\"14.00\">1 6 8</text>\n<text text-anchor=\"middle\" x=\"349.11\" y=\"-285.68\" font-family=\"Times,serif\" font-size=\"14.00\">5 _ 4</text>\n<text text-anchor=\"middle\" x=\"349.11\" y=\"-270.68\" font-family=\"Times,serif\" font-size=\"14.00\">2 3 7</text>\n</g>\n<!-- 1 _ 8\n5 6 4\n2 3 7&#45;&gt;1 6 8\n5 _ 4\n2 3 7 -->\n<g id=\"edge5\" class=\"edge\">\n<title>1 _ 8\n5 6 4\n2 3 7&#45;&gt;1 6 8\n5 _ 4\n2 3 7</title>\n<path fill=\"none\" stroke=\"black\" d=\"M265.08,-388.65C281.14,-369.87 303.07,-344.23 320.5,-323.84\"/>\n<polygon fill=\"black\" stroke=\"black\" points=\"323.34,-325.91 327.18,-316.03 318.02,-321.36 323.34,-325.91\"/>\n<text text-anchor=\"middle\" x=\"307.11\" y=\"-348.66\" font-family=\"Times,serif\" font-size=\"14.00\">U</text>\n</g>\n<!-- 7 8 _\n5 6 4\n2 3 1 -->\n<g id=\"node3\" class=\"node\">\n<title>7 8 _\n5 6 4\n2 3 1</title>\n<ellipse fill=\"none\" stroke=\"black\" cx=\"31.11\" cy=\"-163.43\" rx=\"31.23\" ry=\"37.45\"/>\n<text text-anchor=\"middle\" x=\"31.11\" y=\"-174.73\" font-family=\"Times,serif\" font-size=\"14.00\">7 8 _</text>\n<text text-anchor=\"middle\" x=\"31.11\" y=\"-159.73\" font-family=\"Times,serif\" font-size=\"14.00\">5 6 4</text>\n<text text-anchor=\"middle\" x=\"31.11\" y=\"-144.73\" font-family=\"Times,serif\" font-size=\"14.00\">2 3 1</text>\n</g>\n<!-- 1 8 _\n5 6 4\n2 3 7&#45;&gt;7 8 _\n5 6 4\n2 3 1 -->\n<g id=\"edge2\" class=\"edge\">\n<title>1 8 _\n5 6 4\n2 3 7&#45;&gt;7 8 _\n5 6 4\n2 3 1</title>\n<path fill=\"none\" stroke=\"black\" d=\"M95.78,-273.77C80.17,-264.36 61.67,-250.74 50.11,-233.91 45.28,-226.87 41.67,-218.64 38.98,-210.36\"/>\n<polygon fill=\"black\" stroke=\"black\" points=\"42.33,-209.34 36.23,-200.68 35.6,-211.26 42.33,-209.34\"/>\n<text text-anchor=\"middle\" x=\"85.11\" y=\"-222.71\" font-family=\"Times,serif\" font-size=\"14.00\">Corner swap</text>\n</g>\n<!-- 8 1 _\n5 6 4\n2 3 7 -->\n<g id=\"node8\" class=\"node\">\n<title>8 1 _\n5 6 4\n2 3 7</title>\n<ellipse fill=\"none\" stroke=\"black\" cx=\"124.11\" cy=\"-163.43\" rx=\"31.23\" ry=\"37.45\"/>\n<text text-anchor=\"middle\" x=\"124.11\" y=\"-174.73\" font-family=\"Times,serif\" font-size=\"14.00\">8 1 _</text>\n<text text-anchor=\"middle\" x=\"124.11\" y=\"-159.73\" font-family=\"Times,serif\" font-size=\"14.00\">5 6 4</text>\n<text text-anchor=\"middle\" x=\"124.11\" y=\"-144.73\" font-family=\"Times,serif\" font-size=\"14.00\">2 3 7</text>\n</g>\n<!-- 1 8 _\n5 6 4\n2 3 7&#45;&gt;8 1 _\n5 6 4\n2 3 7 -->\n<g id=\"edge7\" class=\"edge\">\n<title>1 8 _\n5 6 4\n2 3 7&#45;&gt;8 1 _\n5 6 4\n2 3 7</title>\n<path fill=\"none\" stroke=\"black\" d=\"M124.11,-251.86C124.11,-239.12 124.11,-224.63 124.11,-211.17\"/>\n<polygon fill=\"black\" stroke=\"black\" points=\"127.61,-211.12 124.11,-201.12 120.61,-211.12 127.61,-211.12\"/>\n<text text-anchor=\"middle\" x=\"151.61\" y=\"-222.71\" font-family=\"Times,serif\" font-size=\"14.00\">Swap 1_8</text>\n</g>\n<!-- _ 8 1\n5 6 4\n2 3 7 -->\n<g id=\"node5\" class=\"node\">\n<title>_ 8 1\n5 6 4\n2 3 7</title>\n<ellipse fill=\"none\" stroke=\"black\" cx=\"204.11\" cy=\"-163.43\" rx=\"31.23\" ry=\"37.45\"/>\n<text text-anchor=\"middle\" x=\"204.11\" y=\"-174.73\" font-family=\"Times,serif\" font-size=\"14.00\">_ 8 1</text>\n<text text-anchor=\"middle\" x=\"204.11\" y=\"-159.73\" font-family=\"Times,serif\" font-size=\"14.00\">5 6 4</text>\n<text text-anchor=\"middle\" x=\"204.11\" y=\"-144.73\" font-family=\"Times,serif\" font-size=\"14.00\">2 3 7</text>\n</g>\n<!-- _ 1 8\n5 6 4\n2 3 7&#45;&gt;_ 8 1\n5 6 4\n2 3 7 -->\n<g id=\"edge4\" class=\"edge\">\n<title>_ 1 8\n5 6 4\n2 3 7&#45;&gt;_ 8 1\n5 6 4\n2 3 7</title>\n<path fill=\"none\" stroke=\"black\" d=\"M221.19,-262.56C215.16,-253.98 209.38,-244.02 206.11,-233.91 203.76,-226.64 202.45,-218.72 201.81,-210.92\"/>\n<polygon fill=\"black\" stroke=\"black\" points=\"205.3,-210.61 201.32,-200.79 198.31,-210.95 205.3,-210.61\"/>\n<text text-anchor=\"middle\" x=\"233.61\" y=\"-222.71\" font-family=\"Times,serif\" font-size=\"14.00\">Swap 1_8</text>\n</g>\n<!-- _ 1 2\n5 6 4\n8 3 7 -->\n<g id=\"node9\" class=\"node\">\n<title>_ 1 2\n5 6 4\n8 3 7</title>\n<ellipse fill=\"none\" stroke=\"black\" cx=\"284.11\" cy=\"-163.43\" rx=\"31.23\" ry=\"37.45\"/>\n<text text-anchor=\"middle\" x=\"284.11\" y=\"-174.73\" font-family=\"Times,serif\" font-size=\"14.00\">_ 1 2</text>\n<text text-anchor=\"middle\" x=\"284.11\" y=\"-159.73\" font-family=\"Times,serif\" font-size=\"14.00\">5 6 4</text>\n<text text-anchor=\"middle\" x=\"284.11\" y=\"-144.73\" font-family=\"Times,serif\" font-size=\"14.00\">8 3 7</text>\n</g>\n<!-- _ 1 8\n5 6 4\n2 3 7&#45;&gt;_ 1 2\n5 6 4\n8 3 7 -->\n<g id=\"edge8\" class=\"edge\">\n<title>_ 1 8\n5 6 4\n2 3 7&#45;&gt;_ 1 2\n5 6 4\n8 3 7</title>\n<path fill=\"none\" stroke=\"black\" d=\"M254.42,-254.18C259.13,-239.96 264.65,-223.27 269.64,-208.17\"/>\n<polygon fill=\"black\" stroke=\"black\" points=\"273.02,-209.11 272.84,-198.52 266.37,-206.91 273.02,-209.11\"/>\n<text text-anchor=\"middle\" x=\"300.11\" y=\"-222.71\" font-family=\"Times,serif\" font-size=\"14.00\">Corner swap</text>\n</g>\n<!-- 7 6 8\n5 _ 4\n2 3 1 -->\n<g id=\"node7\" class=\"node\">\n<title>7 6 8\n5 _ 4\n2 3 1</title>\n<ellipse fill=\"none\" stroke=\"black\" cx=\"376.11\" cy=\"-163.43\" rx=\"31.23\" ry=\"37.45\"/>\n<text text-anchor=\"middle\" x=\"376.11\" y=\"-174.73\" font-family=\"Times,serif\" font-size=\"14.00\">7 6 8</text>\n<text text-anchor=\"middle\" x=\"376.11\" y=\"-159.73\" font-family=\"Times,serif\" font-size=\"14.00\">5 _ 4</text>\n<text text-anchor=\"middle\" x=\"376.11\" y=\"-144.73\" font-family=\"Times,serif\" font-size=\"14.00\">2 3 1</text>\n</g>\n<!-- 1 6 8\n5 _ 4\n2 3 7&#45;&gt;7 6 8\n5 _ 4\n2 3 1 -->\n<g id=\"edge6\" class=\"edge\">\n<title>1 6 8\n5 _ 4\n2 3 7&#45;&gt;7 6 8\n5 _ 4\n2 3 1</title>\n<path fill=\"none\" stroke=\"black\" d=\"M356.85,-252.86C359.76,-239.51 363.11,-224.13 366.19,-209.99\"/>\n<polygon fill=\"black\" stroke=\"black\" points=\"369.67,-210.47 368.37,-199.96 362.83,-208.98 369.67,-210.47\"/>\n<text text-anchor=\"middle\" x=\"399.11\" y=\"-222.71\" font-family=\"Times,serif\" font-size=\"14.00\">Corner swap</text>\n</g>\n<!-- 7 6 8\n_ 5 4\n2 3 1 -->\n<g id=\"node10\" class=\"node\">\n<title>7 6 8\n_ 5 4\n2 3 1</title>\n<ellipse fill=\"none\" stroke=\"black\" cx=\"376.11\" cy=\"-37.48\" rx=\"31.23\" ry=\"37.45\"/>\n<text text-anchor=\"middle\" x=\"376.11\" y=\"-48.78\" font-family=\"Times,serif\" font-size=\"14.00\">7 6 8</text>\n<text text-anchor=\"middle\" x=\"376.11\" y=\"-33.78\" font-family=\"Times,serif\" font-size=\"14.00\">_ 5 4</text>\n<text text-anchor=\"middle\" x=\"376.11\" y=\"-18.78\" font-family=\"Times,serif\" font-size=\"14.00\">2 3 1</text>\n</g>\n<!-- 7 6 8\n5 _ 4\n2 3 1&#45;&gt;7 6 8\n_ 5 4\n2 3 1 -->\n<g id=\"edge9\" class=\"edge\">\n<title>7 6 8\n5 _ 4\n2 3 1&#45;&gt;7 6 8\n_ 5 4\n2 3 1</title>\n<path fill=\"none\" stroke=\"black\" d=\"M376.11,-125.91C376.11,-113.16 376.11,-98.68 376.11,-85.21\"/>\n<polygon fill=\"black\" stroke=\"black\" points=\"379.61,-85.16 376.11,-75.16 372.61,-85.16 379.61,-85.16\"/>\n<text text-anchor=\"middle\" x=\"381.11\" y=\"-96.75\" font-family=\"Times,serif\" font-size=\"14.00\">R</text>\n</g>\n</g>\n</svg>\n",
            "text/plain": [
              "<graphviz.graphs.Digraph at 0x7945922d5ee0>"
            ]
          },
          "metadata": {},
          "execution_count": 78
        }
      ],
      "source": [
        "#TEST TÁCH HEU\n",
        "\n",
        "start_state = Node.create_random_start()\n",
        "heuristic = ManhattanHeuristic()\n",
        "dot = illustrate_search_tree(start_state, 10, heuristic_obj= heuristic)\n",
        "dot"
      ]
    },
    {
      "cell_type": "code",
      "execution_count": null,
      "metadata": {
        "colab": {
          "base_uri": "https://localhost:8080/",
          "height": 1000
        },
        "id": "iidOS10SyKL7",
        "outputId": "12679db8-2a9a-48c1-eb0e-7b126f89e34a"
      },
      "outputs": [
        {
          "output_type": "stream",
          "name": "stdout",
          "text": [
            "Chi phi : 7\n",
            "Do dai duong di : 8\n",
            "So node duoc kiem tra : 142\n"
          ]
        },
        {
          "output_type": "execute_result",
          "data": {
            "image/svg+xml": "<?xml version=\"1.0\" encoding=\"UTF-8\" standalone=\"no\"?>\n<!DOCTYPE svg PUBLIC \"-//W3C//DTD SVG 1.1//EN\"\n \"http://www.w3.org/Graphics/SVG/1.1/DTD/svg11.dtd\">\n<!-- Generated by graphviz version 2.43.0 (0)\n -->\n<!-- Title: %3 Pages: 1 -->\n<svg width=\"109pt\" height=\"965pt\"\n viewBox=\"0.00 0.00 109.11 964.63\" xmlns=\"http://www.w3.org/2000/svg\" xmlns:xlink=\"http://www.w3.org/1999/xlink\">\n<g id=\"graph0\" class=\"graph\" transform=\"scale(1 1) rotate(0) translate(4 960.63)\">\n<title>%3</title>\n<polygon fill=\"white\" stroke=\"transparent\" points=\"-4,4 -4,-960.63 105.11,-960.63 105.11,4 -4,4\"/>\n<!-- 1 2 3\n4 5 8\n_ 7 6 -->\n<g id=\"node1\" class=\"node\">\n<title>1 2 3\n4 5 8\n_ 7 6</title>\n<ellipse fill=\"none\" stroke=\"black\" cx=\"31.11\" cy=\"-919.15\" rx=\"31.23\" ry=\"37.45\"/>\n<text text-anchor=\"middle\" x=\"31.11\" y=\"-930.45\" font-family=\"Times,serif\" font-size=\"14.00\">1 2 3</text>\n<text text-anchor=\"middle\" x=\"31.11\" y=\"-915.45\" font-family=\"Times,serif\" font-size=\"14.00\">4 5 8</text>\n<text text-anchor=\"middle\" x=\"31.11\" y=\"-900.45\" font-family=\"Times,serif\" font-size=\"14.00\">_ 7 6</text>\n</g>\n<!-- 1 2 3\n4 5 8\n7 _ 6 -->\n<g id=\"node2\" class=\"node\">\n<title>1 2 3\n4 5 8\n7 _ 6</title>\n<ellipse fill=\"none\" stroke=\"black\" cx=\"31.11\" cy=\"-793.2\" rx=\"31.23\" ry=\"37.45\"/>\n<text text-anchor=\"middle\" x=\"31.11\" y=\"-804.5\" font-family=\"Times,serif\" font-size=\"14.00\">1 2 3</text>\n<text text-anchor=\"middle\" x=\"31.11\" y=\"-789.5\" font-family=\"Times,serif\" font-size=\"14.00\">4 5 8</text>\n<text text-anchor=\"middle\" x=\"31.11\" y=\"-774.5\" font-family=\"Times,serif\" font-size=\"14.00\">7 _ 6</text>\n</g>\n<!-- 1 2 3\n4 5 8\n_ 7 6&#45;&gt;1 2 3\n4 5 8\n7 _ 6 -->\n<g id=\"edge1\" class=\"edge\">\n<title>1 2 3\n4 5 8\n_ 7 6&#45;&gt;1 2 3\n4 5 8\n7 _ 6</title>\n<path fill=\"none\" stroke=\"black\" d=\"M31.11,-881.63C31.11,-868.88 31.11,-854.4 31.11,-840.93\"/>\n<polygon fill=\"black\" stroke=\"black\" points=\"34.61,-840.88 31.11,-830.88 27.61,-840.88 34.61,-840.88\"/>\n<text text-anchor=\"middle\" x=\"35.61\" y=\"-852.47\" font-family=\"Times,serif\" font-size=\"14.00\">L</text>\n</g>\n<!-- 6 2 3\n4 5 8\n7 _ 1 -->\n<g id=\"node3\" class=\"node\">\n<title>6 2 3\n4 5 8\n7 _ 1</title>\n<ellipse fill=\"none\" stroke=\"black\" cx=\"31.11\" cy=\"-667.24\" rx=\"31.23\" ry=\"37.45\"/>\n<text text-anchor=\"middle\" x=\"31.11\" y=\"-678.54\" font-family=\"Times,serif\" font-size=\"14.00\">6 2 3</text>\n<text text-anchor=\"middle\" x=\"31.11\" y=\"-663.54\" font-family=\"Times,serif\" font-size=\"14.00\">4 5 8</text>\n<text text-anchor=\"middle\" x=\"31.11\" y=\"-648.54\" font-family=\"Times,serif\" font-size=\"14.00\">7 _ 1</text>\n</g>\n<!-- 1 2 3\n4 5 8\n7 _ 6&#45;&gt;6 2 3\n4 5 8\n7 _ 1 -->\n<g id=\"edge2\" class=\"edge\">\n<title>1 2 3\n4 5 8\n7 _ 6&#45;&gt;6 2 3\n4 5 8\n7 _ 1</title>\n<path fill=\"none\" stroke=\"black\" d=\"M31.11,-755.68C31.11,-742.93 31.11,-728.44 31.11,-714.98\"/>\n<polygon fill=\"black\" stroke=\"black\" points=\"34.61,-714.93 31.11,-704.93 27.61,-714.93 34.61,-714.93\"/>\n<text text-anchor=\"middle\" x=\"66.11\" y=\"-726.52\" font-family=\"Times,serif\" font-size=\"14.00\">Corner swap</text>\n</g>\n<!-- 6 2 3\n4 5 1\n7 _ 8 -->\n<g id=\"node4\" class=\"node\">\n<title>6 2 3\n4 5 1\n7 _ 8</title>\n<ellipse fill=\"none\" stroke=\"black\" cx=\"31.11\" cy=\"-541.29\" rx=\"31.23\" ry=\"37.45\"/>\n<text text-anchor=\"middle\" x=\"31.11\" y=\"-552.59\" font-family=\"Times,serif\" font-size=\"14.00\">6 2 3</text>\n<text text-anchor=\"middle\" x=\"31.11\" y=\"-537.59\" font-family=\"Times,serif\" font-size=\"14.00\">4 5 1</text>\n<text text-anchor=\"middle\" x=\"31.11\" y=\"-522.59\" font-family=\"Times,serif\" font-size=\"14.00\">7 _ 8</text>\n</g>\n<!-- 6 2 3\n4 5 8\n7 _ 1&#45;&gt;6 2 3\n4 5 1\n7 _ 8 -->\n<g id=\"edge3\" class=\"edge\">\n<title>6 2 3\n4 5 8\n7 _ 1&#45;&gt;6 2 3\n4 5 1\n7 _ 8</title>\n<path fill=\"none\" stroke=\"black\" d=\"M31.11,-629.72C31.11,-616.98 31.11,-602.49 31.11,-589.03\"/>\n<polygon fill=\"black\" stroke=\"black\" points=\"34.61,-588.98 31.11,-578.98 27.61,-588.98 34.61,-588.98\"/>\n<text text-anchor=\"middle\" x=\"58.61\" y=\"-600.57\" font-family=\"Times,serif\" font-size=\"14.00\">Swap 8_1</text>\n</g>\n<!-- 6 2 3\n4 5 1\n7 8 _ -->\n<g id=\"node5\" class=\"node\">\n<title>6 2 3\n4 5 1\n7 8 _</title>\n<ellipse fill=\"none\" stroke=\"black\" cx=\"31.11\" cy=\"-415.34\" rx=\"31.23\" ry=\"37.45\"/>\n<text text-anchor=\"middle\" x=\"31.11\" y=\"-426.64\" font-family=\"Times,serif\" font-size=\"14.00\">6 2 3</text>\n<text text-anchor=\"middle\" x=\"31.11\" y=\"-411.64\" font-family=\"Times,serif\" font-size=\"14.00\">4 5 1</text>\n<text text-anchor=\"middle\" x=\"31.11\" y=\"-396.64\" font-family=\"Times,serif\" font-size=\"14.00\">7 8 _</text>\n</g>\n<!-- 6 2 3\n4 5 1\n7 _ 8&#45;&gt;6 2 3\n4 5 1\n7 8 _ -->\n<g id=\"edge4\" class=\"edge\">\n<title>6 2 3\n4 5 1\n7 _ 8&#45;&gt;6 2 3\n4 5 1\n7 8 _</title>\n<path fill=\"none\" stroke=\"black\" d=\"M31.11,-503.77C31.11,-491.02 31.11,-476.54 31.11,-463.07\"/>\n<polygon fill=\"black\" stroke=\"black\" points=\"34.61,-463.02 31.11,-453.02 27.61,-463.02 34.61,-463.02\"/>\n<text text-anchor=\"middle\" x=\"35.61\" y=\"-474.61\" font-family=\"Times,serif\" font-size=\"14.00\">L</text>\n</g>\n<!-- 6 2 3\n4 5 _\n7 8 1 -->\n<g id=\"node6\" class=\"node\">\n<title>6 2 3\n4 5 _\n7 8 1</title>\n<ellipse fill=\"none\" stroke=\"black\" cx=\"31.11\" cy=\"-289.38\" rx=\"31.23\" ry=\"37.45\"/>\n<text text-anchor=\"middle\" x=\"31.11\" y=\"-300.68\" font-family=\"Times,serif\" font-size=\"14.00\">6 2 3</text>\n<text text-anchor=\"middle\" x=\"31.11\" y=\"-285.68\" font-family=\"Times,serif\" font-size=\"14.00\">4 5 _</text>\n<text text-anchor=\"middle\" x=\"31.11\" y=\"-270.68\" font-family=\"Times,serif\" font-size=\"14.00\">7 8 1</text>\n</g>\n<!-- 6 2 3\n4 5 1\n7 8 _&#45;&gt;6 2 3\n4 5 _\n7 8 1 -->\n<g id=\"edge5\" class=\"edge\">\n<title>6 2 3\n4 5 1\n7 8 _&#45;&gt;6 2 3\n4 5 _\n7 8 1</title>\n<path fill=\"none\" stroke=\"black\" d=\"M31.11,-377.82C31.11,-365.07 31.11,-350.58 31.11,-337.12\"/>\n<polygon fill=\"black\" stroke=\"black\" points=\"34.61,-337.07 31.11,-327.07 27.61,-337.07 34.61,-337.07\"/>\n<text text-anchor=\"middle\" x=\"36.11\" y=\"-348.66\" font-family=\"Times,serif\" font-size=\"14.00\">D</text>\n</g>\n<!-- 1 2 3\n4 5 _\n7 8 6 -->\n<g id=\"node7\" class=\"node\">\n<title>1 2 3\n4 5 _\n7 8 6</title>\n<ellipse fill=\"none\" stroke=\"black\" cx=\"31.11\" cy=\"-163.43\" rx=\"31.23\" ry=\"37.45\"/>\n<text text-anchor=\"middle\" x=\"31.11\" y=\"-174.73\" font-family=\"Times,serif\" font-size=\"14.00\">1 2 3</text>\n<text text-anchor=\"middle\" x=\"31.11\" y=\"-159.73\" font-family=\"Times,serif\" font-size=\"14.00\">4 5 _</text>\n<text text-anchor=\"middle\" x=\"31.11\" y=\"-144.73\" font-family=\"Times,serif\" font-size=\"14.00\">7 8 6</text>\n</g>\n<!-- 6 2 3\n4 5 _\n7 8 1&#45;&gt;1 2 3\n4 5 _\n7 8 6 -->\n<g id=\"edge6\" class=\"edge\">\n<title>6 2 3\n4 5 _\n7 8 1&#45;&gt;1 2 3\n4 5 _\n7 8 6</title>\n<path fill=\"none\" stroke=\"black\" d=\"M31.11,-251.86C31.11,-239.12 31.11,-224.63 31.11,-211.17\"/>\n<polygon fill=\"black\" stroke=\"black\" points=\"34.61,-211.12 31.11,-201.12 27.61,-211.12 34.61,-211.12\"/>\n<text text-anchor=\"middle\" x=\"66.11\" y=\"-222.71\" font-family=\"Times,serif\" font-size=\"14.00\">Corner swap</text>\n</g>\n<!-- 1 2 3\n4 5 6\n7 8 _ -->\n<g id=\"node8\" class=\"node\">\n<title>1 2 3\n4 5 6\n7 8 _</title>\n<ellipse fill=\"none\" stroke=\"black\" cx=\"31.11\" cy=\"-37.48\" rx=\"31.23\" ry=\"37.45\"/>\n<text text-anchor=\"middle\" x=\"31.11\" y=\"-48.78\" font-family=\"Times,serif\" font-size=\"14.00\">1 2 3</text>\n<text text-anchor=\"middle\" x=\"31.11\" y=\"-33.78\" font-family=\"Times,serif\" font-size=\"14.00\">4 5 6</text>\n<text text-anchor=\"middle\" x=\"31.11\" y=\"-18.78\" font-family=\"Times,serif\" font-size=\"14.00\">7 8 _</text>\n</g>\n<!-- 1 2 3\n4 5 _\n7 8 6&#45;&gt;1 2 3\n4 5 6\n7 8 _ -->\n<g id=\"edge7\" class=\"edge\">\n<title>1 2 3\n4 5 _\n7 8 6&#45;&gt;1 2 3\n4 5 6\n7 8 _</title>\n<path fill=\"none\" stroke=\"black\" d=\"M31.11,-125.91C31.11,-113.16 31.11,-98.68 31.11,-85.21\"/>\n<polygon fill=\"black\" stroke=\"black\" points=\"34.61,-85.16 31.11,-75.16 27.61,-85.16 34.61,-85.16\"/>\n<text text-anchor=\"middle\" x=\"36.11\" y=\"-96.75\" font-family=\"Times,serif\" font-size=\"14.00\">U</text>\n</g>\n</g>\n</svg>\n",
            "text/plain": [
              "<graphviz.graphs.Digraph at 0x7945936cdac0>"
            ]
          },
          "metadata": {},
          "execution_count": 79
        }
      ],
      "source": [
        "#TEST TACH HEU\n",
        "\n",
        "start_state = [[8,2,3],[4,5,6],[7,0,1]]\n",
        "#4 7 2\n",
        "#8 5 1\n",
        "#_ 3 6\n",
        "start_state_2 = [[1,2,3],\n",
        "               [4,5,8],\n",
        "               [0,7,6]]\n",
        "heuristic = ManhattanHeuristic()\n",
        "solver = A_star(Node(start_state_2), heuristic)\n",
        "path,cost,num = solver.solve()\n",
        "print(\"Chi phi :\", cost)\n",
        "print(\"Do dai duong di :\", len(path))\n",
        "print(\"So node duoc kiem tra :\", num)\n",
        "dot = Digraph()\n",
        "for node in path:\n",
        "    node.draw(dot)\n",
        "dot\n",
        "\n"
      ]
    },
    {
      "cell_type": "code",
      "execution_count": null,
      "metadata": {
        "colab": {
          "base_uri": "https://localhost:8080/",
          "height": 1000
        },
        "id": "5-_YNfGw7tOw",
        "outputId": "68627124-7205-4f85-d5b0-b328f97439a0"
      },
      "outputs": [
        {
          "output_type": "stream",
          "name": "stdout",
          "text": [
            "Chi phi : 7\n",
            "Do dai duong di : 8\n",
            "So node duoc kiem tra : 162\n"
          ]
        },
        {
          "output_type": "execute_result",
          "data": {
            "image/svg+xml": "<?xml version=\"1.0\" encoding=\"UTF-8\" standalone=\"no\"?>\n<!DOCTYPE svg PUBLIC \"-//W3C//DTD SVG 1.1//EN\"\n \"http://www.w3.org/Graphics/SVG/1.1/DTD/svg11.dtd\">\n<!-- Generated by graphviz version 2.43.0 (0)\n -->\n<!-- Title: %3 Pages: 1 -->\n<svg width=\"109pt\" height=\"965pt\"\n viewBox=\"0.00 0.00 109.11 964.63\" xmlns=\"http://www.w3.org/2000/svg\" xmlns:xlink=\"http://www.w3.org/1999/xlink\">\n<g id=\"graph0\" class=\"graph\" transform=\"scale(1 1) rotate(0) translate(4 960.63)\">\n<title>%3</title>\n<polygon fill=\"white\" stroke=\"transparent\" points=\"-4,4 -4,-960.63 105.11,-960.63 105.11,4 -4,4\"/>\n<!-- 1 2 3\n4 5 8\n_ 7 6 -->\n<g id=\"node1\" class=\"node\">\n<title>1 2 3\n4 5 8\n_ 7 6</title>\n<ellipse fill=\"none\" stroke=\"black\" cx=\"31.11\" cy=\"-919.15\" rx=\"31.23\" ry=\"37.45\"/>\n<text text-anchor=\"middle\" x=\"31.11\" y=\"-930.45\" font-family=\"Times,serif\" font-size=\"14.00\">1 2 3</text>\n<text text-anchor=\"middle\" x=\"31.11\" y=\"-915.45\" font-family=\"Times,serif\" font-size=\"14.00\">4 5 8</text>\n<text text-anchor=\"middle\" x=\"31.11\" y=\"-900.45\" font-family=\"Times,serif\" font-size=\"14.00\">_ 7 6</text>\n</g>\n<!-- 1 2 3\n4 5 8\n7 _ 6 -->\n<g id=\"node2\" class=\"node\">\n<title>1 2 3\n4 5 8\n7 _ 6</title>\n<ellipse fill=\"none\" stroke=\"black\" cx=\"31.11\" cy=\"-793.2\" rx=\"31.23\" ry=\"37.45\"/>\n<text text-anchor=\"middle\" x=\"31.11\" y=\"-804.5\" font-family=\"Times,serif\" font-size=\"14.00\">1 2 3</text>\n<text text-anchor=\"middle\" x=\"31.11\" y=\"-789.5\" font-family=\"Times,serif\" font-size=\"14.00\">4 5 8</text>\n<text text-anchor=\"middle\" x=\"31.11\" y=\"-774.5\" font-family=\"Times,serif\" font-size=\"14.00\">7 _ 6</text>\n</g>\n<!-- 1 2 3\n4 5 8\n_ 7 6&#45;&gt;1 2 3\n4 5 8\n7 _ 6 -->\n<g id=\"edge1\" class=\"edge\">\n<title>1 2 3\n4 5 8\n_ 7 6&#45;&gt;1 2 3\n4 5 8\n7 _ 6</title>\n<path fill=\"none\" stroke=\"black\" d=\"M31.11,-881.63C31.11,-868.88 31.11,-854.4 31.11,-840.93\"/>\n<polygon fill=\"black\" stroke=\"black\" points=\"34.61,-840.88 31.11,-830.88 27.61,-840.88 34.61,-840.88\"/>\n<text text-anchor=\"middle\" x=\"35.61\" y=\"-852.47\" font-family=\"Times,serif\" font-size=\"14.00\">L</text>\n</g>\n<!-- 6 2 3\n4 5 8\n7 _ 1 -->\n<g id=\"node3\" class=\"node\">\n<title>6 2 3\n4 5 8\n7 _ 1</title>\n<ellipse fill=\"none\" stroke=\"black\" cx=\"31.11\" cy=\"-667.24\" rx=\"31.23\" ry=\"37.45\"/>\n<text text-anchor=\"middle\" x=\"31.11\" y=\"-678.54\" font-family=\"Times,serif\" font-size=\"14.00\">6 2 3</text>\n<text text-anchor=\"middle\" x=\"31.11\" y=\"-663.54\" font-family=\"Times,serif\" font-size=\"14.00\">4 5 8</text>\n<text text-anchor=\"middle\" x=\"31.11\" y=\"-648.54\" font-family=\"Times,serif\" font-size=\"14.00\">7 _ 1</text>\n</g>\n<!-- 1 2 3\n4 5 8\n7 _ 6&#45;&gt;6 2 3\n4 5 8\n7 _ 1 -->\n<g id=\"edge2\" class=\"edge\">\n<title>1 2 3\n4 5 8\n7 _ 6&#45;&gt;6 2 3\n4 5 8\n7 _ 1</title>\n<path fill=\"none\" stroke=\"black\" d=\"M31.11,-755.68C31.11,-742.93 31.11,-728.44 31.11,-714.98\"/>\n<polygon fill=\"black\" stroke=\"black\" points=\"34.61,-714.93 31.11,-704.93 27.61,-714.93 34.61,-714.93\"/>\n<text text-anchor=\"middle\" x=\"66.11\" y=\"-726.52\" font-family=\"Times,serif\" font-size=\"14.00\">Corner swap</text>\n</g>\n<!-- 6 2 3\n4 5 1\n7 _ 8 -->\n<g id=\"node4\" class=\"node\">\n<title>6 2 3\n4 5 1\n7 _ 8</title>\n<ellipse fill=\"none\" stroke=\"black\" cx=\"31.11\" cy=\"-541.29\" rx=\"31.23\" ry=\"37.45\"/>\n<text text-anchor=\"middle\" x=\"31.11\" y=\"-552.59\" font-family=\"Times,serif\" font-size=\"14.00\">6 2 3</text>\n<text text-anchor=\"middle\" x=\"31.11\" y=\"-537.59\" font-family=\"Times,serif\" font-size=\"14.00\">4 5 1</text>\n<text text-anchor=\"middle\" x=\"31.11\" y=\"-522.59\" font-family=\"Times,serif\" font-size=\"14.00\">7 _ 8</text>\n</g>\n<!-- 6 2 3\n4 5 8\n7 _ 1&#45;&gt;6 2 3\n4 5 1\n7 _ 8 -->\n<g id=\"edge3\" class=\"edge\">\n<title>6 2 3\n4 5 8\n7 _ 1&#45;&gt;6 2 3\n4 5 1\n7 _ 8</title>\n<path fill=\"none\" stroke=\"black\" d=\"M31.11,-629.72C31.11,-616.98 31.11,-602.49 31.11,-589.03\"/>\n<polygon fill=\"black\" stroke=\"black\" points=\"34.61,-588.98 31.11,-578.98 27.61,-588.98 34.61,-588.98\"/>\n<text text-anchor=\"middle\" x=\"58.61\" y=\"-600.57\" font-family=\"Times,serif\" font-size=\"14.00\">Swap 8_1</text>\n</g>\n<!-- 6 2 3\n4 5 1\n7 8 _ -->\n<g id=\"node5\" class=\"node\">\n<title>6 2 3\n4 5 1\n7 8 _</title>\n<ellipse fill=\"none\" stroke=\"black\" cx=\"31.11\" cy=\"-415.34\" rx=\"31.23\" ry=\"37.45\"/>\n<text text-anchor=\"middle\" x=\"31.11\" y=\"-426.64\" font-family=\"Times,serif\" font-size=\"14.00\">6 2 3</text>\n<text text-anchor=\"middle\" x=\"31.11\" y=\"-411.64\" font-family=\"Times,serif\" font-size=\"14.00\">4 5 1</text>\n<text text-anchor=\"middle\" x=\"31.11\" y=\"-396.64\" font-family=\"Times,serif\" font-size=\"14.00\">7 8 _</text>\n</g>\n<!-- 6 2 3\n4 5 1\n7 _ 8&#45;&gt;6 2 3\n4 5 1\n7 8 _ -->\n<g id=\"edge4\" class=\"edge\">\n<title>6 2 3\n4 5 1\n7 _ 8&#45;&gt;6 2 3\n4 5 1\n7 8 _</title>\n<path fill=\"none\" stroke=\"black\" d=\"M31.11,-503.77C31.11,-491.02 31.11,-476.54 31.11,-463.07\"/>\n<polygon fill=\"black\" stroke=\"black\" points=\"34.61,-463.02 31.11,-453.02 27.61,-463.02 34.61,-463.02\"/>\n<text text-anchor=\"middle\" x=\"35.61\" y=\"-474.61\" font-family=\"Times,serif\" font-size=\"14.00\">L</text>\n</g>\n<!-- 6 2 3\n4 5 _\n7 8 1 -->\n<g id=\"node6\" class=\"node\">\n<title>6 2 3\n4 5 _\n7 8 1</title>\n<ellipse fill=\"none\" stroke=\"black\" cx=\"31.11\" cy=\"-289.38\" rx=\"31.23\" ry=\"37.45\"/>\n<text text-anchor=\"middle\" x=\"31.11\" y=\"-300.68\" font-family=\"Times,serif\" font-size=\"14.00\">6 2 3</text>\n<text text-anchor=\"middle\" x=\"31.11\" y=\"-285.68\" font-family=\"Times,serif\" font-size=\"14.00\">4 5 _</text>\n<text text-anchor=\"middle\" x=\"31.11\" y=\"-270.68\" font-family=\"Times,serif\" font-size=\"14.00\">7 8 1</text>\n</g>\n<!-- 6 2 3\n4 5 1\n7 8 _&#45;&gt;6 2 3\n4 5 _\n7 8 1 -->\n<g id=\"edge5\" class=\"edge\">\n<title>6 2 3\n4 5 1\n7 8 _&#45;&gt;6 2 3\n4 5 _\n7 8 1</title>\n<path fill=\"none\" stroke=\"black\" d=\"M31.11,-377.82C31.11,-365.07 31.11,-350.58 31.11,-337.12\"/>\n<polygon fill=\"black\" stroke=\"black\" points=\"34.61,-337.07 31.11,-327.07 27.61,-337.07 34.61,-337.07\"/>\n<text text-anchor=\"middle\" x=\"36.11\" y=\"-348.66\" font-family=\"Times,serif\" font-size=\"14.00\">D</text>\n</g>\n<!-- 1 2 3\n4 5 _\n7 8 6 -->\n<g id=\"node7\" class=\"node\">\n<title>1 2 3\n4 5 _\n7 8 6</title>\n<ellipse fill=\"none\" stroke=\"black\" cx=\"31.11\" cy=\"-163.43\" rx=\"31.23\" ry=\"37.45\"/>\n<text text-anchor=\"middle\" x=\"31.11\" y=\"-174.73\" font-family=\"Times,serif\" font-size=\"14.00\">1 2 3</text>\n<text text-anchor=\"middle\" x=\"31.11\" y=\"-159.73\" font-family=\"Times,serif\" font-size=\"14.00\">4 5 _</text>\n<text text-anchor=\"middle\" x=\"31.11\" y=\"-144.73\" font-family=\"Times,serif\" font-size=\"14.00\">7 8 6</text>\n</g>\n<!-- 6 2 3\n4 5 _\n7 8 1&#45;&gt;1 2 3\n4 5 _\n7 8 6 -->\n<g id=\"edge6\" class=\"edge\">\n<title>6 2 3\n4 5 _\n7 8 1&#45;&gt;1 2 3\n4 5 _\n7 8 6</title>\n<path fill=\"none\" stroke=\"black\" d=\"M31.11,-251.86C31.11,-239.12 31.11,-224.63 31.11,-211.17\"/>\n<polygon fill=\"black\" stroke=\"black\" points=\"34.61,-211.12 31.11,-201.12 27.61,-211.12 34.61,-211.12\"/>\n<text text-anchor=\"middle\" x=\"66.11\" y=\"-222.71\" font-family=\"Times,serif\" font-size=\"14.00\">Corner swap</text>\n</g>\n<!-- 1 2 3\n4 5 6\n7 8 _ -->\n<g id=\"node8\" class=\"node\">\n<title>1 2 3\n4 5 6\n7 8 _</title>\n<ellipse fill=\"none\" stroke=\"black\" cx=\"31.11\" cy=\"-37.48\" rx=\"31.23\" ry=\"37.45\"/>\n<text text-anchor=\"middle\" x=\"31.11\" y=\"-48.78\" font-family=\"Times,serif\" font-size=\"14.00\">1 2 3</text>\n<text text-anchor=\"middle\" x=\"31.11\" y=\"-33.78\" font-family=\"Times,serif\" font-size=\"14.00\">4 5 6</text>\n<text text-anchor=\"middle\" x=\"31.11\" y=\"-18.78\" font-family=\"Times,serif\" font-size=\"14.00\">7 8 _</text>\n</g>\n<!-- 1 2 3\n4 5 _\n7 8 6&#45;&gt;1 2 3\n4 5 6\n7 8 _ -->\n<g id=\"edge7\" class=\"edge\">\n<title>1 2 3\n4 5 _\n7 8 6&#45;&gt;1 2 3\n4 5 6\n7 8 _</title>\n<path fill=\"none\" stroke=\"black\" d=\"M31.11,-125.91C31.11,-113.16 31.11,-98.68 31.11,-85.21\"/>\n<polygon fill=\"black\" stroke=\"black\" points=\"34.61,-85.16 31.11,-75.16 27.61,-85.16 34.61,-85.16\"/>\n<text text-anchor=\"middle\" x=\"36.11\" y=\"-96.75\" font-family=\"Times,serif\" font-size=\"14.00\">U</text>\n</g>\n</g>\n</svg>\n",
            "text/plain": [
              "<graphviz.graphs.Digraph at 0x7dabe1c64e60>"
            ]
          },
          "metadata": {},
          "execution_count": 84
        }
      ],
      "source": [
        "start_state = [[8,2,3],[4,5,6],[7,0,1]]\n",
        "\n",
        "start_state_2 = [[1,2,3],\n",
        "               [4,5,8],\n",
        "               [0,7,6]]\n",
        "solver = A_star(Node(start_state_2), heuristic='m')\n",
        "path,cost,num = solver.solve()\n",
        "print(\"Chi phi :\", cost)\n",
        "print(\"Do dai duong di :\", len(path))\n",
        "print(\"So node duoc kiem tra :\", num)\n",
        "dot = Digraph()\n",
        "for node in path:\n",
        "    node.draw(dot)\n",
        "dot\n"
      ]
    },
    {
      "cell_type": "code",
      "execution_count": null,
      "metadata": {
        "colab": {
          "base_uri": "https://localhost:8080/",
          "height": 1000
        },
        "id": "XLOxhoQAffqD",
        "outputId": "c3be8d7a-05aa-4281-dab4-5890a60ecfb7"
      },
      "outputs": [
        {
          "output_type": "stream",
          "name": "stdout",
          "text": [
            "Cost: 15\n"
          ]
        },
        {
          "output_type": "execute_result",
          "data": {
            "image/svg+xml": "<?xml version=\"1.0\" encoding=\"UTF-8\" standalone=\"no\"?>\n<!DOCTYPE svg PUBLIC \"-//W3C//DTD SVG 1.1//EN\"\n \"http://www.w3.org/Graphics/SVG/1.1/DTD/svg11.dtd\">\n<!-- Generated by graphviz version 2.43.0 (0)\n -->\n<!-- Title: %3 Pages: 1 -->\n<svg width=\"109pt\" height=\"1972pt\"\n viewBox=\"0.00 0.00 109.11 1972.25\" xmlns=\"http://www.w3.org/2000/svg\" xmlns:xlink=\"http://www.w3.org/1999/xlink\">\n<g id=\"graph0\" class=\"graph\" transform=\"scale(1 1) rotate(0) translate(4 1968.25)\">\n<title>%3</title>\n<polygon fill=\"white\" stroke=\"transparent\" points=\"-4,4 -4,-1968.25 105.11,-1968.25 105.11,4 -4,4\"/>\n<!-- 4 3 _\n1 6 2\n8 5 7 -->\n<g id=\"node1\" class=\"node\">\n<title>4 3 _\n1 6 2\n8 5 7</title>\n<ellipse fill=\"none\" stroke=\"black\" cx=\"31.11\" cy=\"-1926.78\" rx=\"31.23\" ry=\"37.45\"/>\n<text text-anchor=\"middle\" x=\"31.11\" y=\"-1938.08\" font-family=\"Times,serif\" font-size=\"14.00\">4 3 _</text>\n<text text-anchor=\"middle\" x=\"31.11\" y=\"-1923.08\" font-family=\"Times,serif\" font-size=\"14.00\">1 6 2</text>\n<text text-anchor=\"middle\" x=\"31.11\" y=\"-1908.08\" font-family=\"Times,serif\" font-size=\"14.00\">8 5 7</text>\n</g>\n<!-- 4 3 2\n1 6 _\n8 5 7 -->\n<g id=\"node2\" class=\"node\">\n<title>4 3 2\n1 6 _\n8 5 7</title>\n<ellipse fill=\"none\" stroke=\"black\" cx=\"31.11\" cy=\"-1800.82\" rx=\"31.23\" ry=\"37.45\"/>\n<text text-anchor=\"middle\" x=\"31.11\" y=\"-1812.12\" font-family=\"Times,serif\" font-size=\"14.00\">4 3 2</text>\n<text text-anchor=\"middle\" x=\"31.11\" y=\"-1797.12\" font-family=\"Times,serif\" font-size=\"14.00\">1 6 _</text>\n<text text-anchor=\"middle\" x=\"31.11\" y=\"-1782.12\" font-family=\"Times,serif\" font-size=\"14.00\">8 5 7</text>\n</g>\n<!-- 4 3 _\n1 6 2\n8 5 7&#45;&gt;4 3 2\n1 6 _\n8 5 7 -->\n<g id=\"edge1\" class=\"edge\">\n<title>4 3 _\n1 6 2\n8 5 7&#45;&gt;4 3 2\n1 6 _\n8 5 7</title>\n<path fill=\"none\" stroke=\"black\" d=\"M31.11,-1889.26C31.11,-1876.51 31.11,-1862.02 31.11,-1848.56\"/>\n<polygon fill=\"black\" stroke=\"black\" points=\"34.61,-1848.51 31.11,-1838.51 27.61,-1848.51 34.61,-1848.51\"/>\n<text text-anchor=\"middle\" x=\"36.11\" y=\"-1860.1\" font-family=\"Times,serif\" font-size=\"14.00\">U</text>\n</g>\n<!-- 4 3 8\n1 6 _\n2 5 7 -->\n<g id=\"node3\" class=\"node\">\n<title>4 3 8\n1 6 _\n2 5 7</title>\n<ellipse fill=\"none\" stroke=\"black\" cx=\"31.11\" cy=\"-1674.87\" rx=\"31.23\" ry=\"37.45\"/>\n<text text-anchor=\"middle\" x=\"31.11\" y=\"-1686.17\" font-family=\"Times,serif\" font-size=\"14.00\">4 3 8</text>\n<text text-anchor=\"middle\" x=\"31.11\" y=\"-1671.17\" font-family=\"Times,serif\" font-size=\"14.00\">1 6 _</text>\n<text text-anchor=\"middle\" x=\"31.11\" y=\"-1656.17\" font-family=\"Times,serif\" font-size=\"14.00\">2 5 7</text>\n</g>\n<!-- 4 3 2\n1 6 _\n8 5 7&#45;&gt;4 3 8\n1 6 _\n2 5 7 -->\n<g id=\"edge2\" class=\"edge\">\n<title>4 3 2\n1 6 _\n8 5 7&#45;&gt;4 3 8\n1 6 _\n2 5 7</title>\n<path fill=\"none\" stroke=\"black\" d=\"M31.11,-1763.3C31.11,-1750.56 31.11,-1736.07 31.11,-1722.61\"/>\n<polygon fill=\"black\" stroke=\"black\" points=\"34.61,-1722.56 31.11,-1712.56 27.61,-1722.56 34.61,-1722.56\"/>\n<text text-anchor=\"middle\" x=\"66.11\" y=\"-1734.15\" font-family=\"Times,serif\" font-size=\"14.00\">Corner swap</text>\n</g>\n<!-- 4 3 _\n1 6 8\n2 5 7 -->\n<g id=\"node4\" class=\"node\">\n<title>4 3 _\n1 6 8\n2 5 7</title>\n<ellipse fill=\"none\" stroke=\"black\" cx=\"31.11\" cy=\"-1548.92\" rx=\"31.23\" ry=\"37.45\"/>\n<text text-anchor=\"middle\" x=\"31.11\" y=\"-1560.22\" font-family=\"Times,serif\" font-size=\"14.00\">4 3 _</text>\n<text text-anchor=\"middle\" x=\"31.11\" y=\"-1545.22\" font-family=\"Times,serif\" font-size=\"14.00\">1 6 8</text>\n<text text-anchor=\"middle\" x=\"31.11\" y=\"-1530.22\" font-family=\"Times,serif\" font-size=\"14.00\">2 5 7</text>\n</g>\n<!-- 4 3 8\n1 6 _\n2 5 7&#45;&gt;4 3 _\n1 6 8\n2 5 7 -->\n<g id=\"edge3\" class=\"edge\">\n<title>4 3 8\n1 6 _\n2 5 7&#45;&gt;4 3 _\n1 6 8\n2 5 7</title>\n<path fill=\"none\" stroke=\"black\" d=\"M31.11,-1637.35C31.11,-1624.6 31.11,-1610.12 31.11,-1596.65\"/>\n<polygon fill=\"black\" stroke=\"black\" points=\"34.61,-1596.6 31.11,-1586.6 27.61,-1596.6 34.61,-1596.6\"/>\n<text text-anchor=\"middle\" x=\"36.11\" y=\"-1608.19\" font-family=\"Times,serif\" font-size=\"14.00\">D</text>\n</g>\n<!-- 4 _ 3\n1 6 8\n2 5 7 -->\n<g id=\"node5\" class=\"node\">\n<title>4 _ 3\n1 6 8\n2 5 7</title>\n<ellipse fill=\"none\" stroke=\"black\" cx=\"31.11\" cy=\"-1422.96\" rx=\"31.23\" ry=\"37.45\"/>\n<text text-anchor=\"middle\" x=\"31.11\" y=\"-1434.26\" font-family=\"Times,serif\" font-size=\"14.00\">4 _ 3</text>\n<text text-anchor=\"middle\" x=\"31.11\" y=\"-1419.26\" font-family=\"Times,serif\" font-size=\"14.00\">1 6 8</text>\n<text text-anchor=\"middle\" x=\"31.11\" y=\"-1404.26\" font-family=\"Times,serif\" font-size=\"14.00\">2 5 7</text>\n</g>\n<!-- 4 3 _\n1 6 8\n2 5 7&#45;&gt;4 _ 3\n1 6 8\n2 5 7 -->\n<g id=\"edge4\" class=\"edge\">\n<title>4 3 _\n1 6 8\n2 5 7&#45;&gt;4 _ 3\n1 6 8\n2 5 7</title>\n<path fill=\"none\" stroke=\"black\" d=\"M31.11,-1511.4C31.11,-1498.65 31.11,-1484.16 31.11,-1470.7\"/>\n<polygon fill=\"black\" stroke=\"black\" points=\"34.61,-1470.65 31.11,-1460.65 27.61,-1470.65 34.61,-1470.65\"/>\n<text text-anchor=\"middle\" x=\"36.11\" y=\"-1482.24\" font-family=\"Times,serif\" font-size=\"14.00\">R</text>\n</g>\n<!-- _ 4 3\n1 6 8\n2 5 7 -->\n<g id=\"node6\" class=\"node\">\n<title>_ 4 3\n1 6 8\n2 5 7</title>\n<ellipse fill=\"none\" stroke=\"black\" cx=\"31.11\" cy=\"-1297.01\" rx=\"31.23\" ry=\"37.45\"/>\n<text text-anchor=\"middle\" x=\"31.11\" y=\"-1308.31\" font-family=\"Times,serif\" font-size=\"14.00\">_ 4 3</text>\n<text text-anchor=\"middle\" x=\"31.11\" y=\"-1293.31\" font-family=\"Times,serif\" font-size=\"14.00\">1 6 8</text>\n<text text-anchor=\"middle\" x=\"31.11\" y=\"-1278.31\" font-family=\"Times,serif\" font-size=\"14.00\">2 5 7</text>\n</g>\n<!-- 4 _ 3\n1 6 8\n2 5 7&#45;&gt;_ 4 3\n1 6 8\n2 5 7 -->\n<g id=\"edge5\" class=\"edge\">\n<title>4 _ 3\n1 6 8\n2 5 7&#45;&gt;_ 4 3\n1 6 8\n2 5 7</title>\n<path fill=\"none\" stroke=\"black\" d=\"M31.11,-1385.44C31.11,-1372.7 31.11,-1358.21 31.11,-1344.75\"/>\n<polygon fill=\"black\" stroke=\"black\" points=\"34.61,-1344.7 31.11,-1334.7 27.61,-1344.7 34.61,-1344.7\"/>\n<text text-anchor=\"middle\" x=\"36.11\" y=\"-1356.29\" font-family=\"Times,serif\" font-size=\"14.00\">R</text>\n</g>\n<!-- _ 4 2\n1 6 8\n3 5 7 -->\n<g id=\"node7\" class=\"node\">\n<title>_ 4 2\n1 6 8\n3 5 7</title>\n<ellipse fill=\"none\" stroke=\"black\" cx=\"31.11\" cy=\"-1171.06\" rx=\"31.23\" ry=\"37.45\"/>\n<text text-anchor=\"middle\" x=\"31.11\" y=\"-1182.36\" font-family=\"Times,serif\" font-size=\"14.00\">_ 4 2</text>\n<text text-anchor=\"middle\" x=\"31.11\" y=\"-1167.36\" font-family=\"Times,serif\" font-size=\"14.00\">1 6 8</text>\n<text text-anchor=\"middle\" x=\"31.11\" y=\"-1152.36\" font-family=\"Times,serif\" font-size=\"14.00\">3 5 7</text>\n</g>\n<!-- _ 4 3\n1 6 8\n2 5 7&#45;&gt;_ 4 2\n1 6 8\n3 5 7 -->\n<g id=\"edge6\" class=\"edge\">\n<title>_ 4 3\n1 6 8\n2 5 7&#45;&gt;_ 4 2\n1 6 8\n3 5 7</title>\n<path fill=\"none\" stroke=\"black\" d=\"M31.11,-1259.49C31.11,-1246.74 31.11,-1232.26 31.11,-1218.79\"/>\n<polygon fill=\"black\" stroke=\"black\" points=\"34.61,-1218.74 31.11,-1208.74 27.61,-1218.74 34.61,-1218.74\"/>\n<text text-anchor=\"middle\" x=\"66.11\" y=\"-1230.33\" font-family=\"Times,serif\" font-size=\"14.00\">Corner swap</text>\n</g>\n<!-- 1 4 2\n_ 6 8\n3 5 7 -->\n<g id=\"node8\" class=\"node\">\n<title>1 4 2\n_ 6 8\n3 5 7</title>\n<ellipse fill=\"none\" stroke=\"black\" cx=\"31.11\" cy=\"-1045.1\" rx=\"31.23\" ry=\"37.45\"/>\n<text text-anchor=\"middle\" x=\"31.11\" y=\"-1056.4\" font-family=\"Times,serif\" font-size=\"14.00\">1 4 2</text>\n<text text-anchor=\"middle\" x=\"31.11\" y=\"-1041.4\" font-family=\"Times,serif\" font-size=\"14.00\">_ 6 8</text>\n<text text-anchor=\"middle\" x=\"31.11\" y=\"-1026.4\" font-family=\"Times,serif\" font-size=\"14.00\">3 5 7</text>\n</g>\n<!-- _ 4 2\n1 6 8\n3 5 7&#45;&gt;1 4 2\n_ 6 8\n3 5 7 -->\n<g id=\"edge7\" class=\"edge\">\n<title>_ 4 2\n1 6 8\n3 5 7&#45;&gt;1 4 2\n_ 6 8\n3 5 7</title>\n<path fill=\"none\" stroke=\"black\" d=\"M31.11,-1133.54C31.11,-1120.79 31.11,-1106.3 31.11,-1092.84\"/>\n<polygon fill=\"black\" stroke=\"black\" points=\"34.61,-1092.79 31.11,-1082.79 27.61,-1092.79 34.61,-1092.79\"/>\n<text text-anchor=\"middle\" x=\"36.11\" y=\"-1104.38\" font-family=\"Times,serif\" font-size=\"14.00\">U</text>\n</g>\n<!-- 1 4 2\n6 _ 8\n3 5 7 -->\n<g id=\"node9\" class=\"node\">\n<title>1 4 2\n6 _ 8\n3 5 7</title>\n<ellipse fill=\"none\" stroke=\"black\" cx=\"31.11\" cy=\"-919.15\" rx=\"31.23\" ry=\"37.45\"/>\n<text text-anchor=\"middle\" x=\"31.11\" y=\"-930.45\" font-family=\"Times,serif\" font-size=\"14.00\">1 4 2</text>\n<text text-anchor=\"middle\" x=\"31.11\" y=\"-915.45\" font-family=\"Times,serif\" font-size=\"14.00\">6 _ 8</text>\n<text text-anchor=\"middle\" x=\"31.11\" y=\"-900.45\" font-family=\"Times,serif\" font-size=\"14.00\">3 5 7</text>\n</g>\n<!-- 1 4 2\n_ 6 8\n3 5 7&#45;&gt;1 4 2\n6 _ 8\n3 5 7 -->\n<g id=\"edge8\" class=\"edge\">\n<title>1 4 2\n_ 6 8\n3 5 7&#45;&gt;1 4 2\n6 _ 8\n3 5 7</title>\n<path fill=\"none\" stroke=\"black\" d=\"M31.11,-1007.58C31.11,-994.84 31.11,-980.35 31.11,-966.89\"/>\n<polygon fill=\"black\" stroke=\"black\" points=\"34.61,-966.84 31.11,-956.84 27.61,-966.84 34.61,-966.84\"/>\n<text text-anchor=\"middle\" x=\"35.61\" y=\"-978.43\" font-family=\"Times,serif\" font-size=\"14.00\">L</text>\n</g>\n<!-- 1 4 2\n6 5 8\n3 _ 7 -->\n<g id=\"node10\" class=\"node\">\n<title>1 4 2\n6 5 8\n3 _ 7</title>\n<ellipse fill=\"none\" stroke=\"black\" cx=\"31.11\" cy=\"-793.2\" rx=\"31.23\" ry=\"37.45\"/>\n<text text-anchor=\"middle\" x=\"31.11\" y=\"-804.5\" font-family=\"Times,serif\" font-size=\"14.00\">1 4 2</text>\n<text text-anchor=\"middle\" x=\"31.11\" y=\"-789.5\" font-family=\"Times,serif\" font-size=\"14.00\">6 5 8</text>\n<text text-anchor=\"middle\" x=\"31.11\" y=\"-774.5\" font-family=\"Times,serif\" font-size=\"14.00\">3 _ 7</text>\n</g>\n<!-- 1 4 2\n6 _ 8\n3 5 7&#45;&gt;1 4 2\n6 5 8\n3 _ 7 -->\n<g id=\"edge9\" class=\"edge\">\n<title>1 4 2\n6 _ 8\n3 5 7&#45;&gt;1 4 2\n6 5 8\n3 _ 7</title>\n<path fill=\"none\" stroke=\"black\" d=\"M31.11,-881.63C31.11,-868.88 31.11,-854.4 31.11,-840.93\"/>\n<polygon fill=\"black\" stroke=\"black\" points=\"34.61,-840.88 31.11,-830.88 27.61,-840.88 34.61,-840.88\"/>\n<text text-anchor=\"middle\" x=\"36.11\" y=\"-852.47\" font-family=\"Times,serif\" font-size=\"14.00\">U</text>\n</g>\n<!-- 1 4 2\n6 5 8\n3 7 _ -->\n<g id=\"node11\" class=\"node\">\n<title>1 4 2\n6 5 8\n3 7 _</title>\n<ellipse fill=\"none\" stroke=\"black\" cx=\"31.11\" cy=\"-667.24\" rx=\"31.23\" ry=\"37.45\"/>\n<text text-anchor=\"middle\" x=\"31.11\" y=\"-678.54\" font-family=\"Times,serif\" font-size=\"14.00\">1 4 2</text>\n<text text-anchor=\"middle\" x=\"31.11\" y=\"-663.54\" font-family=\"Times,serif\" font-size=\"14.00\">6 5 8</text>\n<text text-anchor=\"middle\" x=\"31.11\" y=\"-648.54\" font-family=\"Times,serif\" font-size=\"14.00\">3 7 _</text>\n</g>\n<!-- 1 4 2\n6 5 8\n3 _ 7&#45;&gt;1 4 2\n6 5 8\n3 7 _ -->\n<g id=\"edge10\" class=\"edge\">\n<title>1 4 2\n6 5 8\n3 _ 7&#45;&gt;1 4 2\n6 5 8\n3 7 _</title>\n<path fill=\"none\" stroke=\"black\" d=\"M31.11,-755.68C31.11,-742.93 31.11,-728.44 31.11,-714.98\"/>\n<polygon fill=\"black\" stroke=\"black\" points=\"34.61,-714.93 31.11,-704.93 27.61,-714.93 34.61,-714.93\"/>\n<text text-anchor=\"middle\" x=\"35.61\" y=\"-726.52\" font-family=\"Times,serif\" font-size=\"14.00\">L</text>\n</g>\n<!-- 1 4 2\n3 5 8\n6 7 _ -->\n<g id=\"node12\" class=\"node\">\n<title>1 4 2\n3 5 8\n6 7 _</title>\n<ellipse fill=\"none\" stroke=\"black\" cx=\"31.11\" cy=\"-541.29\" rx=\"31.23\" ry=\"37.45\"/>\n<text text-anchor=\"middle\" x=\"31.11\" y=\"-552.59\" font-family=\"Times,serif\" font-size=\"14.00\">1 4 2</text>\n<text text-anchor=\"middle\" x=\"31.11\" y=\"-537.59\" font-family=\"Times,serif\" font-size=\"14.00\">3 5 8</text>\n<text text-anchor=\"middle\" x=\"31.11\" y=\"-522.59\" font-family=\"Times,serif\" font-size=\"14.00\">6 7 _</text>\n</g>\n<!-- 1 4 2\n6 5 8\n3 7 _&#45;&gt;1 4 2\n3 5 8\n6 7 _ -->\n<g id=\"edge11\" class=\"edge\">\n<title>1 4 2\n6 5 8\n3 7 _&#45;&gt;1 4 2\n3 5 8\n6 7 _</title>\n<path fill=\"none\" stroke=\"black\" d=\"M31.11,-629.72C31.11,-616.98 31.11,-602.49 31.11,-589.03\"/>\n<polygon fill=\"black\" stroke=\"black\" points=\"34.61,-588.98 31.11,-578.98 27.61,-588.98 34.61,-588.98\"/>\n<text text-anchor=\"middle\" x=\"58.61\" y=\"-600.57\" font-family=\"Times,serif\" font-size=\"14.00\">Swap 6_3</text>\n</g>\n<!-- 1 4 2\n3 5 _\n6 7 8 -->\n<g id=\"node13\" class=\"node\">\n<title>1 4 2\n3 5 _\n6 7 8</title>\n<ellipse fill=\"none\" stroke=\"black\" cx=\"31.11\" cy=\"-415.34\" rx=\"31.23\" ry=\"37.45\"/>\n<text text-anchor=\"middle\" x=\"31.11\" y=\"-426.64\" font-family=\"Times,serif\" font-size=\"14.00\">1 4 2</text>\n<text text-anchor=\"middle\" x=\"31.11\" y=\"-411.64\" font-family=\"Times,serif\" font-size=\"14.00\">3 5 _</text>\n<text text-anchor=\"middle\" x=\"31.11\" y=\"-396.64\" font-family=\"Times,serif\" font-size=\"14.00\">6 7 8</text>\n</g>\n<!-- 1 4 2\n3 5 8\n6 7 _&#45;&gt;1 4 2\n3 5 _\n6 7 8 -->\n<g id=\"edge12\" class=\"edge\">\n<title>1 4 2\n3 5 8\n6 7 _&#45;&gt;1 4 2\n3 5 _\n6 7 8</title>\n<path fill=\"none\" stroke=\"black\" d=\"M31.11,-503.77C31.11,-491.02 31.11,-476.54 31.11,-463.07\"/>\n<polygon fill=\"black\" stroke=\"black\" points=\"34.61,-463.02 31.11,-453.02 27.61,-463.02 34.61,-463.02\"/>\n<text text-anchor=\"middle\" x=\"36.11\" y=\"-474.61\" font-family=\"Times,serif\" font-size=\"14.00\">D</text>\n</g>\n<!-- 1 4 2\n3 _ 5\n6 7 8 -->\n<g id=\"node14\" class=\"node\">\n<title>1 4 2\n3 _ 5\n6 7 8</title>\n<ellipse fill=\"none\" stroke=\"black\" cx=\"31.11\" cy=\"-289.38\" rx=\"31.23\" ry=\"37.45\"/>\n<text text-anchor=\"middle\" x=\"31.11\" y=\"-300.68\" font-family=\"Times,serif\" font-size=\"14.00\">1 4 2</text>\n<text text-anchor=\"middle\" x=\"31.11\" y=\"-285.68\" font-family=\"Times,serif\" font-size=\"14.00\">3 _ 5</text>\n<text text-anchor=\"middle\" x=\"31.11\" y=\"-270.68\" font-family=\"Times,serif\" font-size=\"14.00\">6 7 8</text>\n</g>\n<!-- 1 4 2\n3 5 _\n6 7 8&#45;&gt;1 4 2\n3 _ 5\n6 7 8 -->\n<g id=\"edge13\" class=\"edge\">\n<title>1 4 2\n3 5 _\n6 7 8&#45;&gt;1 4 2\n3 _ 5\n6 7 8</title>\n<path fill=\"none\" stroke=\"black\" d=\"M31.11,-377.82C31.11,-365.07 31.11,-350.58 31.11,-337.12\"/>\n<polygon fill=\"black\" stroke=\"black\" points=\"34.61,-337.07 31.11,-327.07 27.61,-337.07 34.61,-337.07\"/>\n<text text-anchor=\"middle\" x=\"36.11\" y=\"-348.66\" font-family=\"Times,serif\" font-size=\"14.00\">R</text>\n</g>\n<!-- 1 _ 2\n3 4 5\n6 7 8 -->\n<g id=\"node15\" class=\"node\">\n<title>1 _ 2\n3 4 5\n6 7 8</title>\n<ellipse fill=\"none\" stroke=\"black\" cx=\"31.11\" cy=\"-163.43\" rx=\"31.23\" ry=\"37.45\"/>\n<text text-anchor=\"middle\" x=\"31.11\" y=\"-174.73\" font-family=\"Times,serif\" font-size=\"14.00\">1 _ 2</text>\n<text text-anchor=\"middle\" x=\"31.11\" y=\"-159.73\" font-family=\"Times,serif\" font-size=\"14.00\">3 4 5</text>\n<text text-anchor=\"middle\" x=\"31.11\" y=\"-144.73\" font-family=\"Times,serif\" font-size=\"14.00\">6 7 8</text>\n</g>\n<!-- 1 4 2\n3 _ 5\n6 7 8&#45;&gt;1 _ 2\n3 4 5\n6 7 8 -->\n<g id=\"edge14\" class=\"edge\">\n<title>1 4 2\n3 _ 5\n6 7 8&#45;&gt;1 _ 2\n3 4 5\n6 7 8</title>\n<path fill=\"none\" stroke=\"black\" d=\"M31.11,-251.86C31.11,-239.12 31.11,-224.63 31.11,-211.17\"/>\n<polygon fill=\"black\" stroke=\"black\" points=\"34.61,-211.12 31.11,-201.12 27.61,-211.12 34.61,-211.12\"/>\n<text text-anchor=\"middle\" x=\"36.11\" y=\"-222.71\" font-family=\"Times,serif\" font-size=\"14.00\">D</text>\n</g>\n<!-- _ 1 2\n3 4 5\n6 7 8 -->\n<g id=\"node16\" class=\"node\">\n<title>_ 1 2\n3 4 5\n6 7 8</title>\n<ellipse fill=\"none\" stroke=\"black\" cx=\"31.11\" cy=\"-37.48\" rx=\"31.23\" ry=\"37.45\"/>\n<text text-anchor=\"middle\" x=\"31.11\" y=\"-48.78\" font-family=\"Times,serif\" font-size=\"14.00\">_ 1 2</text>\n<text text-anchor=\"middle\" x=\"31.11\" y=\"-33.78\" font-family=\"Times,serif\" font-size=\"14.00\">3 4 5</text>\n<text text-anchor=\"middle\" x=\"31.11\" y=\"-18.78\" font-family=\"Times,serif\" font-size=\"14.00\">6 7 8</text>\n</g>\n<!-- 1 _ 2\n3 4 5\n6 7 8&#45;&gt;_ 1 2\n3 4 5\n6 7 8 -->\n<g id=\"edge15\" class=\"edge\">\n<title>1 _ 2\n3 4 5\n6 7 8&#45;&gt;_ 1 2\n3 4 5\n6 7 8</title>\n<path fill=\"none\" stroke=\"black\" d=\"M31.11,-125.91C31.11,-113.16 31.11,-98.68 31.11,-85.21\"/>\n<polygon fill=\"black\" stroke=\"black\" points=\"34.61,-85.16 31.11,-75.16 27.61,-85.16 34.61,-85.16\"/>\n<text text-anchor=\"middle\" x=\"36.11\" y=\"-96.75\" font-family=\"Times,serif\" font-size=\"14.00\">R</text>\n</g>\n</g>\n</svg>\n",
            "text/plain": [
              "<graphviz.graphs.Digraph at 0x7dabfd29c8f0>"
            ]
          },
          "metadata": {},
          "execution_count": 85
        }
      ],
      "source": [
        "start_node = Node.create_random_start()  #Test hàm ngẫu nhiên\n",
        "solver = A_star(start_node, heuristic='manhattan')\n",
        "path,cost ,num= solver.solve()\n",
        "print(\"Cost:\", cost)\n",
        "\n",
        "dot = Digraph()\n",
        "for node in path:\n",
        "    node.draw(dot)\n",
        "dot\n"
      ]
    },
    {
      "cell_type": "code",
      "execution_count": null,
      "metadata": {
        "colab": {
          "base_uri": "https://localhost:8080/"
        },
        "id": "1G8Rw_FxHfrc",
        "outputId": "b38fc563-b9d1-4e97-a625-654672dadae0"
      },
      "outputs": [
        {
          "output_type": "stream",
          "name": "stdout",
          "text": [
            "Cost: 7\n",
            "Length of path: 8\n",
            "Nodes expanded: 14464\n"
          ]
        }
      ],
      "source": [
        "start_state = [[1,2,3],\n",
        "               [4,5,8],\n",
        "               [0,7,6]]   # easy state (chỉ 2 bước đến goal)\n",
        "\n",
        "bfs_solver = BFS(Node(start_state), max_limit=20000)\n",
        "path, cost, nodes_expanded= bfs_solver.solve()\n",
        "\n",
        "print(\"Cost:\", cost)\n",
        "print(\"Length of path:\", len(path) if path else None)\n",
        "print(\"Nodes expanded:\", nodes_expanded)\n",
        "\n"
      ]
    },
    {
      "cell_type": "code",
      "execution_count": null,
      "metadata": {
        "colab": {
          "base_uri": "https://localhost:8080/"
        },
        "id": "keKKnnWXRLrc",
        "outputId": "ceb912ef-3ce2-4b03-f3c9-19a338978c5e"
      },
      "outputs": [
        {
          "output_type": "stream",
          "name": "stdout",
          "text": [
            "Algorithm       Cost       Path length     Nodes expanded  Time (ms) \n",
            "BFS             7          8               14464           3710.29\n",
            "A* Manhattan    7          8               142             45.65\n",
            "A* Misplaced    7          8               162             28.78\n"
          ]
        }
      ],
      "source": [
        "import time\n",
        "\n",
        "def run_experiment(start_state):\n",
        "    results = []\n",
        "\n",
        "    # BFS\n",
        "    bfs_solver = BFS(Node(start_state))\n",
        "    t0 = time.time()\n",
        "    path, cost, nodes = bfs_solver.solve()\n",
        "    t1 = time.time()\n",
        "    results.append((\"BFS\", cost, len(path) if path else None, nodes, (t1 - t0)*1000))\n",
        "\n",
        "    # A* Manhattan\n",
        "    #astar_m = A_star(Node(start_state), heuristic='manhattan')\n",
        "    astar_m = A_star(Node(start_state), heuristic=ManhattanHeuristic())\n",
        "    t0 = time.time()\n",
        "    path, cost, nodes = astar_m.solve()\n",
        "    t1 = time.time()\n",
        "    results.append((\"A* Manhattan\", cost, len(path) if path else None, nodes, (t1 - t0)*1000))\n",
        "\n",
        "    # A* Misplaced\n",
        "    #astar_mp = A_star(Node(start_state), heuristic='misplaced')\n",
        "    astar_mp = A_star(Node(start_state), heuristic=MisplacedHeuristic())\n",
        "    t0 = time.time()\n",
        "    path, cost, nodes = astar_mp.solve()\n",
        "    t1 = time.time()\n",
        "    results.append((\"A* Misplaced\", cost, len(path) if path else None, nodes, (t1 - t0)*1000))\n",
        "\n",
        "    return results\n",
        "\n",
        "\n",
        "# Ví dụ test với một state\n",
        "start_state = [[1,2,3],\n",
        "               [4,5,8],\n",
        "               [0,7,6]]\n",
        "\n",
        "results = run_experiment(start_state)\n",
        "\n",
        "# In bảng kết quả\n",
        "print(\"{:<15} {:<10} {:<15} {:<15} {:<10}\".format(\"Algorithm\", \"Cost\", \"Path length\", \"Nodes expanded\", \"Time (ms)\"))\n",
        "for algo, cost, path_len, nodes, time_ms in results:\n",
        "    print(\"{:<15} {:<10} {:<15} {:<15} {:.2f}\".format(algo, cost, path_len, nodes, time_ms))\n"
      ]
    },
    {
      "cell_type": "code",
      "execution_count": null,
      "metadata": {
        "id": "38NZbzW2gFJp"
      },
      "outputs": [],
      "source": [
        "import statistics\n",
        "\n",
        "def experiment(num_trials=10):\n",
        "    \"\"\"So sánh hiệu quả giữa 2 heuristic của A* bằng cách thử nhiều state ngẫu nhiên\"\"\"\n",
        "    results = {\n",
        "        'manhattan': {'costs': [], 'nodes': []},\n",
        "        'misplaced': {'costs': [], 'nodes': []}\n",
        "    }\n",
        "\n",
        "    for i in range(num_trials):\n",
        "        # Tạo state ngẫu nhiên\n",
        "        start_node = Node.create_random_start()\n",
        "\n",
        "        # Chạy A* với Manhattan\n",
        "        #solver_manhattan = A_star(start_node, heuristic='manhattan')\n",
        "        solver_manhattan = A_star(start_node, heuristic=ManhattanHeuristic())\n",
        "        path_manh, cost_manh, nodes_manh = solver_manhattan.solve()\n",
        "        if path_manh is not None:\n",
        "            results['manhattan']['costs'].append(cost_manh)\n",
        "            results['manhattan']['nodes'].append(nodes_manh)\n",
        "\n",
        "        # Chạy A* với Misplaced\n",
        "        solver_misplaced = A_star(start_node, heuristic=MisplacedHeuristic())\n",
        "        path_mis, cost_mis, nodes_mis = solver_misplaced.solve()\n",
        "        if path_mis is not None:\n",
        "            results['misplaced']['costs'].append(cost_mis)\n",
        "            results['misplaced']['nodes'].append(nodes_mis)\n",
        "\n",
        "        print(f\"Trial {i+1}/{num_trials} completed.\")\n",
        "\n",
        "    # Tính trung bình\n",
        "    print(\"\\nCOMPARED 2 HEURISTIC\")\n",
        "    for h in ['manhattan', 'misplaced']:\n",
        "        avg_cost = statistics.mean(results[h]['costs']) if results[h]['costs'] else float('nan')\n",
        "        avg_nodes = statistics.mean(results[h]['nodes']) if results[h]['nodes'] else float('nan')\n",
        "        print(f\"Heuristic: {h}\")\n",
        "        print(f\"Average Path Cost   = {avg_cost:.2f}\")\n",
        "        print(f\"Average Nodes Expanded = {avg_nodes:.2f}\")\n",
        "        print()\n",
        "\n",
        "    return results\n"
      ]
    },
    {
      "cell_type": "code",
      "execution_count": null,
      "metadata": {
        "colab": {
          "base_uri": "https://localhost:8080/"
        },
        "id": "_evy4oXYgS2t",
        "outputId": "e1489d3e-b082-42a2-a656-ccd50d1dabe6"
      },
      "outputs": [
        {
          "output_type": "stream",
          "name": "stdout",
          "text": [
            "Trial 1/5 completed.\n",
            "Trial 2/5 completed.\n",
            "Trial 3/5 completed.\n",
            "Trial 4/5 completed.\n",
            "Trial 5/5 completed.\n",
            "\n",
            "COMPARED 2 HEURISTIC\n",
            "Heuristic: manhattan\n",
            "Average Path Cost   = 14.00\n",
            "Average Nodes Expanded = 11517.20\n",
            "\n",
            "Heuristic: misplaced\n",
            "Average Path Cost   = 14.00\n",
            "Average Nodes Expanded = 44641.00\n",
            "\n"
          ]
        }
      ],
      "source": [
        "results = experiment(num_trials=5)\n"
      ]
    }
  ],
  "metadata": {
    "colab": {
      "provenance": []
    },
    "kernelspec": {
      "display_name": "Python 3",
      "name": "python3"
    },
    "language_info": {
      "name": "python"
    }
  },
  "nbformat": 4,
  "nbformat_minor": 0
}